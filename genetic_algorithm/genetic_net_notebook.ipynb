{
 "cells": [
  {
   "cell_type": "code",
   "execution_count": 1,
   "metadata": {},
   "outputs": [],
   "source": [
    "\n",
    "from sklearn.metrics import r2_score\n",
    "import copy\n",
    "import operator\n",
    "from tensorflow.keras.losses import BinaryCrossentropy\n",
    "import random\n",
    "import pandas as pd\n",
    "import keras.metrics as metrics\n",
    "import numpy as np\n",
    "import matplotlib.pyplot as plt\n",
    "import seaborn as sns\n",
    "from keras.models import Sequential, Model\n",
    "from keras.layers import Dense, Input\n",
    "from keras.optimizers import Adam\n",
    "from sklearn.preprocessing import MinMaxScaler\n",
    "from sklearn.decomposition import PCA\n",
    "from sklearn.model_selection import train_test_split\n",
    "from sklearn.preprocessing import StandardScaler\n",
    "import sys\n",
    "\n",
    "import tensorflow as tf\n",
    "import numpy as np\n",
    "\n",
    "from tensorflow.keras.layers import Flatten,Dense,Input,Reshape\n",
    "from tensorflow.keras.models import Sequential\n",
    "from random import randrange\n",
    "\n"
   ]
  },
  {
   "cell_type": "code",
   "execution_count": 2,
   "metadata": {},
   "outputs": [],
   "source": [
    "from genetic_algorithm_net import GA"
   ]
  },
  {
   "cell_type": "markdown",
   "metadata": {},
   "source": [
    "### Import dataset"
   ]
  },
  {
   "cell_type": "code",
   "execution_count": 3,
   "metadata": {},
   "outputs": [],
   "source": [
    "df = pd.read_csv('../Data/processed_df.csv')"
   ]
  },
  {
   "cell_type": "code",
   "execution_count": 4,
   "metadata": {},
   "outputs": [
    {
     "data": {
      "text/html": [
       "<div>\n",
       "<style scoped>\n",
       "    .dataframe tbody tr th:only-of-type {\n",
       "        vertical-align: middle;\n",
       "    }\n",
       "\n",
       "    .dataframe tbody tr th {\n",
       "        vertical-align: top;\n",
       "    }\n",
       "\n",
       "    .dataframe thead th {\n",
       "        text-align: right;\n",
       "    }\n",
       "</style>\n",
       "<table border=\"1\" class=\"dataframe\">\n",
       "  <thead>\n",
       "    <tr style=\"text-align: right;\">\n",
       "      <th></th>\n",
       "      <th>handgrip</th>\n",
       "      <th>weight_loss</th>\n",
       "      <th>exaustion</th>\n",
       "      <th>poor_endurance</th>\n",
       "      <th>gait_speed</th>\n",
       "      <th>balance</th>\n",
       "      <th>hearing_deficit</th>\n",
       "      <th>distance_vision</th>\n",
       "      <th>near_vision</th>\n",
       "      <th>depression_scale</th>\n",
       "      <th>...</th>\n",
       "      <th>idade_morador_8</th>\n",
       "      <th>idade_morador_9</th>\n",
       "      <th>idade_morador_10</th>\n",
       "      <th>idade_morador_11</th>\n",
       "      <th>idade_morador_12</th>\n",
       "      <th>idade_morador_13</th>\n",
       "      <th>idade_morador_14</th>\n",
       "      <th>adl_index</th>\n",
       "      <th>aadl_index</th>\n",
       "      <th>iadl_index</th>\n",
       "    </tr>\n",
       "  </thead>\n",
       "  <tbody>\n",
       "    <tr>\n",
       "      <th>0</th>\n",
       "      <td>24.333333</td>\n",
       "      <td>0.0</td>\n",
       "      <td>1.0</td>\n",
       "      <td>1.0</td>\n",
       "      <td>3.500</td>\n",
       "      <td>4.0</td>\n",
       "      <td>2.0</td>\n",
       "      <td>2.0</td>\n",
       "      <td>2.0</td>\n",
       "      <td>2.0</td>\n",
       "      <td>...</td>\n",
       "      <td>NaN</td>\n",
       "      <td>NaN</td>\n",
       "      <td>NaN</td>\n",
       "      <td>NaN</td>\n",
       "      <td>NaN</td>\n",
       "      <td>NaN</td>\n",
       "      <td>NaN</td>\n",
       "      <td>6.0</td>\n",
       "      <td>7.0</td>\n",
       "      <td>8.0</td>\n",
       "    </tr>\n",
       "    <tr>\n",
       "      <th>1</th>\n",
       "      <td>25.666667</td>\n",
       "      <td>0.0</td>\n",
       "      <td>1.0</td>\n",
       "      <td>1.0</td>\n",
       "      <td>3.300</td>\n",
       "      <td>4.0</td>\n",
       "      <td>4.0</td>\n",
       "      <td>3.0</td>\n",
       "      <td>3.0</td>\n",
       "      <td>2.0</td>\n",
       "      <td>...</td>\n",
       "      <td>NaN</td>\n",
       "      <td>NaN</td>\n",
       "      <td>NaN</td>\n",
       "      <td>NaN</td>\n",
       "      <td>NaN</td>\n",
       "      <td>NaN</td>\n",
       "      <td>NaN</td>\n",
       "      <td>5.0</td>\n",
       "      <td>4.0</td>\n",
       "      <td>8.0</td>\n",
       "    </tr>\n",
       "    <tr>\n",
       "      <th>2</th>\n",
       "      <td>14.666667</td>\n",
       "      <td>NaN</td>\n",
       "      <td>2.0</td>\n",
       "      <td>1.0</td>\n",
       "      <td>4.595</td>\n",
       "      <td>4.0</td>\n",
       "      <td>2.0</td>\n",
       "      <td>3.0</td>\n",
       "      <td>4.0</td>\n",
       "      <td>5.0</td>\n",
       "      <td>...</td>\n",
       "      <td>NaN</td>\n",
       "      <td>NaN</td>\n",
       "      <td>NaN</td>\n",
       "      <td>NaN</td>\n",
       "      <td>NaN</td>\n",
       "      <td>NaN</td>\n",
       "      <td>NaN</td>\n",
       "      <td>6.0</td>\n",
       "      <td>7.0</td>\n",
       "      <td>8.0</td>\n",
       "    </tr>\n",
       "    <tr>\n",
       "      <th>3</th>\n",
       "      <td>24.000000</td>\n",
       "      <td>0.0</td>\n",
       "      <td>1.0</td>\n",
       "      <td>1.0</td>\n",
       "      <td>5.610</td>\n",
       "      <td>4.0</td>\n",
       "      <td>3.0</td>\n",
       "      <td>2.0</td>\n",
       "      <td>2.0</td>\n",
       "      <td>3.0</td>\n",
       "      <td>...</td>\n",
       "      <td>NaN</td>\n",
       "      <td>NaN</td>\n",
       "      <td>NaN</td>\n",
       "      <td>NaN</td>\n",
       "      <td>NaN</td>\n",
       "      <td>NaN</td>\n",
       "      <td>NaN</td>\n",
       "      <td>6.0</td>\n",
       "      <td>5.0</td>\n",
       "      <td>8.0</td>\n",
       "    </tr>\n",
       "    <tr>\n",
       "      <th>4</th>\n",
       "      <td>NaN</td>\n",
       "      <td>0.0</td>\n",
       "      <td>4.0</td>\n",
       "      <td>2.0</td>\n",
       "      <td>38.145</td>\n",
       "      <td>NaN</td>\n",
       "      <td>3.0</td>\n",
       "      <td>2.0</td>\n",
       "      <td>3.0</td>\n",
       "      <td>5.0</td>\n",
       "      <td>...</td>\n",
       "      <td>NaN</td>\n",
       "      <td>NaN</td>\n",
       "      <td>NaN</td>\n",
       "      <td>NaN</td>\n",
       "      <td>NaN</td>\n",
       "      <td>NaN</td>\n",
       "      <td>NaN</td>\n",
       "      <td>6.0</td>\n",
       "      <td>3.0</td>\n",
       "      <td>3.0</td>\n",
       "    </tr>\n",
       "  </tbody>\n",
       "</table>\n",
       "<p>5 rows × 63 columns</p>\n",
       "</div>"
      ],
      "text/plain": [
       "    handgrip  weight_loss  exaustion  poor_endurance  gait_speed  balance  \\\n",
       "0  24.333333          0.0        1.0             1.0       3.500      4.0   \n",
       "1  25.666667          0.0        1.0             1.0       3.300      4.0   \n",
       "2  14.666667          NaN        2.0             1.0       4.595      4.0   \n",
       "3  24.000000          0.0        1.0             1.0       5.610      4.0   \n",
       "4        NaN          0.0        4.0             2.0      38.145      NaN   \n",
       "\n",
       "   hearing_deficit  distance_vision  near_vision  depression_scale  ...  \\\n",
       "0              2.0              2.0          2.0               2.0  ...   \n",
       "1              4.0              3.0          3.0               2.0  ...   \n",
       "2              2.0              3.0          4.0               5.0  ...   \n",
       "3              3.0              2.0          2.0               3.0  ...   \n",
       "4              3.0              2.0          3.0               5.0  ...   \n",
       "\n",
       "   idade_morador_8  idade_morador_9  idade_morador_10  idade_morador_11  \\\n",
       "0              NaN              NaN               NaN               NaN   \n",
       "1              NaN              NaN               NaN               NaN   \n",
       "2              NaN              NaN               NaN               NaN   \n",
       "3              NaN              NaN               NaN               NaN   \n",
       "4              NaN              NaN               NaN               NaN   \n",
       "\n",
       "   idade_morador_12  idade_morador_13  idade_morador_14  adl_index  \\\n",
       "0               NaN               NaN               NaN        6.0   \n",
       "1               NaN               NaN               NaN        5.0   \n",
       "2               NaN               NaN               NaN        6.0   \n",
       "3               NaN               NaN               NaN        6.0   \n",
       "4               NaN               NaN               NaN        6.0   \n",
       "\n",
       "   aadl_index  iadl_index  \n",
       "0         7.0         8.0  \n",
       "1         4.0         8.0  \n",
       "2         7.0         8.0  \n",
       "3         5.0         8.0  \n",
       "4         3.0         3.0  \n",
       "\n",
       "[5 rows x 63 columns]"
      ]
     },
     "execution_count": 4,
     "metadata": {},
     "output_type": "execute_result"
    }
   ],
   "source": [
    "df.head()"
   ]
  },
  {
   "cell_type": "code",
   "execution_count": 5,
   "metadata": {},
   "outputs": [
    {
     "data": {
      "text/plain": [
       "(9412, 63)"
      ]
     },
     "execution_count": 5,
     "metadata": {},
     "output_type": "execute_result"
    }
   ],
   "source": [
    "df.shape"
   ]
  },
  {
   "cell_type": "markdown",
   "metadata": {},
   "source": [
    "### Remove missing data"
   ]
  },
  {
   "cell_type": "code",
   "execution_count": 6,
   "metadata": {},
   "outputs": [
    {
     "data": {
      "text/plain": [
       "['semantic_memory',\n",
       " 'verbal_fluency',\n",
       " 'memory_recall',\n",
       " 'temporal_orientation',\n",
       " 'depression_scale',\n",
       " 'sleep_quality',\n",
       " 'gait_speed',\n",
       " 'balance',\n",
       " 'handgrip',\n",
       " 'poor_endurance',\n",
       " 'weight_loss',\n",
       " 'exaustion',\n",
       " 'distance_vision',\n",
       " 'near_vision',\n",
       " 'hearing_deficit',\n",
       " 'iadl_index']"
      ]
     },
     "execution_count": 6,
     "metadata": {},
     "output_type": "execute_result"
    }
   ],
   "source": [
    "ci_map = {\n",
    "    'cognitive': ['semantic_memory', 'verbal_fluency', 'memory_recall', 'temporal_orientation'],\n",
    "    'psychologicao': ['depression_scale', 'sleep_quality'],\n",
    "    'locomotor': ['gait_speed', 'balance'],\n",
    "    'vitality': ['handgrip', 'poor_endurance', 'weight_loss', 'exaustion'],\n",
    "    'sensory': ['distance_vision', 'near_vision', 'hearing_deficit']\n",
    "}\n",
    "\n",
    "ci_cols = []\n",
    "[ci_cols.extend(value) for value in ci_map.values()]\n",
    "ci_cols = ci_cols + ['iadl_index']\n",
    "ci_cols"
   ]
  },
  {
   "cell_type": "code",
   "execution_count": 7,
   "metadata": {},
   "outputs": [
    {
     "data": {
      "text/plain": [
       "(6916, 63)"
      ]
     },
     "execution_count": 7,
     "metadata": {},
     "output_type": "execute_result"
    }
   ],
   "source": [
    "df_clean = df.dropna(subset=ci_cols)\n",
    "df_clean.shape"
   ]
  },
  {
   "cell_type": "code",
   "execution_count": 8,
   "metadata": {},
   "outputs": [
    {
     "data": {
      "text/plain": [
       "iadl_index\n",
       "8.0    5860\n",
       "7.0     659\n",
       "6.0     212\n",
       "5.0     101\n",
       "4.0      46\n",
       "3.0      25\n",
       "2.0       6\n",
       "0.0       4\n",
       "1.0       3\n",
       "Name: count, dtype: int64"
      ]
     },
     "execution_count": 8,
     "metadata": {},
     "output_type": "execute_result"
    }
   ],
   "source": [
    "df_clean['iadl_index'].value_counts()"
   ]
  },
  {
   "cell_type": "code",
   "execution_count": 9,
   "metadata": {},
   "outputs": [
    {
     "name": "stderr",
     "output_type": "stream",
     "text": [
      "C:\\Users\\mwuillau\\AppData\\Local\\Temp\\ipykernel_9916\\3209756502.py:18: SettingWithCopyWarning: \n",
      "A value is trying to be set on a copy of a slice from a DataFrame.\n",
      "Try using .loc[row_indexer,col_indexer] = value instead\n",
      "\n",
      "See the caveats in the documentation: https://pandas.pydata.org/pandas-docs/stable/user_guide/indexing.html#returning-a-view-versus-a-copy\n",
      "  df_clean['iadl_index'] = df_clean['iadl_index'].map(lambda x: calc_iadl(x))\n"
     ]
    }
   ],
   "source": [
    "# def calc_iadl(x):\n",
    "#     if x == 8:\n",
    "#         return 0\n",
    "#     elif x == 7:\n",
    "#         return 1\n",
    "#     else:\n",
    "#         return 2\n",
    "\n",
    "\n",
    "def calc_iadl(x):\n",
    "    if x == 8:\n",
    "        return 0\n",
    "    elif x == 7:\n",
    "        return 1\n",
    "    else:\n",
    "        return 2\n",
    "\n",
    "df_clean['iadl_index'] = df_clean['iadl_index'].map(lambda x: calc_iadl(x))"
   ]
  },
  {
   "cell_type": "code",
   "execution_count": 10,
   "metadata": {},
   "outputs": [
    {
     "data": {
      "text/plain": [
       "iadl_index\n",
       "0    5860\n",
       "1     659\n",
       "2     397\n",
       "Name: count, dtype: int64"
      ]
     },
     "execution_count": 10,
     "metadata": {},
     "output_type": "execute_result"
    }
   ],
   "source": [
    "df_clean['iadl_index'].value_counts()"
   ]
  },
  {
   "cell_type": "code",
   "execution_count": 11,
   "metadata": {},
   "outputs": [
    {
     "data": {
      "text/plain": [
       "0       0\n",
       "1       0\n",
       "3       0\n",
       "5       2\n",
       "7       2\n",
       "       ..\n",
       "9403    0\n",
       "9404    0\n",
       "9405    0\n",
       "9407    0\n",
       "9411    0\n",
       "Name: iadl_index, Length: 6916, dtype: int64"
      ]
     },
     "execution_count": 11,
     "metadata": {},
     "output_type": "execute_result"
    }
   ],
   "source": [
    "df_clean['iadl_index']\n"
   ]
  },
  {
   "cell_type": "markdown",
   "metadata": {},
   "source": [
    "### Split Train and test\n"
   ]
  },
  {
   "cell_type": "code",
   "execution_count": 12,
   "metadata": {},
   "outputs": [],
   "source": [
    "import pickle\n",
    "# Define dataset\n",
    "df_autoencoder = df_clean[ci_cols]\n",
    "# Split the data into training and testing sets\n",
    "X_train, X_test, y_train, y_test = train_test_split(df_autoencoder.drop(columns=['iadl_index']), df_autoencoder['iadl_index'], test_size=0.2, random_state=42)"
   ]
  },
  {
   "cell_type": "code",
   "execution_count": 13,
   "metadata": {},
   "outputs": [
    {
     "data": {
      "text/plain": [
       "((5532, 15), (1384,))"
      ]
     },
     "execution_count": 13,
     "metadata": {},
     "output_type": "execute_result"
    }
   ],
   "source": [
    "X_train.shape, y_test.shape"
   ]
  },
  {
   "cell_type": "code",
   "execution_count": 14,
   "metadata": {},
   "outputs": [
    {
     "data": {
      "text/plain": [
       "((5532, 15), (1384, 15))"
      ]
     },
     "execution_count": 14,
     "metadata": {},
     "output_type": "execute_result"
    }
   ],
   "source": [
    "\n",
    "scaler = StandardScaler()\n",
    "scaler.fit(X_train)\n",
    "X_train_scaled = scaler.transform(X_train)\n",
    "# X_val_scaled = scaler.transform(X_val)\n",
    "X_test_scaled = scaler.transform(X_test)\n",
    "\n",
    "\n",
    "\n",
    "\n",
    "with open('./out/autoencoder_scaler.pkl', 'wb') as file:\n",
    "    pickle.dump(scaler, file)\n",
    "X_train_scaled.shape, X_test_scaled.shape"
   ]
  },
  {
   "cell_type": "code",
   "execution_count": 15,
   "metadata": {},
   "outputs": [],
   "source": [
    "from imblearn.over_sampling import RandomOverSampler\n",
    "from imblearn.under_sampling import RandomUnderSampler\n",
    "\n",
    "ros = RandomOverSampler(random_state=42, sampling_strategy = 'all')\n",
    "X_train_scaled_over, y_train_over = ros.fit_resample(X_train_scaled, y_train)"
   ]
  },
  {
   "cell_type": "markdown",
   "metadata": {},
   "source": [
    "#### Run GA"
   ]
  },
  {
   "cell_type": "code",
   "execution_count": 16,
   "metadata": {},
   "outputs": [],
   "source": [
    "DNA_parameter = [[\"tanh\",\"softmax\",\"relu\",\"sigmoid\",\"linear\"],\n",
    "                 [\"sgd\",\"adam\"]]\n",
    "\n"
   ]
  },
  {
   "cell_type": "code",
   "execution_count": 17,
   "metadata": {},
   "outputs": [],
   "source": [
    "ga = GA(coding_size=2, X_train=X_train_scaled_over, X_test=[], y_train=y_train_over, y_test=[], DNA_parameter=DNA_parameter, epochs=10)"
   ]
  },
  {
   "cell_type": "code",
   "execution_count": 18,
   "metadata": {},
   "outputs": [
    {
     "data": {
      "text/plain": [
       "iadl_index\n",
       "0    4681\n",
       "2    4681\n",
       "1    4681\n",
       "Name: count, dtype: int64"
      ]
     },
     "execution_count": 18,
     "metadata": {},
     "output_type": "execute_result"
    }
   ],
   "source": [
    "y_train_over.value_counts()"
   ]
  },
  {
   "cell_type": "code",
   "execution_count": 19,
   "metadata": {},
   "outputs": [
    {
     "ename": "AttributeError",
     "evalue": "'GA' object has no attribute 'num_classes'",
     "output_type": "error",
     "traceback": [
      "\u001b[1;31m---------------------------------------------------------------------------\u001b[0m",
      "\u001b[1;31mAttributeError\u001b[0m                            Traceback (most recent call last)",
      "Cell \u001b[1;32mIn[19], line 1\u001b[0m\n\u001b[1;32m----> 1\u001b[0m pop \u001b[39m=\u001b[39m ga\u001b[39m.\u001b[39;49mcreate_population(hidden_layers_encoder\u001b[39m=\u001b[39;49m\u001b[39m2\u001b[39;49m, hidden_layers_decoder\u001b[39m=\u001b[39;49m\u001b[39m3\u001b[39;49m, max_dim_increase\u001b[39m=\u001b[39;49m\u001b[39m10\u001b[39;49m, population_size\u001b[39m=\u001b[39;49m\u001b[39m20\u001b[39;49m)\n",
      "File \u001b[1;32mc:\\Users\\mwuillau\\Documents\\IC\\intrinsic-capacity\\genetic_algorithm\\genetic_algorithm_net.py:209\u001b[0m, in \u001b[0;36mGA.create_population\u001b[1;34m(self, hidden_layers_encoder, hidden_layers_decoder, max_dim_increase, population_size)\u001b[0m\n\u001b[0;32m    204\u001b[0m     the_architecture_encoder\u001b[39m.\u001b[39mappend(architecture(neurons\u001b[39m=\u001b[39munits,activation\u001b[39m=\u001b[39mactivation)) \u001b[39m# Encoder\u001b[39;00m\n\u001b[0;32m    206\u001b[0m code_layer \u001b[39m=\u001b[39m architecture(neurons\u001b[39m=\u001b[39m\u001b[39mself\u001b[39m\u001b[39m.\u001b[39mcode_size, activation\u001b[39m=\u001b[39mnp\u001b[39m.\u001b[39mrandom\u001b[39m.\u001b[39mchoice(\u001b[39mself\u001b[39m\u001b[39m.\u001b[39mactivations)) \u001b[39m# Latent dimension\u001b[39;00m\n\u001b[1;32m--> 209\u001b[0m \u001b[39mif\u001b[39;00m \u001b[39mself\u001b[39;49m\u001b[39m.\u001b[39;49mnum_classes \u001b[39m>\u001b[39m \u001b[39m2\u001b[39m:\n\u001b[0;32m    210\u001b[0m     the_architecture_decoder\u001b[39m.\u001b[39mappend(architecture(neurons\u001b[39m=\u001b[39m\u001b[39mself\u001b[39m\u001b[39m.\u001b[39mnum_classes, activation\u001b[39m=\u001b[39m\u001b[39m'\u001b[39m\u001b[39msigmoid\u001b[39m\u001b[39m'\u001b[39m, optimizer\u001b[39m=\u001b[39mnp\u001b[39m.\u001b[39mrandom\u001b[39m.\u001b[39mchoice(\u001b[39mself\u001b[39m\u001b[39m.\u001b[39moptimizers)))\n\u001b[0;32m    211\u001b[0m \u001b[39melse\u001b[39;00m:   \n",
      "\u001b[1;31mAttributeError\u001b[0m: 'GA' object has no attribute 'num_classes'"
     ]
    }
   ],
   "source": [
    "pop = ga.create_population(hidden_layers_encoder=2, hidden_layers_decoder=3, max_dim_increase=10, population_size=20)"
   ]
  },
  {
   "cell_type": "code",
   "execution_count": null,
   "metadata": {},
   "outputs": [
    {
     "name": "stdout",
     "output_type": "stream",
     "text": [
      "------------------------------\n",
      "15 None\n",
      "10 linear\n",
      "3 tanh\n",
      "2 softmax\n",
      "1 sigmoid\n",
      "optimizer sgd\n",
      "------------------------------\n"
     ]
    }
   ],
   "source": [
    "ga.print_architecture(pop[5])"
   ]
  },
  {
   "cell_type": "code",
   "execution_count": null,
   "metadata": {},
   "outputs": [
    {
     "ename": "InvalidArgumentError",
     "evalue": "Graph execution error:\n\nDetected at node compile_loss/sparse_categorical_crossentropy/SparseSoftmaxCrossEntropyWithLogits/SparseSoftmaxCrossEntropyWithLogits defined at (most recent call last):\n  File \"C:\\Users\\mwuillau\\AppData\\Local\\Programs\\Python\\Python310\\lib\\runpy.py\", line 196, in _run_module_as_main\n\n  File \"C:\\Users\\mwuillau\\AppData\\Local\\Programs\\Python\\Python310\\lib\\runpy.py\", line 86, in _run_code\n\n  File \"c:\\Users\\mwuillau\\Documents\\IC\\intrinsic-capacity\\myenv\\lib\\site-packages\\ipykernel_launcher.py\", line 18, in <module>\n\n  File \"c:\\Users\\mwuillau\\Documents\\IC\\intrinsic-capacity\\myenv\\lib\\site-packages\\traitlets\\config\\application.py\", line 1075, in launch_instance\n\n  File \"c:\\Users\\mwuillau\\Documents\\IC\\intrinsic-capacity\\myenv\\lib\\site-packages\\ipykernel\\kernelapp.py\", line 739, in start\n\n  File \"c:\\Users\\mwuillau\\Documents\\IC\\intrinsic-capacity\\myenv\\lib\\site-packages\\tornado\\platform\\asyncio.py\", line 205, in start\n\n  File \"C:\\Users\\mwuillau\\AppData\\Local\\Programs\\Python\\Python310\\lib\\asyncio\\base_events.py\", line 600, in run_forever\n\n  File \"C:\\Users\\mwuillau\\AppData\\Local\\Programs\\Python\\Python310\\lib\\asyncio\\base_events.py\", line 1896, in _run_once\n\n  File \"C:\\Users\\mwuillau\\AppData\\Local\\Programs\\Python\\Python310\\lib\\asyncio\\events.py\", line 80, in _run\n\n  File \"c:\\Users\\mwuillau\\Documents\\IC\\intrinsic-capacity\\myenv\\lib\\site-packages\\ipykernel\\kernelbase.py\", line 545, in dispatch_queue\n\n  File \"c:\\Users\\mwuillau\\Documents\\IC\\intrinsic-capacity\\myenv\\lib\\site-packages\\ipykernel\\kernelbase.py\", line 534, in process_one\n\n  File \"c:\\Users\\mwuillau\\Documents\\IC\\intrinsic-capacity\\myenv\\lib\\site-packages\\ipykernel\\kernelbase.py\", line 437, in dispatch_shell\n\n  File \"c:\\Users\\mwuillau\\Documents\\IC\\intrinsic-capacity\\myenv\\lib\\site-packages\\ipykernel\\ipkernel.py\", line 362, in execute_request\n\n  File \"c:\\Users\\mwuillau\\Documents\\IC\\intrinsic-capacity\\myenv\\lib\\site-packages\\ipykernel\\kernelbase.py\", line 778, in execute_request\n\n  File \"c:\\Users\\mwuillau\\Documents\\IC\\intrinsic-capacity\\myenv\\lib\\site-packages\\ipykernel\\ipkernel.py\", line 449, in do_execute\n\n  File \"c:\\Users\\mwuillau\\Documents\\IC\\intrinsic-capacity\\myenv\\lib\\site-packages\\ipykernel\\zmqshell.py\", line 549, in run_cell\n\n  File \"c:\\Users\\mwuillau\\Documents\\IC\\intrinsic-capacity\\myenv\\lib\\site-packages\\IPython\\core\\interactiveshell.py\", line 3075, in run_cell\n\n  File \"c:\\Users\\mwuillau\\Documents\\IC\\intrinsic-capacity\\myenv\\lib\\site-packages\\IPython\\core\\interactiveshell.py\", line 3130, in _run_cell\n\n  File \"c:\\Users\\mwuillau\\Documents\\IC\\intrinsic-capacity\\myenv\\lib\\site-packages\\IPython\\core\\async_helpers.py\", line 129, in _pseudo_sync_runner\n\n  File \"c:\\Users\\mwuillau\\Documents\\IC\\intrinsic-capacity\\myenv\\lib\\site-packages\\IPython\\core\\interactiveshell.py\", line 3334, in run_cell_async\n\n  File \"c:\\Users\\mwuillau\\Documents\\IC\\intrinsic-capacity\\myenv\\lib\\site-packages\\IPython\\core\\interactiveshell.py\", line 3517, in run_ast_nodes\n\n  File \"c:\\Users\\mwuillau\\Documents\\IC\\intrinsic-capacity\\myenv\\lib\\site-packages\\IPython\\core\\interactiveshell.py\", line 3577, in run_code\n\n  File \"C:\\Users\\mwuillau\\AppData\\Local\\Temp\\ipykernel_12932\\39569433.py\", line 1, in <module>\n\n  File \"c:\\Users\\mwuillau\\Documents\\IC\\intrinsic-capacity\\genetic_algorithm\\genetic_algorithm_net.py\", line 162, in train\n\n  File \"c:\\Users\\mwuillau\\Documents\\IC\\intrinsic-capacity\\myenv\\lib\\site-packages\\keras\\src\\utils\\traceback_utils.py\", line 117, in error_handler\n\n  File \"c:\\Users\\mwuillau\\Documents\\IC\\intrinsic-capacity\\myenv\\lib\\site-packages\\keras\\src\\backend\\tensorflow\\trainer.py\", line 314, in fit\n\n  File \"c:\\Users\\mwuillau\\Documents\\IC\\intrinsic-capacity\\myenv\\lib\\site-packages\\keras\\src\\backend\\tensorflow\\trainer.py\", line 117, in one_step_on_iterator\n\n  File \"c:\\Users\\mwuillau\\Documents\\IC\\intrinsic-capacity\\myenv\\lib\\site-packages\\keras\\src\\backend\\tensorflow\\trainer.py\", line 104, in one_step_on_data\n\n  File \"c:\\Users\\mwuillau\\Documents\\IC\\intrinsic-capacity\\myenv\\lib\\site-packages\\keras\\src\\backend\\tensorflow\\trainer.py\", line 54, in train_step\n\n  File \"c:\\Users\\mwuillau\\Documents\\IC\\intrinsic-capacity\\myenv\\lib\\site-packages\\keras\\src\\trainers\\trainer.py\", line 316, in compute_loss\n\n  File \"c:\\Users\\mwuillau\\Documents\\IC\\intrinsic-capacity\\myenv\\lib\\site-packages\\keras\\src\\trainers\\compile_utils.py\", line 609, in __call__\n\n  File \"c:\\Users\\mwuillau\\Documents\\IC\\intrinsic-capacity\\myenv\\lib\\site-packages\\keras\\src\\trainers\\compile_utils.py\", line 645, in call\n\n  File \"c:\\Users\\mwuillau\\Documents\\IC\\intrinsic-capacity\\myenv\\lib\\site-packages\\keras\\src\\losses\\loss.py\", line 43, in __call__\n\n  File \"c:\\Users\\mwuillau\\Documents\\IC\\intrinsic-capacity\\myenv\\lib\\site-packages\\keras\\src\\losses\\losses.py\", line 22, in call\n\n  File \"c:\\Users\\mwuillau\\Documents\\IC\\intrinsic-capacity\\myenv\\lib\\site-packages\\keras\\src\\losses\\losses.py\", line 1722, in sparse_categorical_crossentropy\n\n  File \"c:\\Users\\mwuillau\\Documents\\IC\\intrinsic-capacity\\myenv\\lib\\site-packages\\keras\\src\\ops\\nn.py\", line 1567, in sparse_categorical_crossentropy\n\n  File \"c:\\Users\\mwuillau\\Documents\\IC\\intrinsic-capacity\\myenv\\lib\\site-packages\\keras\\src\\backend\\tensorflow\\nn.py\", line 638, in sparse_categorical_crossentropy\n\nReceived a label value of 2 which is outside the valid range of [0, 1).  Label values: 2 0 0 0 2 1 2 0 2 1 2 0 1 0 2 1 1 0 0 1 1 2 2 2 0 2 2 2 2 0 0 2\n\t [[{{node compile_loss/sparse_categorical_crossentropy/SparseSoftmaxCrossEntropyWithLogits/SparseSoftmaxCrossEntropyWithLogits}}]] [Op:__inference_one_step_on_iterator_2867]",
     "output_type": "error",
     "traceback": [
      "\u001b[1;31m---------------------------------------------------------------------------\u001b[0m",
      "\u001b[1;31mInvalidArgumentError\u001b[0m                      Traceback (most recent call last)",
      "Cell \u001b[1;32mIn[67], line 1\u001b[0m\n\u001b[1;32m----> 1\u001b[0m ga\u001b[39m.\u001b[39;49mtrain(ga\u001b[39m.\u001b[39;49mbuild_neural_net(pop[\u001b[39m5\u001b[39;49m]))\n",
      "File \u001b[1;32mc:\\Users\\mwuillau\\Documents\\IC\\intrinsic-capacity\\genetic_algorithm\\genetic_algorithm_net.py:162\u001b[0m, in \u001b[0;36mGA.train\u001b[1;34m(self, model)\u001b[0m\n\u001b[0;32m    159\u001b[0m y_train_fold, y_test_fold \u001b[39m=\u001b[39m \u001b[39mself\u001b[39m\u001b[39m.\u001b[39my_train[train_index], \u001b[39mself\u001b[39m\u001b[39m.\u001b[39my_train[test_index]\n\u001b[0;32m    161\u001b[0m \u001b[39m# Fit the model\u001b[39;00m\n\u001b[1;32m--> 162\u001b[0m model\u001b[39m.\u001b[39;49mfit(X_train_fold, y_train_fold, \n\u001b[0;32m    163\u001b[0m epochs\u001b[39m=\u001b[39;49m \u001b[39mself\u001b[39;49m\u001b[39m.\u001b[39;49mepochs, \n\u001b[0;32m    164\u001b[0m verbose\u001b[39m=\u001b[39;49m\u001b[39m0\u001b[39;49m,\n\u001b[0;32m    165\u001b[0m batch_size\u001b[39m=\u001b[39;49m\u001b[39m32\u001b[39;49m)\n\u001b[0;32m    167\u001b[0m \u001b[39m# Evaluate the model\u001b[39;00m\n\u001b[0;32m    168\u001b[0m scores \u001b[39m=\u001b[39m model\u001b[39m.\u001b[39mevaluate(X_test_fold, y_test_fold)\n",
      "File \u001b[1;32mc:\\Users\\mwuillau\\Documents\\IC\\intrinsic-capacity\\myenv\\lib\\site-packages\\keras\\src\\utils\\traceback_utils.py:122\u001b[0m, in \u001b[0;36mfilter_traceback.<locals>.error_handler\u001b[1;34m(*args, **kwargs)\u001b[0m\n\u001b[0;32m    119\u001b[0m     filtered_tb \u001b[39m=\u001b[39m _process_traceback_frames(e\u001b[39m.\u001b[39m__traceback__)\n\u001b[0;32m    120\u001b[0m     \u001b[39m# To get the full stack trace, call:\u001b[39;00m\n\u001b[0;32m    121\u001b[0m     \u001b[39m# `keras.config.disable_traceback_filtering()`\u001b[39;00m\n\u001b[1;32m--> 122\u001b[0m     \u001b[39mraise\u001b[39;00m e\u001b[39m.\u001b[39mwith_traceback(filtered_tb) \u001b[39mfrom\u001b[39;00m \u001b[39mNone\u001b[39;00m\n\u001b[0;32m    123\u001b[0m \u001b[39mfinally\u001b[39;00m:\n\u001b[0;32m    124\u001b[0m     \u001b[39mdel\u001b[39;00m filtered_tb\n",
      "File \u001b[1;32mc:\\Users\\mwuillau\\Documents\\IC\\intrinsic-capacity\\myenv\\lib\\site-packages\\tensorflow\\python\\eager\\execute.py:53\u001b[0m, in \u001b[0;36mquick_execute\u001b[1;34m(op_name, num_outputs, inputs, attrs, ctx, name)\u001b[0m\n\u001b[0;32m     51\u001b[0m \u001b[39mtry\u001b[39;00m:\n\u001b[0;32m     52\u001b[0m   ctx\u001b[39m.\u001b[39mensure_initialized()\n\u001b[1;32m---> 53\u001b[0m   tensors \u001b[39m=\u001b[39m pywrap_tfe\u001b[39m.\u001b[39mTFE_Py_Execute(ctx\u001b[39m.\u001b[39m_handle, device_name, op_name,\n\u001b[0;32m     54\u001b[0m                                       inputs, attrs, num_outputs)\n\u001b[0;32m     55\u001b[0m \u001b[39mexcept\u001b[39;00m core\u001b[39m.\u001b[39m_NotOkStatusException \u001b[39mas\u001b[39;00m e:\n\u001b[0;32m     56\u001b[0m   \u001b[39mif\u001b[39;00m name \u001b[39mis\u001b[39;00m \u001b[39mnot\u001b[39;00m \u001b[39mNone\u001b[39;00m:\n",
      "\u001b[1;31mInvalidArgumentError\u001b[0m: Graph execution error:\n\nDetected at node compile_loss/sparse_categorical_crossentropy/SparseSoftmaxCrossEntropyWithLogits/SparseSoftmaxCrossEntropyWithLogits defined at (most recent call last):\n  File \"C:\\Users\\mwuillau\\AppData\\Local\\Programs\\Python\\Python310\\lib\\runpy.py\", line 196, in _run_module_as_main\n\n  File \"C:\\Users\\mwuillau\\AppData\\Local\\Programs\\Python\\Python310\\lib\\runpy.py\", line 86, in _run_code\n\n  File \"c:\\Users\\mwuillau\\Documents\\IC\\intrinsic-capacity\\myenv\\lib\\site-packages\\ipykernel_launcher.py\", line 18, in <module>\n\n  File \"c:\\Users\\mwuillau\\Documents\\IC\\intrinsic-capacity\\myenv\\lib\\site-packages\\traitlets\\config\\application.py\", line 1075, in launch_instance\n\n  File \"c:\\Users\\mwuillau\\Documents\\IC\\intrinsic-capacity\\myenv\\lib\\site-packages\\ipykernel\\kernelapp.py\", line 739, in start\n\n  File \"c:\\Users\\mwuillau\\Documents\\IC\\intrinsic-capacity\\myenv\\lib\\site-packages\\tornado\\platform\\asyncio.py\", line 205, in start\n\n  File \"C:\\Users\\mwuillau\\AppData\\Local\\Programs\\Python\\Python310\\lib\\asyncio\\base_events.py\", line 600, in run_forever\n\n  File \"C:\\Users\\mwuillau\\AppData\\Local\\Programs\\Python\\Python310\\lib\\asyncio\\base_events.py\", line 1896, in _run_once\n\n  File \"C:\\Users\\mwuillau\\AppData\\Local\\Programs\\Python\\Python310\\lib\\asyncio\\events.py\", line 80, in _run\n\n  File \"c:\\Users\\mwuillau\\Documents\\IC\\intrinsic-capacity\\myenv\\lib\\site-packages\\ipykernel\\kernelbase.py\", line 545, in dispatch_queue\n\n  File \"c:\\Users\\mwuillau\\Documents\\IC\\intrinsic-capacity\\myenv\\lib\\site-packages\\ipykernel\\kernelbase.py\", line 534, in process_one\n\n  File \"c:\\Users\\mwuillau\\Documents\\IC\\intrinsic-capacity\\myenv\\lib\\site-packages\\ipykernel\\kernelbase.py\", line 437, in dispatch_shell\n\n  File \"c:\\Users\\mwuillau\\Documents\\IC\\intrinsic-capacity\\myenv\\lib\\site-packages\\ipykernel\\ipkernel.py\", line 362, in execute_request\n\n  File \"c:\\Users\\mwuillau\\Documents\\IC\\intrinsic-capacity\\myenv\\lib\\site-packages\\ipykernel\\kernelbase.py\", line 778, in execute_request\n\n  File \"c:\\Users\\mwuillau\\Documents\\IC\\intrinsic-capacity\\myenv\\lib\\site-packages\\ipykernel\\ipkernel.py\", line 449, in do_execute\n\n  File \"c:\\Users\\mwuillau\\Documents\\IC\\intrinsic-capacity\\myenv\\lib\\site-packages\\ipykernel\\zmqshell.py\", line 549, in run_cell\n\n  File \"c:\\Users\\mwuillau\\Documents\\IC\\intrinsic-capacity\\myenv\\lib\\site-packages\\IPython\\core\\interactiveshell.py\", line 3075, in run_cell\n\n  File \"c:\\Users\\mwuillau\\Documents\\IC\\intrinsic-capacity\\myenv\\lib\\site-packages\\IPython\\core\\interactiveshell.py\", line 3130, in _run_cell\n\n  File \"c:\\Users\\mwuillau\\Documents\\IC\\intrinsic-capacity\\myenv\\lib\\site-packages\\IPython\\core\\async_helpers.py\", line 129, in _pseudo_sync_runner\n\n  File \"c:\\Users\\mwuillau\\Documents\\IC\\intrinsic-capacity\\myenv\\lib\\site-packages\\IPython\\core\\interactiveshell.py\", line 3334, in run_cell_async\n\n  File \"c:\\Users\\mwuillau\\Documents\\IC\\intrinsic-capacity\\myenv\\lib\\site-packages\\IPython\\core\\interactiveshell.py\", line 3517, in run_ast_nodes\n\n  File \"c:\\Users\\mwuillau\\Documents\\IC\\intrinsic-capacity\\myenv\\lib\\site-packages\\IPython\\core\\interactiveshell.py\", line 3577, in run_code\n\n  File \"C:\\Users\\mwuillau\\AppData\\Local\\Temp\\ipykernel_12932\\39569433.py\", line 1, in <module>\n\n  File \"c:\\Users\\mwuillau\\Documents\\IC\\intrinsic-capacity\\genetic_algorithm\\genetic_algorithm_net.py\", line 162, in train\n\n  File \"c:\\Users\\mwuillau\\Documents\\IC\\intrinsic-capacity\\myenv\\lib\\site-packages\\keras\\src\\utils\\traceback_utils.py\", line 117, in error_handler\n\n  File \"c:\\Users\\mwuillau\\Documents\\IC\\intrinsic-capacity\\myenv\\lib\\site-packages\\keras\\src\\backend\\tensorflow\\trainer.py\", line 314, in fit\n\n  File \"c:\\Users\\mwuillau\\Documents\\IC\\intrinsic-capacity\\myenv\\lib\\site-packages\\keras\\src\\backend\\tensorflow\\trainer.py\", line 117, in one_step_on_iterator\n\n  File \"c:\\Users\\mwuillau\\Documents\\IC\\intrinsic-capacity\\myenv\\lib\\site-packages\\keras\\src\\backend\\tensorflow\\trainer.py\", line 104, in one_step_on_data\n\n  File \"c:\\Users\\mwuillau\\Documents\\IC\\intrinsic-capacity\\myenv\\lib\\site-packages\\keras\\src\\backend\\tensorflow\\trainer.py\", line 54, in train_step\n\n  File \"c:\\Users\\mwuillau\\Documents\\IC\\intrinsic-capacity\\myenv\\lib\\site-packages\\keras\\src\\trainers\\trainer.py\", line 316, in compute_loss\n\n  File \"c:\\Users\\mwuillau\\Documents\\IC\\intrinsic-capacity\\myenv\\lib\\site-packages\\keras\\src\\trainers\\compile_utils.py\", line 609, in __call__\n\n  File \"c:\\Users\\mwuillau\\Documents\\IC\\intrinsic-capacity\\myenv\\lib\\site-packages\\keras\\src\\trainers\\compile_utils.py\", line 645, in call\n\n  File \"c:\\Users\\mwuillau\\Documents\\IC\\intrinsic-capacity\\myenv\\lib\\site-packages\\keras\\src\\losses\\loss.py\", line 43, in __call__\n\n  File \"c:\\Users\\mwuillau\\Documents\\IC\\intrinsic-capacity\\myenv\\lib\\site-packages\\keras\\src\\losses\\losses.py\", line 22, in call\n\n  File \"c:\\Users\\mwuillau\\Documents\\IC\\intrinsic-capacity\\myenv\\lib\\site-packages\\keras\\src\\losses\\losses.py\", line 1722, in sparse_categorical_crossentropy\n\n  File \"c:\\Users\\mwuillau\\Documents\\IC\\intrinsic-capacity\\myenv\\lib\\site-packages\\keras\\src\\ops\\nn.py\", line 1567, in sparse_categorical_crossentropy\n\n  File \"c:\\Users\\mwuillau\\Documents\\IC\\intrinsic-capacity\\myenv\\lib\\site-packages\\keras\\src\\backend\\tensorflow\\nn.py\", line 638, in sparse_categorical_crossentropy\n\nReceived a label value of 2 which is outside the valid range of [0, 1).  Label values: 2 0 0 0 2 1 2 0 2 1 2 0 1 0 2 1 1 0 0 1 1 2 2 2 0 2 2 2 2 0 0 2\n\t [[{{node compile_loss/sparse_categorical_crossentropy/SparseSoftmaxCrossEntropyWithLogits/SparseSoftmaxCrossEntropyWithLogits}}]] [Op:__inference_one_step_on_iterator_2867]"
     ]
    }
   ],
   "source": [
    "ga.train(ga.build_neural_net(pop[5]))"
   ]
  },
  {
   "cell_type": "code",
   "execution_count": null,
   "metadata": {},
   "outputs": [
    {
     "name": "stdout",
     "output_type": "stream",
     "text": [
      "Generation: 0\n"
     ]
    },
    {
     "name": "stderr",
     "output_type": "stream",
     "text": [
      "c:\\Users\\mwuillau\\Documents\\IC\\intrinsic-capacity\\myenv\\lib\\site-packages\\keras\\src\\losses\\losses.py:22: SyntaxWarning: In loss categorical_crossentropy, expected y_pred.shape to be (batch_size, num_classes) with num_classes > 1. Received: y_pred.shape=(None, 1). Consider using 'binary_crossentropy' if you only have 2 classes.\n",
      "  return self.fn(y_true, y_pred, **self._fn_kwargs)\n"
     ]
    },
    {
     "name": "stdout",
     "output_type": "stream",
     "text": [
      "\u001b[1m88/88\u001b[0m \u001b[32m━━━━━━━━━━━━━━━━━━━━\u001b[0m\u001b[37m\u001b[0m \u001b[1m0s\u001b[0m 2ms/step - accuracy: 0.6216 - loss: 0.0000e+00\n",
      "\u001b[1m88/88\u001b[0m \u001b[32m━━━━━━━━━━━━━━━━━━━━\u001b[0m\u001b[37m\u001b[0m \u001b[1m0s\u001b[0m 2ms/step - accuracy: 0.6099 - loss: 0.0000e+00\n",
      "\u001b[1m88/88\u001b[0m \u001b[32m━━━━━━━━━━━━━━━━━━━━\u001b[0m\u001b[37m\u001b[0m \u001b[1m0s\u001b[0m 3ms/step - accuracy: 0.6270 - loss: 0.0000e+00\n",
      "\u001b[1m88/88\u001b[0m \u001b[32m━━━━━━━━━━━━━━━━━━━━\u001b[0m\u001b[37m\u001b[0m \u001b[1m0s\u001b[0m 2ms/step - accuracy: 0.6241 - loss: 0.0000e+00\n",
      "\u001b[1m88/88\u001b[0m \u001b[32m━━━━━━━━━━━━━━━━━━━━\u001b[0m\u001b[37m\u001b[0m \u001b[1m1s\u001b[0m 5ms/step - accuracy: 0.6426 - loss: 0.0000e+00\n"
     ]
    },
    {
     "name": "stderr",
     "output_type": "stream",
     "text": [
      "c:\\Users\\mwuillau\\Documents\\IC\\intrinsic-capacity\\myenv\\lib\\site-packages\\keras\\src\\losses\\losses.py:22: SyntaxWarning: In loss categorical_crossentropy, expected y_pred.shape to be (batch_size, num_classes) with num_classes > 1. Received: y_pred.shape=(None, 1). Consider using 'binary_crossentropy' if you only have 2 classes.\n",
      "  return self.fn(y_true, y_pred, **self._fn_kwargs)\n"
     ]
    },
    {
     "name": "stdout",
     "output_type": "stream",
     "text": [
      "\u001b[1m88/88\u001b[0m \u001b[32m━━━━━━━━━━━━━━━━━━━━\u001b[0m\u001b[37m\u001b[0m \u001b[1m0s\u001b[0m 1ms/step - accuracy: 0.6376 - loss: 0.0000e+00\n",
      "\u001b[1m88/88\u001b[0m \u001b[32m━━━━━━━━━━━━━━━━━━━━\u001b[0m\u001b[37m\u001b[0m \u001b[1m0s\u001b[0m 1ms/step - accuracy: 0.6319 - loss: 0.0000e+00\n",
      "\u001b[1m88/88\u001b[0m \u001b[32m━━━━━━━━━━━━━━━━━━━━\u001b[0m\u001b[37m\u001b[0m \u001b[1m0s\u001b[0m 1ms/step - accuracy: 0.6283 - loss: 0.0000e+00\n",
      "\u001b[1m88/88\u001b[0m \u001b[32m━━━━━━━━━━━━━━━━━━━━\u001b[0m\u001b[37m\u001b[0m \u001b[1m0s\u001b[0m 2ms/step - accuracy: 0.6248 - loss: 0.0000e+00\n",
      "\u001b[1m88/88\u001b[0m \u001b[32m━━━━━━━━━━━━━━━━━━━━\u001b[0m\u001b[37m\u001b[0m \u001b[1m0s\u001b[0m 1ms/step - accuracy: 0.6340 - loss: 0.0000e+00\n"
     ]
    },
    {
     "name": "stderr",
     "output_type": "stream",
     "text": [
      "c:\\Users\\mwuillau\\Documents\\IC\\intrinsic-capacity\\myenv\\lib\\site-packages\\keras\\src\\losses\\losses.py:22: SyntaxWarning: In loss categorical_crossentropy, expected y_pred.shape to be (batch_size, num_classes) with num_classes > 1. Received: y_pred.shape=(None, 1). Consider using 'binary_crossentropy' if you only have 2 classes.\n",
      "  return self.fn(y_true, y_pred, **self._fn_kwargs)\n"
     ]
    },
    {
     "name": "stdout",
     "output_type": "stream",
     "text": [
      "\u001b[1m88/88\u001b[0m \u001b[32m━━━━━━━━━━━━━━━━━━━━\u001b[0m\u001b[37m\u001b[0m \u001b[1m0s\u001b[0m 1ms/step - accuracy: 0.6278 - loss: 0.0000e+00\n",
      "\u001b[1m88/88\u001b[0m \u001b[32m━━━━━━━━━━━━━━━━━━━━\u001b[0m\u001b[37m\u001b[0m \u001b[1m0s\u001b[0m 1ms/step - accuracy: 0.6177 - loss: 0.0000e+00\n",
      "\u001b[1m88/88\u001b[0m \u001b[32m━━━━━━━━━━━━━━━━━━━━\u001b[0m\u001b[37m\u001b[0m \u001b[1m0s\u001b[0m 1ms/step - accuracy: 0.6154 - loss: 0.0000e+00\n",
      "\u001b[1m88/88\u001b[0m \u001b[32m━━━━━━━━━━━━━━━━━━━━\u001b[0m\u001b[37m\u001b[0m \u001b[1m0s\u001b[0m 1ms/step - accuracy: 0.6229 - loss: 0.0000e+00\n",
      "\u001b[1m88/88\u001b[0m \u001b[32m━━━━━━━━━━━━━━━━━━━━\u001b[0m\u001b[37m\u001b[0m \u001b[1m0s\u001b[0m 1ms/step - accuracy: 0.6370 - loss: 0.0000e+00\n"
     ]
    },
    {
     "ename": "IndexError",
     "evalue": "tuple index out of range",
     "output_type": "error",
     "traceback": [
      "\u001b[1;31m---------------------------------------------------------------------------\u001b[0m",
      "\u001b[1;31mIndexError\u001b[0m                                Traceback (most recent call last)",
      "Cell \u001b[1;32mIn[54], line 1\u001b[0m\n\u001b[1;32m----> 1\u001b[0m best_arch \u001b[39m=\u001b[39m ga\u001b[39m.\u001b[39;49mGA(population\u001b[39m=\u001b[39;49mpop, n_generations\u001b[39m=\u001b[39;49m\u001b[39m2\u001b[39;49m)\n",
      "File \u001b[1;32mc:\\Users\\mwuillau\\Documents\\IC\\intrinsic-capacity\\genetic_algorithm\\genetic_algorithm_net.py:333\u001b[0m, in \u001b[0;36mGA.GA\u001b[1;34m(self, population, n_generations, mutation_rate, Crossover, Mutation)\u001b[0m\n\u001b[0;32m    324\u001b[0m P3_model_trained \u001b[39m=\u001b[39m \u001b[39mself\u001b[39m\u001b[39m.\u001b[39mtrain(P3_model)\n\u001b[0;32m    326\u001b[0m \u001b[39m# Collect all fitness scores with corresponding model identifiers\u001b[39;00m\n\u001b[0;32m    327\u001b[0m fitness_scores \u001b[39m=\u001b[39m [\n\u001b[0;32m    328\u001b[0m     {\n\u001b[0;32m    329\u001b[0m         \u001b[39m'\u001b[39m\u001b[39mp\u001b[39m\u001b[39m'\u001b[39m: P1,\n\u001b[0;32m    330\u001b[0m         \u001b[39m'\u001b[39m\u001b[39mi\u001b[39m\u001b[39m'\u001b[39m: sel_index[\u001b[39m0\u001b[39m],\n\u001b[0;32m    331\u001b[0m         \u001b[39m'\u001b[39m\u001b[39macc\u001b[39m\u001b[39m'\u001b[39m: P1_model_trained[\u001b[39m0\u001b[39m],\n\u001b[0;32m    332\u001b[0m         \u001b[39m'\u001b[39m\u001b[39mf1\u001b[39m\u001b[39m'\u001b[39m: P1_model_trained[\u001b[39m1\u001b[39m],\n\u001b[1;32m--> 333\u001b[0m         \u001b[39m'\u001b[39m\u001b[39mm\u001b[39m\u001b[39m'\u001b[39m: P1_model_trained[\u001b[39m2\u001b[39;49m]\n\u001b[0;32m    334\u001b[0m     },\n\u001b[0;32m    335\u001b[0m     {\n\u001b[0;32m    336\u001b[0m         \u001b[39m'\u001b[39m\u001b[39mp\u001b[39m\u001b[39m'\u001b[39m: P2,\n\u001b[0;32m    337\u001b[0m         \u001b[39m'\u001b[39m\u001b[39mi\u001b[39m\u001b[39m'\u001b[39m: sel_index[\u001b[39m1\u001b[39m],\n\u001b[0;32m    338\u001b[0m         \u001b[39m'\u001b[39m\u001b[39macc\u001b[39m\u001b[39m'\u001b[39m: P2_model_trained[\u001b[39m0\u001b[39m],\n\u001b[0;32m    339\u001b[0m         \u001b[39m'\u001b[39m\u001b[39mf1\u001b[39m\u001b[39m'\u001b[39m: P2_model_trained[\u001b[39m1\u001b[39m],\n\u001b[0;32m    340\u001b[0m         \u001b[39m'\u001b[39m\u001b[39mm\u001b[39m\u001b[39m'\u001b[39m: P2_model_trained[\u001b[39m2\u001b[39m]\n\u001b[0;32m    341\u001b[0m     },\n\u001b[0;32m    342\u001b[0m     {\n\u001b[0;32m    343\u001b[0m         \u001b[39m'\u001b[39m\u001b[39mp\u001b[39m\u001b[39m'\u001b[39m: P3,\n\u001b[0;32m    344\u001b[0m         \u001b[39m'\u001b[39m\u001b[39mi\u001b[39m\u001b[39m'\u001b[39m: sel_index[\u001b[39m2\u001b[39m],\n\u001b[0;32m    345\u001b[0m         \u001b[39m'\u001b[39m\u001b[39macc\u001b[39m\u001b[39m'\u001b[39m: P3_model_trained[\u001b[39m0\u001b[39m],\n\u001b[0;32m    346\u001b[0m         \u001b[39m'\u001b[39m\u001b[39mf1\u001b[39m\u001b[39m'\u001b[39m: P3_model_trained[\u001b[39m1\u001b[39m],\n\u001b[0;32m    347\u001b[0m         \u001b[39m'\u001b[39m\u001b[39mm\u001b[39m\u001b[39m'\u001b[39m: P3_model_trained[\u001b[39m2\u001b[39m]\n\u001b[0;32m    348\u001b[0m     }\n\u001b[0;32m    349\u001b[0m ]\n\u001b[0;32m    351\u001b[0m \u001b[39m# Sort models based on fitness scores in descending order (higher is better, adjust if necessary)\u001b[39;00m\n\u001b[0;32m    352\u001b[0m sorted_fitness \u001b[39m=\u001b[39m \u001b[39msorted\u001b[39m(fitness_scores, key\u001b[39m=\u001b[39m\u001b[39mlambda\u001b[39;00m x: x[\u001b[39m'\u001b[39m\u001b[39mf1\u001b[39m\u001b[39m'\u001b[39m], reverse\u001b[39m=\u001b[39m\u001b[39mTrue\u001b[39;00m)\n",
      "\u001b[1;31mIndexError\u001b[0m: tuple index out of range"
     ]
    }
   ],
   "source": [
    "best_arch = ga.GA(population=pop, n_generations=2)"
   ]
  },
  {
   "cell_type": "markdown",
   "metadata": {},
   "source": [
    "### Import Genetic Result"
   ]
  },
  {
   "cell_type": "code",
   "execution_count": null,
   "metadata": {},
   "outputs": [
    {
     "name": "stderr",
     "output_type": "stream",
     "text": [
      "WARNING:absl:Compiled the loaded model, but the compiled metrics have yet to be built. `model.compile_metrics` will be empty until you train or evaluate the model.\n"
     ]
    }
   ],
   "source": [
    "model = tf.keras.models.load_model('./out/best_model.h5')"
   ]
  },
  {
   "cell_type": "code",
   "execution_count": null,
   "metadata": {},
   "outputs": [
    {
     "name": "stdout",
     "output_type": "stream",
     "text": [
      "\u001b[1m32/44\u001b[0m \u001b[32m━━━━━━━━━━━━━━\u001b[0m\u001b[37m━━━━━━\u001b[0m \u001b[1m0s\u001b[0m 3ms/step "
     ]
    },
    {
     "name": "stdout",
     "output_type": "stream",
     "text": [
      "\u001b[1m44/44\u001b[0m \u001b[32m━━━━━━━━━━━━━━━━━━━━\u001b[0m\u001b[37m\u001b[0m \u001b[1m1s\u001b[0m 11ms/step\n"
     ]
    },
    {
     "data": {
      "text/plain": [
       "array([[-0.2995344 , -0.41704544, -0.3759935 , ...,  0.19974044,\n",
       "         0.05309695,  0.05122371],\n",
       "       [-0.54145867, -0.43984187, -0.53072876, ...,  0.88966703,\n",
       "         0.8229447 ,  0.57867724],\n",
       "       [-0.38256487, -0.39333206, -0.35648096, ...,  0.77078557,\n",
       "         0.67072767,  0.5331141 ],\n",
       "       ...,\n",
       "       [ 0.73997784,  0.7839768 ,  0.79190093, ..., -0.09436029,\n",
       "         0.05686268, -0.16890971],\n",
       "       [-0.1041927 , -0.20652618, -0.01900695, ..., -0.10671389,\n",
       "        -0.18163204,  0.04037876],\n",
       "       [-0.05616935, -0.08047217, -0.03674935, ..., -0.20170137,\n",
       "        -0.27207446, -0.21064   ]], dtype=float32)"
      ]
     },
     "execution_count": 17,
     "metadata": {},
     "output_type": "execute_result"
    }
   ],
   "source": [
    "model.predict(X_test_scaled)"
   ]
  },
  {
   "cell_type": "code",
   "execution_count": null,
   "metadata": {},
   "outputs": [
    {
     "name": "stdout",
     "output_type": "stream",
     "text": [
      "\u001b[1m44/44\u001b[0m \u001b[32m━━━━━━━━━━━━━━━━━━━━\u001b[0m\u001b[37m\u001b[0m \u001b[1m0s\u001b[0m 3ms/step\n",
      "0.38231258232286514\n"
     ]
    }
   ],
   "source": [
    "from sklearn.metrics import r2_score\n",
    "\n",
    "decoded_data = model.predict(X_test_scaled)\n",
    "global_r2 = r2_score(X_test_scaled, decoded_data)\n",
    "print(global_r2)"
   ]
  }
 ],
 "metadata": {
  "kernelspec": {
   "display_name": "myenv",
   "language": "python",
   "name": "python3"
  },
  "language_info": {
   "codemirror_mode": {
    "name": "ipython",
    "version": 3
   },
   "file_extension": ".py",
   "mimetype": "text/x-python",
   "name": "python",
   "nbconvert_exporter": "python",
   "pygments_lexer": "ipython3",
   "version": "3.10.3"
  },
  "orig_nbformat": 4
 },
 "nbformat": 4,
 "nbformat_minor": 2
}
