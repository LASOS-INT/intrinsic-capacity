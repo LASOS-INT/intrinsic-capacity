{
 "cells": [
  {
   "cell_type": "code",
   "execution_count": 1,
   "metadata": {},
   "outputs": [],
   "source": [
    "import pandas as pd\n",
    "import numpy as np\n",
    "import matplotlib.pyplot as plt\n",
    "import seaborn as sns\n",
    "from keras.models import Sequential, Model\n",
    "from keras.layers import Dense, Input\n",
    "from keras.optimizers import Adam\n",
    "from sklearn.preprocessing import MinMaxScaler\n",
    "from sklearn.decomposition import PCA\n",
    "from sklearn.model_selection import train_test_split\n",
    "from sklearn.preprocessing import StandardScaler\n",
    "\n",
    "import tensorflow as tf\n",
    "import numpy as np\n",
    "\n",
    "from tensorflow.keras.layers import Flatten,Dense,Input,Reshape\n",
    "from tensorflow.keras.models import Sequential\n",
    "from random import randrange"
   ]
  },
  {
   "cell_type": "markdown",
   "metadata": {},
   "source": [
    "### Import dataset"
   ]
  },
  {
   "cell_type": "code",
   "execution_count": 2,
   "metadata": {},
   "outputs": [],
   "source": [
    "df = pd.read_csv('../Data/processed_df.csv')"
   ]
  },
  {
   "cell_type": "code",
   "execution_count": 3,
   "metadata": {},
   "outputs": [
    {
     "data": {
      "text/html": [
       "<div>\n",
       "<style scoped>\n",
       "    .dataframe tbody tr th:only-of-type {\n",
       "        vertical-align: middle;\n",
       "    }\n",
       "\n",
       "    .dataframe tbody tr th {\n",
       "        vertical-align: top;\n",
       "    }\n",
       "\n",
       "    .dataframe thead th {\n",
       "        text-align: right;\n",
       "    }\n",
       "</style>\n",
       "<table border=\"1\" class=\"dataframe\">\n",
       "  <thead>\n",
       "    <tr style=\"text-align: right;\">\n",
       "      <th></th>\n",
       "      <th>handgrip</th>\n",
       "      <th>weight_loss</th>\n",
       "      <th>exaustion</th>\n",
       "      <th>poor_endurance</th>\n",
       "      <th>gait_speed</th>\n",
       "      <th>balance</th>\n",
       "      <th>hearing_deficit</th>\n",
       "      <th>distance_vision</th>\n",
       "      <th>near_vision</th>\n",
       "      <th>depression_scale</th>\n",
       "      <th>...</th>\n",
       "      <th>idade_morador_8</th>\n",
       "      <th>idade_morador_9</th>\n",
       "      <th>idade_morador_10</th>\n",
       "      <th>idade_morador_11</th>\n",
       "      <th>idade_morador_12</th>\n",
       "      <th>idade_morador_13</th>\n",
       "      <th>idade_morador_14</th>\n",
       "      <th>adl_index</th>\n",
       "      <th>aadl_index</th>\n",
       "      <th>iadl_index</th>\n",
       "    </tr>\n",
       "  </thead>\n",
       "  <tbody>\n",
       "    <tr>\n",
       "      <th>0</th>\n",
       "      <td>24.333333</td>\n",
       "      <td>0.0</td>\n",
       "      <td>1.0</td>\n",
       "      <td>1.0</td>\n",
       "      <td>3.500</td>\n",
       "      <td>4.0</td>\n",
       "      <td>2.0</td>\n",
       "      <td>2.0</td>\n",
       "      <td>2.0</td>\n",
       "      <td>2.0</td>\n",
       "      <td>...</td>\n",
       "      <td>NaN</td>\n",
       "      <td>NaN</td>\n",
       "      <td>NaN</td>\n",
       "      <td>NaN</td>\n",
       "      <td>NaN</td>\n",
       "      <td>NaN</td>\n",
       "      <td>NaN</td>\n",
       "      <td>6.0</td>\n",
       "      <td>7.0</td>\n",
       "      <td>8.0</td>\n",
       "    </tr>\n",
       "    <tr>\n",
       "      <th>1</th>\n",
       "      <td>25.666667</td>\n",
       "      <td>0.0</td>\n",
       "      <td>1.0</td>\n",
       "      <td>1.0</td>\n",
       "      <td>3.300</td>\n",
       "      <td>4.0</td>\n",
       "      <td>4.0</td>\n",
       "      <td>3.0</td>\n",
       "      <td>3.0</td>\n",
       "      <td>2.0</td>\n",
       "      <td>...</td>\n",
       "      <td>NaN</td>\n",
       "      <td>NaN</td>\n",
       "      <td>NaN</td>\n",
       "      <td>NaN</td>\n",
       "      <td>NaN</td>\n",
       "      <td>NaN</td>\n",
       "      <td>NaN</td>\n",
       "      <td>5.0</td>\n",
       "      <td>4.0</td>\n",
       "      <td>8.0</td>\n",
       "    </tr>\n",
       "    <tr>\n",
       "      <th>2</th>\n",
       "      <td>14.666667</td>\n",
       "      <td>NaN</td>\n",
       "      <td>2.0</td>\n",
       "      <td>1.0</td>\n",
       "      <td>4.595</td>\n",
       "      <td>4.0</td>\n",
       "      <td>2.0</td>\n",
       "      <td>3.0</td>\n",
       "      <td>4.0</td>\n",
       "      <td>5.0</td>\n",
       "      <td>...</td>\n",
       "      <td>NaN</td>\n",
       "      <td>NaN</td>\n",
       "      <td>NaN</td>\n",
       "      <td>NaN</td>\n",
       "      <td>NaN</td>\n",
       "      <td>NaN</td>\n",
       "      <td>NaN</td>\n",
       "      <td>6.0</td>\n",
       "      <td>7.0</td>\n",
       "      <td>8.0</td>\n",
       "    </tr>\n",
       "    <tr>\n",
       "      <th>3</th>\n",
       "      <td>24.000000</td>\n",
       "      <td>0.0</td>\n",
       "      <td>1.0</td>\n",
       "      <td>1.0</td>\n",
       "      <td>5.610</td>\n",
       "      <td>4.0</td>\n",
       "      <td>3.0</td>\n",
       "      <td>2.0</td>\n",
       "      <td>2.0</td>\n",
       "      <td>3.0</td>\n",
       "      <td>...</td>\n",
       "      <td>NaN</td>\n",
       "      <td>NaN</td>\n",
       "      <td>NaN</td>\n",
       "      <td>NaN</td>\n",
       "      <td>NaN</td>\n",
       "      <td>NaN</td>\n",
       "      <td>NaN</td>\n",
       "      <td>6.0</td>\n",
       "      <td>5.0</td>\n",
       "      <td>8.0</td>\n",
       "    </tr>\n",
       "    <tr>\n",
       "      <th>4</th>\n",
       "      <td>NaN</td>\n",
       "      <td>0.0</td>\n",
       "      <td>4.0</td>\n",
       "      <td>2.0</td>\n",
       "      <td>38.145</td>\n",
       "      <td>NaN</td>\n",
       "      <td>3.0</td>\n",
       "      <td>2.0</td>\n",
       "      <td>3.0</td>\n",
       "      <td>5.0</td>\n",
       "      <td>...</td>\n",
       "      <td>NaN</td>\n",
       "      <td>NaN</td>\n",
       "      <td>NaN</td>\n",
       "      <td>NaN</td>\n",
       "      <td>NaN</td>\n",
       "      <td>NaN</td>\n",
       "      <td>NaN</td>\n",
       "      <td>6.0</td>\n",
       "      <td>3.0</td>\n",
       "      <td>3.0</td>\n",
       "    </tr>\n",
       "  </tbody>\n",
       "</table>\n",
       "<p>5 rows × 63 columns</p>\n",
       "</div>"
      ],
      "text/plain": [
       "    handgrip  weight_loss  exaustion  poor_endurance  gait_speed  balance  \\\n",
       "0  24.333333          0.0        1.0             1.0       3.500      4.0   \n",
       "1  25.666667          0.0        1.0             1.0       3.300      4.0   \n",
       "2  14.666667          NaN        2.0             1.0       4.595      4.0   \n",
       "3  24.000000          0.0        1.0             1.0       5.610      4.0   \n",
       "4        NaN          0.0        4.0             2.0      38.145      NaN   \n",
       "\n",
       "   hearing_deficit  distance_vision  near_vision  depression_scale  ...  \\\n",
       "0              2.0              2.0          2.0               2.0  ...   \n",
       "1              4.0              3.0          3.0               2.0  ...   \n",
       "2              2.0              3.0          4.0               5.0  ...   \n",
       "3              3.0              2.0          2.0               3.0  ...   \n",
       "4              3.0              2.0          3.0               5.0  ...   \n",
       "\n",
       "   idade_morador_8  idade_morador_9  idade_morador_10  idade_morador_11  \\\n",
       "0              NaN              NaN               NaN               NaN   \n",
       "1              NaN              NaN               NaN               NaN   \n",
       "2              NaN              NaN               NaN               NaN   \n",
       "3              NaN              NaN               NaN               NaN   \n",
       "4              NaN              NaN               NaN               NaN   \n",
       "\n",
       "   idade_morador_12  idade_morador_13  idade_morador_14  adl_index  \\\n",
       "0               NaN               NaN               NaN        6.0   \n",
       "1               NaN               NaN               NaN        5.0   \n",
       "2               NaN               NaN               NaN        6.0   \n",
       "3               NaN               NaN               NaN        6.0   \n",
       "4               NaN               NaN               NaN        6.0   \n",
       "\n",
       "   aadl_index  iadl_index  \n",
       "0         7.0         8.0  \n",
       "1         4.0         8.0  \n",
       "2         7.0         8.0  \n",
       "3         5.0         8.0  \n",
       "4         3.0         3.0  \n",
       "\n",
       "[5 rows x 63 columns]"
      ]
     },
     "execution_count": 3,
     "metadata": {},
     "output_type": "execute_result"
    }
   ],
   "source": [
    "df.head()"
   ]
  },
  {
   "cell_type": "code",
   "execution_count": 4,
   "metadata": {},
   "outputs": [
    {
     "data": {
      "text/plain": [
       "Index(['handgrip', 'weight_loss', 'exaustion', 'poor_endurance', 'gait_speed',\n",
       "       'balance', 'hearing_deficit', 'distance_vision', 'near_vision',\n",
       "       'depression_scale', 'sleep_quality', 'temporal_orientation',\n",
       "       'memory_recall', 'semantic_memory', 'verbal_fluency', 'sexo', 'regiao',\n",
       "       'etinia', 'sexo_morador_1', 'sexo_morador_2', 'sexo_morador_3',\n",
       "       'sexo_morador_4', 'sexo_morador_5', 'sexo_morador_6', 'sexo_morador_7',\n",
       "       'sexo_morador_8', 'sexo_morador_9', 'sexo_morador_10',\n",
       "       'sexo_morador_11', 'sexo_morador_12', 'sexo_morador_13',\n",
       "       'sexo_morador_14', 'papel_morador_1', 'papel_morador_2',\n",
       "       'papel_morador_3', 'papel_morador_4', 'papel_morador_5',\n",
       "       'papel_morador_6', 'papel_morador_7', 'papel_morador_8',\n",
       "       'papel_morador_9', 'papel_morador_10', 'papel_morador_11',\n",
       "       'papel_morador_12', 'papel_morador_13', 'papel_morador_14',\n",
       "       'idade_morador_1', 'idade_morador_2', 'idade_morador_3',\n",
       "       'idade_morador_4', 'idade_morador_5', 'idade_morador_6',\n",
       "       'idade_morador_7', 'idade_morador_8', 'idade_morador_9',\n",
       "       'idade_morador_10', 'idade_morador_11', 'idade_morador_12',\n",
       "       'idade_morador_13', 'idade_morador_14', 'adl_index', 'aadl_index',\n",
       "       'iadl_index'],\n",
       "      dtype='object')"
      ]
     },
     "execution_count": 4,
     "metadata": {},
     "output_type": "execute_result"
    }
   ],
   "source": [
    "df.columns"
   ]
  },
  {
   "cell_type": "markdown",
   "metadata": {},
   "source": [
    "### Remove missing data"
   ]
  },
  {
   "cell_type": "code",
   "execution_count": 5,
   "metadata": {},
   "outputs": [
    {
     "data": {
      "text/plain": [
       "['semantic_memory',\n",
       " 'verbal_fluency',\n",
       " 'memory_recall',\n",
       " 'temporal_orientation',\n",
       " 'depression_scale',\n",
       " 'sleep_quality',\n",
       " 'gait_speed',\n",
       " 'balance',\n",
       " 'handgrip',\n",
       " 'poor_endurance',\n",
       " 'weight_loss',\n",
       " 'exaustion',\n",
       " 'distance_vision',\n",
       " 'near_vision',\n",
       " 'hearing_deficit']"
      ]
     },
     "execution_count": 5,
     "metadata": {},
     "output_type": "execute_result"
    }
   ],
   "source": [
    "ci_map = {\n",
    "    'cognitive': ['semantic_memory', 'verbal_fluency', 'memory_recall', 'temporal_orientation'],\n",
    "    'psychologicao': ['depression_scale', 'sleep_quality'],\n",
    "    'locomotor': ['gait_speed', 'balance'],\n",
    "    'vitality': ['handgrip', 'poor_endurance', 'weight_loss', 'exaustion'],\n",
    "    'sensory': ['distance_vision', 'near_vision', 'hearing_deficit']\n",
    "}\n",
    "\n",
    "# ci_map = {\n",
    "#     'cognitive': ['semantic_memory', 'verbal_fluency', 'memory_recall'],\n",
    "#     'psychologicao': ['depression_scale', 'sleep_quality'],\n",
    "#     'locomotor': ['gait_speed', 'balance'],\n",
    "#     'vitality': ['handgrip', 'poor_endurance', 'weight_loss', 'exaustion'],\n",
    "#     'sensory': ['distance_vision', 'near_vision', 'hearing_deficit']\n",
    "# }\n",
    "ci_cols = []\n",
    "[ci_cols.extend(value) for value in ci_map.values()]\n",
    "\n",
    "ci_cols"
   ]
  },
  {
   "cell_type": "code",
   "execution_count": 6,
   "metadata": {},
   "outputs": [
    {
     "data": {
      "text/plain": [
       "(6955, 63)"
      ]
     },
     "execution_count": 6,
     "metadata": {},
     "output_type": "execute_result"
    }
   ],
   "source": [
    "df_clean = df.dropna(subset=ci_cols)\n",
    "df_clean.shape"
   ]
  },
  {
   "cell_type": "markdown",
   "metadata": {},
   "source": [
    "### Split Train and test\n"
   ]
  },
  {
   "cell_type": "code",
   "execution_count": 7,
   "metadata": {},
   "outputs": [],
   "source": [
    "import pickle\n",
    "# Define dataset\n",
    "df_autoencoder = df_clean[ci_cols]\n",
    "# Split the data into training and testing sets\n",
    "X_train, X_test = train_test_split(df_autoencoder, test_size=0.2, random_state=42)\n",
    "X_train, X_val = train_test_split(X_train, test_size=0.25, random_state=42)\n",
    "\n",
    "\n",
    "scaler = StandardScaler()\n",
    "scaler.fit(X_train)\n",
    "X_train_scaled = scaler.transform(X_train)\n",
    "X_val_scaled = scaler.transform(X_val)\n",
    "X_test_scaled = scaler.transform(X_test)\n",
    "\n",
    "X_train_scaled.shape, X_val_scaled.shape, X_test_scaled.shape\n",
    "\n",
    "\n",
    "with open('./out/autoencoder_scaler.pkl', 'wb') as file:\n",
    "    pickle.dump(scaler, file)\n"
   ]
  },
  {
   "cell_type": "code",
   "execution_count": null,
   "metadata": {},
   "outputs": [],
   "source": []
  },
  {
   "cell_type": "markdown",
   "metadata": {},
   "source": [
    "### Import Genetic Result"
   ]
  },
  {
   "cell_type": "code",
   "execution_count": 12,
   "metadata": {},
   "outputs": [
    {
     "name": "stderr",
     "output_type": "stream",
     "text": [
      "WARNING:absl:Compiled the loaded model, but the compiled metrics have yet to be built. `model.compile_metrics` will be empty until you train or evaluate the model.\n"
     ]
    }
   ],
   "source": [
    "model = tf.keras.models.load_model('./out/best_model.h5')"
   ]
  },
  {
   "cell_type": "code",
   "execution_count": 14,
   "metadata": {},
   "outputs": [
    {
     "name": "stdout",
     "output_type": "stream",
     "text": [
      "\u001b[1m44/44\u001b[0m \u001b[32m━━━━━━━━━━━━━━━━━━━━\u001b[0m\u001b[37m\u001b[0m \u001b[1m0s\u001b[0m 2ms/step\n"
     ]
    },
    {
     "data": {
      "text/plain": [
       "array([[-0.8549272 , -0.58710706, -0.90015924, ...,  0.9048408 ,\n",
       "         0.8758171 ,  0.50359416],\n",
       "       [ 0.06441069,  0.21373898,  0.23768081, ..., -0.51436234,\n",
       "        -0.48540825, -0.37488878],\n",
       "       [-1.3360432 , -1.2248752 , -1.3158071 , ...,  0.830806  ,\n",
       "         0.6561135 ,  0.59718376],\n",
       "       ...,\n",
       "       [ 0.43996298,  0.02689853, -0.32442033, ..., -0.37698272,\n",
       "        -0.1017884 , -0.05356403],\n",
       "       [ 0.6770048 ,  1.1895038 ,  1.3497763 , ..., -0.63882494,\n",
       "        -0.6396715 , -0.6309602 ],\n",
       "       [ 0.06028272,  0.042566  ,  0.21045123, ..., -0.23319641,\n",
       "        -0.2776718 , -0.09538497]], dtype=float32)"
      ]
     },
     "execution_count": 14,
     "metadata": {},
     "output_type": "execute_result"
    }
   ],
   "source": [
    "model.predict(X_test_scaled)"
   ]
  },
  {
   "cell_type": "code",
   "execution_count": 15,
   "metadata": {},
   "outputs": [
    {
     "name": "stdout",
     "output_type": "stream",
     "text": [
      "\u001b[1m44/44\u001b[0m \u001b[32m━━━━━━━━━━━━━━━━━━━━\u001b[0m\u001b[37m\u001b[0m \u001b[1m0s\u001b[0m 1ms/step\n",
      "0.3801153006514832\n"
     ]
    }
   ],
   "source": [
    "from sklearn.metrics import r2_score\n",
    "\n",
    "decoded_data = model.predict(X_test_scaled)\n",
    "global_r2 = r2_score(X_test_scaled, decoded_data)\n",
    "print(global_r2)"
   ]
  }
 ],
 "metadata": {
  "kernelspec": {
   "display_name": "Python 3",
   "language": "python",
   "name": "python3"
  },
  "language_info": {
   "codemirror_mode": {
    "name": "ipython",
    "version": 3
   },
   "file_extension": ".py",
   "mimetype": "text/x-python",
   "name": "python",
   "nbconvert_exporter": "python",
   "pygments_lexer": "ipython3",
   "version": "3.10.3"
  },
  "orig_nbformat": 4
 },
 "nbformat": 4,
 "nbformat_minor": 2
}
