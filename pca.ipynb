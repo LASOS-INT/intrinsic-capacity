{
 "cells": [
  {
   "cell_type": "code",
   "execution_count": 1,
   "metadata": {},
   "outputs": [],
   "source": [
    "import pandas as pd\n",
    "import numpy as np\n",
    "import matplotlib.pyplot as plt\n",
    "import seaborn as sns\n",
    "from keras.models import Sequential, Model\n",
    "from keras.layers import Dense, Input\n",
    "from keras.optimizers import Adam\n",
    "from sklearn.preprocessing import MinMaxScaler\n",
    "\n",
    "from sklearn.model_selection import train_test_split\n",
    "from sklearn.preprocessing import StandardScaler"
   ]
  },
  {
   "cell_type": "markdown",
   "metadata": {},
   "source": [
    "### Mapeamento dos domínios"
   ]
  },
  {
   "cell_type": "code",
   "execution_count": 2,
   "metadata": {},
   "outputs": [],
   "source": [
    "df = pd.read_csv('Data/processed_df.csv')"
   ]
  },
  {
   "cell_type": "code",
   "execution_count": 3,
   "metadata": {},
   "outputs": [
    {
     "data": {
      "text/plain": [
       "['semantic_memory',\n",
       " 'verbal_fluency',\n",
       " 'memory_recall',\n",
       " 'temporal_orientation',\n",
       " 'depression_scale',\n",
       " 'sleep_quality',\n",
       " 'gait_speed',\n",
       " 'balance',\n",
       " 'imc',\n",
       " 'handgrip',\n",
       " 'distance_vision',\n",
       " 'near_vision',\n",
       " 'hearing_deficit']"
      ]
     },
     "execution_count": 3,
     "metadata": {},
     "output_type": "execute_result"
    }
   ],
   "source": [
    "ci_map = {\n",
    "    'cognitive': ['semantic_memory', 'verbal_fluency', 'memory_recall', 'temporal_orientation'],\n",
    "    'psychologicaç': ['depression_scale', 'sleep_quality'],\n",
    "    'locomotor': ['gait_speed', 'balance'],\n",
    "    'vitality': ['imc', 'handgrip'],\n",
    "    'sensory': ['distance_vision', 'near_vision', 'hearing_deficit']\n",
    "}\n",
    "ci_cols = []\n",
    "[ci_cols.extend(value) for value in ci_map.values()]\n",
    "\n",
    "ci_cols"
   ]
  },
  {
   "cell_type": "markdown",
   "metadata": {},
   "source": [
    "### Limpando"
   ]
  },
  {
   "cell_type": "code",
   "execution_count": 4,
   "metadata": {},
   "outputs": [
    {
     "data": {
      "text/plain": [
       "semantic_memory          581\n",
       "verbal_fluency           343\n",
       "memory_recall            328\n",
       "temporal_orientation     328\n",
       "depression_scale        1109\n",
       "sleep_quality             27\n",
       "gait_speed               572\n",
       "balance                  975\n",
       "imc                      244\n",
       "handgrip                 539\n",
       "distance_vision           25\n",
       "near_vision               19\n",
       "hearing_deficit           13\n",
       "dtype: int64"
      ]
     },
     "execution_count": 4,
     "metadata": {},
     "output_type": "execute_result"
    }
   ],
   "source": [
    "df[ci_cols].isna().sum()"
   ]
  },
  {
   "cell_type": "code",
   "execution_count": 5,
   "metadata": {},
   "outputs": [],
   "source": [
    "df_clean = df.dropna(subset=ci_cols)"
   ]
  },
  {
   "cell_type": "markdown",
   "metadata": {},
   "source": [
    "#### Normalizando"
   ]
  },
  {
   "cell_type": "code",
   "execution_count": 14,
   "metadata": {},
   "outputs": [
    {
     "data": {
      "text/html": [
       "<div>\n",
       "<style scoped>\n",
       "    .dataframe tbody tr th:only-of-type {\n",
       "        vertical-align: middle;\n",
       "    }\n",
       "\n",
       "    .dataframe tbody tr th {\n",
       "        vertical-align: top;\n",
       "    }\n",
       "\n",
       "    .dataframe thead th {\n",
       "        text-align: right;\n",
       "    }\n",
       "</style>\n",
       "<table border=\"1\" class=\"dataframe\">\n",
       "  <thead>\n",
       "    <tr style=\"text-align: right;\">\n",
       "      <th></th>\n",
       "      <th>semantic_memory</th>\n",
       "      <th>verbal_fluency</th>\n",
       "      <th>memory_recall</th>\n",
       "      <th>temporal_orientation</th>\n",
       "      <th>depression_scale</th>\n",
       "      <th>sleep_quality</th>\n",
       "      <th>gait_speed</th>\n",
       "      <th>balance</th>\n",
       "      <th>imc</th>\n",
       "      <th>handgrip</th>\n",
       "      <th>distance_vision</th>\n",
       "      <th>near_vision</th>\n",
       "      <th>hearing_deficit</th>\n",
       "    </tr>\n",
       "  </thead>\n",
       "  <tbody>\n",
       "    <tr>\n",
       "      <th>0</th>\n",
       "      <td>0.268168</td>\n",
       "      <td>0.660681</td>\n",
       "      <td>1.034159</td>\n",
       "      <td>0.546844</td>\n",
       "      <td>-1.099613</td>\n",
       "      <td>-0.634904</td>\n",
       "      <td>-0.382647</td>\n",
       "      <td>0.446861</td>\n",
       "      <td>-0.865233</td>\n",
       "      <td>-0.189092</td>\n",
       "      <td>-0.457474</td>\n",
       "      <td>-0.578635</td>\n",
       "      <td>-0.314207</td>\n",
       "    </tr>\n",
       "    <tr>\n",
       "      <th>1</th>\n",
       "      <td>0.268168</td>\n",
       "      <td>-0.956558</td>\n",
       "      <td>-1.467657</td>\n",
       "      <td>0.546844</td>\n",
       "      <td>-1.099613</td>\n",
       "      <td>-1.265021</td>\n",
       "      <td>-0.458307</td>\n",
       "      <td>0.446861</td>\n",
       "      <td>0.783476</td>\n",
       "      <td>-0.054113</td>\n",
       "      <td>0.651740</td>\n",
       "      <td>0.533180</td>\n",
       "      <td>2.398803</td>\n",
       "    </tr>\n",
       "    <tr>\n",
       "      <th>2</th>\n",
       "      <td>-0.879991</td>\n",
       "      <td>-0.263456</td>\n",
       "      <td>-0.216749</td>\n",
       "      <td>0.546844</td>\n",
       "      <td>0.613455</td>\n",
       "      <td>0.625330</td>\n",
       "      <td>0.031590</td>\n",
       "      <td>0.446861</td>\n",
       "      <td>-0.886024</td>\n",
       "      <td>-1.167691</td>\n",
       "      <td>0.651740</td>\n",
       "      <td>1.644995</td>\n",
       "      <td>-0.314207</td>\n",
       "    </tr>\n",
       "    <tr>\n",
       "      <th>3</th>\n",
       "      <td>-2.028151</td>\n",
       "      <td>-0.494490</td>\n",
       "      <td>-0.216749</td>\n",
       "      <td>0.546844</td>\n",
       "      <td>-0.528590</td>\n",
       "      <td>-0.634904</td>\n",
       "      <td>0.415563</td>\n",
       "      <td>0.446861</td>\n",
       "      <td>0.008885</td>\n",
       "      <td>-0.222837</td>\n",
       "      <td>-0.457474</td>\n",
       "      <td>-0.578635</td>\n",
       "      <td>1.042298</td>\n",
       "    </tr>\n",
       "    <tr>\n",
       "      <th>4</th>\n",
       "      <td>0.268168</td>\n",
       "      <td>-0.956558</td>\n",
       "      <td>-0.842203</td>\n",
       "      <td>0.546844</td>\n",
       "      <td>0.613455</td>\n",
       "      <td>0.625330</td>\n",
       "      <td>0.871413</td>\n",
       "      <td>-2.215916</td>\n",
       "      <td>-1.576843</td>\n",
       "      <td>-1.066457</td>\n",
       "      <td>1.760953</td>\n",
       "      <td>0.533180</td>\n",
       "      <td>-0.314207</td>\n",
       "    </tr>\n",
       "    <tr>\n",
       "      <th>...</th>\n",
       "      <td>...</td>\n",
       "      <td>...</td>\n",
       "      <td>...</td>\n",
       "      <td>...</td>\n",
       "      <td>...</td>\n",
       "      <td>...</td>\n",
       "      <td>...</td>\n",
       "      <td>...</td>\n",
       "      <td>...</td>\n",
       "      <td>...</td>\n",
       "      <td>...</td>\n",
       "      <td>...</td>\n",
       "      <td>...</td>\n",
       "    </tr>\n",
       "    <tr>\n",
       "      <th>7235</th>\n",
       "      <td>0.268168</td>\n",
       "      <td>0.891716</td>\n",
       "      <td>-0.216749</td>\n",
       "      <td>0.546844</td>\n",
       "      <td>1.184478</td>\n",
       "      <td>3.145799</td>\n",
       "      <td>-0.467764</td>\n",
       "      <td>-0.884527</td>\n",
       "      <td>-0.149598</td>\n",
       "      <td>-0.155347</td>\n",
       "      <td>-0.457474</td>\n",
       "      <td>-0.578635</td>\n",
       "      <td>-1.670712</td>\n",
       "    </tr>\n",
       "    <tr>\n",
       "      <th>7236</th>\n",
       "      <td>1.416328</td>\n",
       "      <td>1.353784</td>\n",
       "      <td>1.034159</td>\n",
       "      <td>0.546844</td>\n",
       "      <td>0.042432</td>\n",
       "      <td>-0.004787</td>\n",
       "      <td>-0.456415</td>\n",
       "      <td>-0.884527</td>\n",
       "      <td>1.496269</td>\n",
       "      <td>-0.357816</td>\n",
       "      <td>0.651740</td>\n",
       "      <td>0.533180</td>\n",
       "      <td>1.042298</td>\n",
       "    </tr>\n",
       "    <tr>\n",
       "      <th>7237</th>\n",
       "      <td>0.268168</td>\n",
       "      <td>0.198613</td>\n",
       "      <td>0.408705</td>\n",
       "      <td>0.546844</td>\n",
       "      <td>-0.528590</td>\n",
       "      <td>-1.265021</td>\n",
       "      <td>-0.235111</td>\n",
       "      <td>0.446861</td>\n",
       "      <td>-0.524605</td>\n",
       "      <td>-0.661519</td>\n",
       "      <td>0.651740</td>\n",
       "      <td>-0.578635</td>\n",
       "      <td>-0.314207</td>\n",
       "    </tr>\n",
       "    <tr>\n",
       "      <th>7238</th>\n",
       "      <td>1.416328</td>\n",
       "      <td>0.891716</td>\n",
       "      <td>1.659612</td>\n",
       "      <td>0.546844</td>\n",
       "      <td>-1.670636</td>\n",
       "      <td>-0.634904</td>\n",
       "      <td>-0.093249</td>\n",
       "      <td>-0.884527</td>\n",
       "      <td>0.274183</td>\n",
       "      <td>-0.357816</td>\n",
       "      <td>-0.457474</td>\n",
       "      <td>-0.578635</td>\n",
       "      <td>-0.314207</td>\n",
       "    </tr>\n",
       "    <tr>\n",
       "      <th>7239</th>\n",
       "      <td>1.416328</td>\n",
       "      <td>0.429647</td>\n",
       "      <td>1.034159</td>\n",
       "      <td>0.546844</td>\n",
       "      <td>0.613455</td>\n",
       "      <td>-1.265021</td>\n",
       "      <td>0.286942</td>\n",
       "      <td>0.446861</td>\n",
       "      <td>1.302945</td>\n",
       "      <td>-0.796498</td>\n",
       "      <td>-0.457474</td>\n",
       "      <td>-0.578635</td>\n",
       "      <td>-1.670712</td>\n",
       "    </tr>\n",
       "  </tbody>\n",
       "</table>\n",
       "<p>7240 rows × 13 columns</p>\n",
       "</div>"
      ],
      "text/plain": [
       "      semantic_memory  verbal_fluency  memory_recall  temporal_orientation  \\\n",
       "0            0.268168        0.660681       1.034159              0.546844   \n",
       "1            0.268168       -0.956558      -1.467657              0.546844   \n",
       "2           -0.879991       -0.263456      -0.216749              0.546844   \n",
       "3           -2.028151       -0.494490      -0.216749              0.546844   \n",
       "4            0.268168       -0.956558      -0.842203              0.546844   \n",
       "...               ...             ...            ...                   ...   \n",
       "7235         0.268168        0.891716      -0.216749              0.546844   \n",
       "7236         1.416328        1.353784       1.034159              0.546844   \n",
       "7237         0.268168        0.198613       0.408705              0.546844   \n",
       "7238         1.416328        0.891716       1.659612              0.546844   \n",
       "7239         1.416328        0.429647       1.034159              0.546844   \n",
       "\n",
       "      depression_scale  sleep_quality  gait_speed   balance       imc  \\\n",
       "0            -1.099613      -0.634904   -0.382647  0.446861 -0.865233   \n",
       "1            -1.099613      -1.265021   -0.458307  0.446861  0.783476   \n",
       "2             0.613455       0.625330    0.031590  0.446861 -0.886024   \n",
       "3            -0.528590      -0.634904    0.415563  0.446861  0.008885   \n",
       "4             0.613455       0.625330    0.871413 -2.215916 -1.576843   \n",
       "...                ...            ...         ...       ...       ...   \n",
       "7235          1.184478       3.145799   -0.467764 -0.884527 -0.149598   \n",
       "7236          0.042432      -0.004787   -0.456415 -0.884527  1.496269   \n",
       "7237         -0.528590      -1.265021   -0.235111  0.446861 -0.524605   \n",
       "7238         -1.670636      -0.634904   -0.093249 -0.884527  0.274183   \n",
       "7239          0.613455      -1.265021    0.286942  0.446861  1.302945   \n",
       "\n",
       "      handgrip  distance_vision  near_vision  hearing_deficit  \n",
       "0    -0.189092        -0.457474    -0.578635        -0.314207  \n",
       "1    -0.054113         0.651740     0.533180         2.398803  \n",
       "2    -1.167691         0.651740     1.644995        -0.314207  \n",
       "3    -0.222837        -0.457474    -0.578635         1.042298  \n",
       "4    -1.066457         1.760953     0.533180        -0.314207  \n",
       "...        ...              ...          ...              ...  \n",
       "7235 -0.155347        -0.457474    -0.578635        -1.670712  \n",
       "7236 -0.357816         0.651740     0.533180         1.042298  \n",
       "7237 -0.661519         0.651740    -0.578635        -0.314207  \n",
       "7238 -0.357816        -0.457474    -0.578635        -0.314207  \n",
       "7239 -0.796498        -0.457474    -0.578635        -1.670712  \n",
       "\n",
       "[7240 rows x 13 columns]"
      ]
     },
     "execution_count": 14,
     "metadata": {},
     "output_type": "execute_result"
    }
   ],
   "source": [
    "df_pca = df_clean[ci_cols]\n",
    "\n",
    "# Initialize MinMaxScaler\n",
    "scaler = StandardScaler()\n",
    "\n",
    "# Fit and transform the data\n",
    "df_scaled = scaler.fit_transform(df_pca)\n",
    "df_scaled = pd.DataFrame(df_scaled, columns=df_pca.columns)\n",
    "df_scaled"
   ]
  },
  {
   "cell_type": "markdown",
   "metadata": {},
   "source": [
    "#### Observando correlações"
   ]
  },
  {
   "cell_type": "markdown",
   "metadata": {},
   "source": [
    "#### Aplicando o PCA"
   ]
  },
  {
   "cell_type": "markdown",
   "metadata": {},
   "source": [
    "- Para toda a capacidade intrinseca"
   ]
  },
  {
   "cell_type": "code",
   "execution_count": 16,
   "metadata": {},
   "outputs": [
    {
     "data": {
      "image/png": "[encoded data removed]",
      "text/plain": [
       "<Figure size 800x600 with 1 Axes>"
      ]
     },
     "metadata": {},
     "output_type": "display_data"
    }
   ],
   "source": [
    "from sklearn.decomposition import PCA\n",
    "\n",
    "# Initialize PCA with desired number of components\n",
    "pca = PCA()  # We'll reduce the data to 2 dimensions\n",
    "\n",
    "# Fit PCA to the data and transform the data\n",
    "transformed_data = pca.fit_transform(df_scaled[ci_map['cognitive']])\n",
    "\n",
    "explained_variance_ratio = pca.explained_variance_ratio_\n",
    "\n",
    "# Plot explained variance ratio\n",
    "plt.figure(figsize=(8, 6))\n",
    "plt.bar(range(1, len(explained_variance_ratio) + 1), explained_variance_ratio, alpha=0.5, align='center')\n",
    "plt.xlabel('Principal Components')\n",
    "plt.ylabel('Explained Variance Ratio')\n",
    "plt.title('Explained Variance Ratio by Principal Component')\n",
    "plt.xticks(range(1, len(explained_variance_ratio) + 1))\n",
    "plt.grid(True)\n",
    "plt.show()"
   ]
  },
  {
   "cell_type": "code",
   "execution_count": 18,
   "metadata": {},
   "outputs": [
    {
     "data": {
      "text/plain": [
       "array([0.47322329, 0.67632408, 0.84840056, 1.        ])"
      ]
     },
     "execution_count": 18,
     "metadata": {},
     "output_type": "execute_result"
    }
   ],
   "source": [
    "explained_variance_ratio.cumsum()"
   ]
  },
  {
   "cell_type": "code",
   "execution_count": 41,
   "metadata": {},
   "outputs": [
    {
     "data": {
      "image/png": "[encoded data removed]",
      "text/plain": [
       "<Figure size 576x432 with 1 Axes>"
      ]
     },
     "metadata": {
      "needs_background": "light"
     },
     "output_type": "display_data"
    }
   ],
   "source": [
    "from sklearn.decomposition import PCA\n",
    "\n",
    "# Initialize PCA with desired number of components\n",
    "pca = PCA()  # We'll reduce the data to 2 dimensions\n",
    "\n",
    "# Fit PCA to the data and transform the data\n",
    "transformed_data = pca.fit_transform(df_pca)\n",
    "\n",
    "explained_variance_ratio = pca.explained_variance_ratio_\n",
    "\n",
    "# Plot explained variance ratio\n",
    "plt.figure(figsize=(8, 6))\n",
    "plt.bar(range(1, len(explained_variance_ratio) + 1), explained_variance_ratio, alpha=0.5, align='center')\n",
    "plt.xlabel('Principal Components')\n",
    "plt.ylabel('Explained Variance Ratio')\n",
    "plt.title('Explained Variance Ratio by Principal Component')\n",
    "plt.xticks(range(1, len(explained_variance_ratio) + 1))\n",
    "plt.grid(True)\n",
    "plt.show()"
   ]
  },
  {
   "cell_type": "code",
   "execution_count": 43,
   "metadata": {},
   "outputs": [
    {
     "data": {
      "text/plain": [
       "array([0.611738  , 0.77758709, 0.88848243, 0.92943469, 0.95143436,\n",
       "       0.96472436, 0.97612396, 0.98256833, 0.98736369, 0.99076   ,\n",
       "       0.99406315, 0.9971616 , 1.        ])"
      ]
     },
     "execution_count": 43,
     "metadata": {},
     "output_type": "execute_result"
    }
   ],
   "source": [
    "explained_variance_ratio.cumsum()"
   ]
  },
  {
   "cell_type": "markdown",
   "metadata": {},
   "source": [
    "### Aplicando o AUTOENCONDER"
   ]
  },
  {
   "cell_type": "code",
   "execution_count": 9,
   "metadata": {},
   "outputs": [],
   "source": [
    "# Define dataset\n",
    "\n",
    "df_autoencoder = df_clean[ci_cols]"
   ]
  },
  {
   "cell_type": "code",
   "execution_count": 10,
   "metadata": {},
   "outputs": [
    {
     "data": {
      "text/plain": [
       "semantic_memory         float64\n",
       "verbal_fluency          float64\n",
       "memory_recall           float64\n",
       "temporal_orientation    float64\n",
       "depression_scale        float64\n",
       "sleep_quality           float64\n",
       "gait_speed              float64\n",
       "balance                 float64\n",
       "imc                     float64\n",
       "handgrip                float64\n",
       "distance_vision         float64\n",
       "near_vision             float64\n",
       "hearing_deficit         float64\n",
       "dtype: object"
      ]
     },
     "execution_count": 10,
     "metadata": {},
     "output_type": "execute_result"
    }
   ],
   "source": [
    "df_autoencoder.dtypes"
   ]
  },
  {
   "cell_type": "code",
   "execution_count": 11,
   "metadata": {},
   "outputs": [
    {
     "data": {
      "text/html": [
       "<div>\n",
       "<style scoped>\n",
       "    .dataframe tbody tr th:only-of-type {\n",
       "        vertical-align: middle;\n",
       "    }\n",
       "\n",
       "    .dataframe tbody tr th {\n",
       "        vertical-align: top;\n",
       "    }\n",
       "\n",
       "    .dataframe thead th {\n",
       "        text-align: right;\n",
       "    }\n",
       "</style>\n",
       "<table border=\"1\" class=\"dataframe\">\n",
       "  <thead>\n",
       "    <tr style=\"text-align: right;\">\n",
       "      <th></th>\n",
       "      <th>semantic_memory</th>\n",
       "      <th>verbal_fluency</th>\n",
       "      <th>memory_recall</th>\n",
       "      <th>temporal_orientation</th>\n",
       "      <th>depression_scale</th>\n",
       "      <th>sleep_quality</th>\n",
       "      <th>gait_speed</th>\n",
       "      <th>balance</th>\n",
       "      <th>imc</th>\n",
       "      <th>handgrip</th>\n",
       "      <th>distance_vision</th>\n",
       "      <th>near_vision</th>\n",
       "      <th>hearing_deficit</th>\n",
       "    </tr>\n",
       "  </thead>\n",
       "  <tbody>\n",
       "    <tr>\n",
       "      <th>0</th>\n",
       "      <td>3.0</td>\n",
       "      <td>15.0</td>\n",
       "      <td>6.0</td>\n",
       "      <td>4.0</td>\n",
       "      <td>2.0</td>\n",
       "      <td>3.0</td>\n",
       "      <td>3.500</td>\n",
       "      <td>4.0</td>\n",
       "      <td>23.343753</td>\n",
       "      <td>24.333333</td>\n",
       "      <td>2.0</td>\n",
       "      <td>2.0</td>\n",
       "      <td>2.0</td>\n",
       "    </tr>\n",
       "    <tr>\n",
       "      <th>1</th>\n",
       "      <td>3.0</td>\n",
       "      <td>8.0</td>\n",
       "      <td>2.0</td>\n",
       "      <td>4.0</td>\n",
       "      <td>2.0</td>\n",
       "      <td>2.0</td>\n",
       "      <td>3.300</td>\n",
       "      <td>4.0</td>\n",
       "      <td>31.863105</td>\n",
       "      <td>25.666667</td>\n",
       "      <td>3.0</td>\n",
       "      <td>3.0</td>\n",
       "      <td>4.0</td>\n",
       "    </tr>\n",
       "    <tr>\n",
       "      <th>2</th>\n",
       "      <td>2.0</td>\n",
       "      <td>11.0</td>\n",
       "      <td>4.0</td>\n",
       "      <td>4.0</td>\n",
       "      <td>5.0</td>\n",
       "      <td>5.0</td>\n",
       "      <td>4.595</td>\n",
       "      <td>4.0</td>\n",
       "      <td>23.236321</td>\n",
       "      <td>14.666667</td>\n",
       "      <td>3.0</td>\n",
       "      <td>4.0</td>\n",
       "      <td>2.0</td>\n",
       "    </tr>\n",
       "    <tr>\n",
       "      <th>3</th>\n",
       "      <td>1.0</td>\n",
       "      <td>10.0</td>\n",
       "      <td>4.0</td>\n",
       "      <td>4.0</td>\n",
       "      <td>3.0</td>\n",
       "      <td>3.0</td>\n",
       "      <td>5.610</td>\n",
       "      <td>4.0</td>\n",
       "      <td>27.860572</td>\n",
       "      <td>24.000000</td>\n",
       "      <td>2.0</td>\n",
       "      <td>2.0</td>\n",
       "      <td>3.0</td>\n",
       "    </tr>\n",
       "    <tr>\n",
       "      <th>5</th>\n",
       "      <td>3.0</td>\n",
       "      <td>8.0</td>\n",
       "      <td>3.0</td>\n",
       "      <td>4.0</td>\n",
       "      <td>5.0</td>\n",
       "      <td>5.0</td>\n",
       "      <td>6.815</td>\n",
       "      <td>2.0</td>\n",
       "      <td>19.666667</td>\n",
       "      <td>15.666667</td>\n",
       "      <td>4.0</td>\n",
       "      <td>3.0</td>\n",
       "      <td>2.0</td>\n",
       "    </tr>\n",
       "    <tr>\n",
       "      <th>...</th>\n",
       "      <td>...</td>\n",
       "      <td>...</td>\n",
       "      <td>...</td>\n",
       "      <td>...</td>\n",
       "      <td>...</td>\n",
       "      <td>...</td>\n",
       "      <td>...</td>\n",
       "      <td>...</td>\n",
       "      <td>...</td>\n",
       "      <td>...</td>\n",
       "      <td>...</td>\n",
       "      <td>...</td>\n",
       "      <td>...</td>\n",
       "    </tr>\n",
       "    <tr>\n",
       "      <th>9403</th>\n",
       "      <td>3.0</td>\n",
       "      <td>16.0</td>\n",
       "      <td>4.0</td>\n",
       "      <td>4.0</td>\n",
       "      <td>6.0</td>\n",
       "      <td>9.0</td>\n",
       "      <td>3.275</td>\n",
       "      <td>3.0</td>\n",
       "      <td>27.041644</td>\n",
       "      <td>24.666667</td>\n",
       "      <td>2.0</td>\n",
       "      <td>2.0</td>\n",
       "      <td>1.0</td>\n",
       "    </tr>\n",
       "    <tr>\n",
       "      <th>9404</th>\n",
       "      <td>4.0</td>\n",
       "      <td>18.0</td>\n",
       "      <td>6.0</td>\n",
       "      <td>4.0</td>\n",
       "      <td>4.0</td>\n",
       "      <td>4.0</td>\n",
       "      <td>3.305</td>\n",
       "      <td>3.0</td>\n",
       "      <td>35.546307</td>\n",
       "      <td>22.666667</td>\n",
       "      <td>3.0</td>\n",
       "      <td>3.0</td>\n",
       "      <td>3.0</td>\n",
       "    </tr>\n",
       "    <tr>\n",
       "      <th>9405</th>\n",
       "      <td>3.0</td>\n",
       "      <td>13.0</td>\n",
       "      <td>5.0</td>\n",
       "      <td>4.0</td>\n",
       "      <td>3.0</td>\n",
       "      <td>2.0</td>\n",
       "      <td>3.890</td>\n",
       "      <td>4.0</td>\n",
       "      <td>25.103878</td>\n",
       "      <td>19.666667</td>\n",
       "      <td>3.0</td>\n",
       "      <td>2.0</td>\n",
       "      <td>2.0</td>\n",
       "    </tr>\n",
       "    <tr>\n",
       "      <th>9407</th>\n",
       "      <td>4.0</td>\n",
       "      <td>16.0</td>\n",
       "      <td>7.0</td>\n",
       "      <td>4.0</td>\n",
       "      <td>1.0</td>\n",
       "      <td>3.0</td>\n",
       "      <td>4.265</td>\n",
       "      <td>3.0</td>\n",
       "      <td>29.231439</td>\n",
       "      <td>22.666667</td>\n",
       "      <td>2.0</td>\n",
       "      <td>2.0</td>\n",
       "      <td>2.0</td>\n",
       "    </tr>\n",
       "    <tr>\n",
       "      <th>9411</th>\n",
       "      <td>4.0</td>\n",
       "      <td>14.0</td>\n",
       "      <td>6.0</td>\n",
       "      <td>4.0</td>\n",
       "      <td>5.0</td>\n",
       "      <td>2.0</td>\n",
       "      <td>5.270</td>\n",
       "      <td>4.0</td>\n",
       "      <td>34.547347</td>\n",
       "      <td>18.333333</td>\n",
       "      <td>2.0</td>\n",
       "      <td>2.0</td>\n",
       "      <td>1.0</td>\n",
       "    </tr>\n",
       "  </tbody>\n",
       "</table>\n",
       "<p>7240 rows × 13 columns</p>\n",
       "</div>"
      ],
      "text/plain": [
       "      semantic_memory  verbal_fluency  memory_recall  temporal_orientation  \\\n",
       "0                 3.0            15.0            6.0                   4.0   \n",
       "1                 3.0             8.0            2.0                   4.0   \n",
       "2                 2.0            11.0            4.0                   4.0   \n",
       "3                 1.0            10.0            4.0                   4.0   \n",
       "5                 3.0             8.0            3.0                   4.0   \n",
       "...               ...             ...            ...                   ...   \n",
       "9403              3.0            16.0            4.0                   4.0   \n",
       "9404              4.0            18.0            6.0                   4.0   \n",
       "9405              3.0            13.0            5.0                   4.0   \n",
       "9407              4.0            16.0            7.0                   4.0   \n",
       "9411              4.0            14.0            6.0                   4.0   \n",
       "\n",
       "      depression_scale  sleep_quality  gait_speed  balance        imc  \\\n",
       "0                  2.0            3.0       3.500      4.0  23.343753   \n",
       "1                  2.0            2.0       3.300      4.0  31.863105   \n",
       "2                  5.0            5.0       4.595      4.0  23.236321   \n",
       "3                  3.0            3.0       5.610      4.0  27.860572   \n",
       "5                  5.0            5.0       6.815      2.0  19.666667   \n",
       "...                ...            ...         ...      ...        ...   \n",
       "9403               6.0            9.0       3.275      3.0  27.041644   \n",
       "9404               4.0            4.0       3.305      3.0  35.546307   \n",
       "9405               3.0            2.0       3.890      4.0  25.103878   \n",
       "9407               1.0            3.0       4.265      3.0  29.231439   \n",
       "9411               5.0            2.0       5.270      4.0  34.547347   \n",
       "\n",
       "       handgrip  distance_vision  near_vision  hearing_deficit  \n",
       "0     24.333333              2.0          2.0              2.0  \n",
       "1     25.666667              3.0          3.0              4.0  \n",
       "2     14.666667              3.0          4.0              2.0  \n",
       "3     24.000000              2.0          2.0              3.0  \n",
       "5     15.666667              4.0          3.0              2.0  \n",
       "...         ...              ...          ...              ...  \n",
       "9403  24.666667              2.0          2.0              1.0  \n",
       "9404  22.666667              3.0          3.0              3.0  \n",
       "9405  19.666667              3.0          2.0              2.0  \n",
       "9407  22.666667              2.0          2.0              2.0  \n",
       "9411  18.333333              2.0          2.0              1.0  \n",
       "\n",
       "[7240 rows x 13 columns]"
      ]
     },
     "execution_count": 11,
     "metadata": {},
     "output_type": "execute_result"
    }
   ],
   "source": [
    "df_autoencoder"
   ]
  },
  {
   "cell_type": "code",
   "execution_count": 23,
   "metadata": {},
   "outputs": [],
   "source": [
    "\n",
    "\n",
    "# Split the data into training and testing sets\n",
    "X_train, X_test = train_test_split(df_autoencoder, test_size=0.2, random_state=42)\n",
    "\n",
    "scaler = MinMaxScaler()\n",
    "scaler.fit(X_train)\n",
    "X_train_scaled = scaler.transform(X_train)\n",
    "X_test_scaled = scaler.transform(X_test)\n",
    "\n"
   ]
  },
  {
   "cell_type": "code",
   "execution_count": 24,
   "metadata": {},
   "outputs": [],
   "source": [
    "def build_autoencoder(input_shape, architecture):\n",
    "    input_layer = Input(shape=input_shape)\n",
    "    encoder_layer = input_layer\n",
    "    arch_size = len(architecture)\n",
    "    # Encoder layers\n",
    "    for neurons in architecture[:arch_size//2]:\n",
    "        encoder_layer = Dense(neurons, activation='relu')(encoder_layer)\n",
    "\n",
    "    # Bottleneck layer\n",
    "    encoder_output = Dense(architecture[arch_size//2], activation='linear', name=\"bottleneck\")(encoder_layer)\n",
    "\n",
    "    decoder_layer = encoder_output\n",
    "\n",
    "    # Decoder layers\n",
    "    for neurons in architecture[arch_size//2 + 1:]:\n",
    "        decoder_layer = Dense(neurons, activation='relu')(decoder_layer)\n",
    "\n",
    "    output_layer = Dense(input_shape[0], activation='sigmoid')(decoder_layer)\n",
    "\n",
    "    # Define autoencoder model\n",
    "    autoencoder = Model(input_layer, output_layer)\n",
    "\n",
    "    # Compile the model\n",
    "    autoencoder.compile(optimizer=Adam(), loss='mean_squared_error')\n",
    "\n",
    "    return autoencoder"
   ]
  },
  {
   "cell_type": "code",
   "execution_count": 25,
   "metadata": {},
   "outputs": [],
   "source": [
    "from sklearn.metrics import r2_score\n",
    "def train_autoencoder(X_train_scaled, architecture):\n",
    "    input_shape = X_train_scaled.shape[1:]\n",
    "    autoencoder = build_autoencoder(input_shape, architecture)\n",
    "    print(autoencoder.summary())\n",
    "    autoencoder.fit(X_train_scaled, X_train_scaled, batch_size=32, epochs=50, verbose=0)\n",
    "    decoded_data = autoencoder.predict(X_train_scaled)\n",
    "    r2 = r2_score(X_train_scaled, decoded_data)\n",
    "    return r2\n"
   ]
  },
  {
   "cell_type": "code",
   "execution_count": 28,
   "metadata": {},
   "outputs": [
    {
     "data": {
      "text/html": [
       "<pre style=\"white-space:pre;overflow-x:auto;line-height:normal;font-family:Menlo,'DejaVu Sans Mono',consolas,'Courier New',monospace\"><span style=\"font-weight: bold\">Model: \"functional_5\"</span>\n",
       "</pre>\n"
      ],
      "text/plain": [
       "\u001b[1mModel: \"functional_5\"\u001b[0m\n"
      ]
     },
     "metadata": {},
     "output_type": "display_data"
    },
    {
     "data": {
      "text/html": [
       "<pre style=\"white-space:pre;overflow-x:auto;line-height:normal;font-family:Menlo,'DejaVu Sans Mono',consolas,'Courier New',monospace\">┏━━━━━━━━━━━━━━━━━━━━━━━━━━━━━━━━━┳━━━━━━━━━━━━━━━━━━━━━━━━┳━━━━━━━━━━━━━━━┓\n",
       "┃<span style=\"font-weight: bold\"> Layer (type)                    </span>┃<span style=\"font-weight: bold\"> Output Shape           </span>┃<span style=\"font-weight: bold\">       Param # </span>┃\n",
       "┡━━━━━━━━━━━━━━━━━━━━━━━━━━━━━━━━━╇━━━━━━━━━━━━━━━━━━━━━━━━╇━━━━━━━━━━━━━━━┩\n",
       "│ input_layer_2 (<span style=\"color: #0087ff; text-decoration-color: #0087ff\">InputLayer</span>)      │ (<span style=\"color: #00d7ff; text-decoration-color: #00d7ff\">None</span>, <span style=\"color: #00af00; text-decoration-color: #00af00\">13</span>)             │             <span style=\"color: #00af00; text-decoration-color: #00af00\">0</span> │\n",
       "├─────────────────────────────────┼────────────────────────┼───────────────┤\n",
       "│ dense_6 (<span style=\"color: #0087ff; text-decoration-color: #0087ff\">Dense</span>)                 │ (<span style=\"color: #00d7ff; text-decoration-color: #00d7ff\">None</span>, <span style=\"color: #00af00; text-decoration-color: #00af00\">10</span>)             │           <span style=\"color: #00af00; text-decoration-color: #00af00\">140</span> │\n",
       "├─────────────────────────────────┼────────────────────────┼───────────────┤\n",
       "│ dense_7 (<span style=\"color: #0087ff; text-decoration-color: #0087ff\">Dense</span>)                 │ (<span style=\"color: #00d7ff; text-decoration-color: #00d7ff\">None</span>, <span style=\"color: #00af00; text-decoration-color: #00af00\">5</span>)              │            <span style=\"color: #00af00; text-decoration-color: #00af00\">55</span> │\n",
       "├─────────────────────────────────┼────────────────────────┼───────────────┤\n",
       "│ bottleneck (<span style=\"color: #0087ff; text-decoration-color: #0087ff\">Dense</span>)              │ (<span style=\"color: #00d7ff; text-decoration-color: #00d7ff\">None</span>, <span style=\"color: #00af00; text-decoration-color: #00af00\">2</span>)              │            <span style=\"color: #00af00; text-decoration-color: #00af00\">12</span> │\n",
       "├─────────────────────────────────┼────────────────────────┼───────────────┤\n",
       "│ dense_8 (<span style=\"color: #0087ff; text-decoration-color: #0087ff\">Dense</span>)                 │ (<span style=\"color: #00d7ff; text-decoration-color: #00d7ff\">None</span>, <span style=\"color: #00af00; text-decoration-color: #00af00\">5</span>)              │            <span style=\"color: #00af00; text-decoration-color: #00af00\">15</span> │\n",
       "├─────────────────────────────────┼────────────────────────┼───────────────┤\n",
       "│ dense_9 (<span style=\"color: #0087ff; text-decoration-color: #0087ff\">Dense</span>)                 │ (<span style=\"color: #00d7ff; text-decoration-color: #00d7ff\">None</span>, <span style=\"color: #00af00; text-decoration-color: #00af00\">10</span>)             │            <span style=\"color: #00af00; text-decoration-color: #00af00\">60</span> │\n",
       "├─────────────────────────────────┼────────────────────────┼───────────────┤\n",
       "│ dense_10 (<span style=\"color: #0087ff; text-decoration-color: #0087ff\">Dense</span>)                │ (<span style=\"color: #00d7ff; text-decoration-color: #00d7ff\">None</span>, <span style=\"color: #00af00; text-decoration-color: #00af00\">13</span>)             │           <span style=\"color: #00af00; text-decoration-color: #00af00\">143</span> │\n",
       "└─────────────────────────────────┴────────────────────────┴───────────────┘\n",
       "</pre>\n"
      ],
      "text/plain": [
       "┏━━━━━━━━━━━━━━━━━━━━━━━━━━━━━━━━━┳━━━━━━━━━━━━━━━━━━━━━━━━┳━━━━━━━━━━━━━━━┓\n",
       "┃\u001b[1m \u001b[0m\u001b[1mLayer (type)                   \u001b[0m\u001b[1m \u001b[0m┃\u001b[1m \u001b[0m\u001b[1mOutput Shape          \u001b[0m\u001b[1m \u001b[0m┃\u001b[1m \u001b[0m\u001b[1m      Param #\u001b[0m\u001b[1m \u001b[0m┃\n",
       "┡━━━━━━━━━━━━━━━━━━━━━━━━━━━━━━━━━╇━━━━━━━━━━━━━━━━━━━━━━━━╇━━━━━━━━━━━━━━━┩\n",
       "│ input_layer_2 (\u001b[38;5;33mInputLayer\u001b[0m)      │ (\u001b[38;5;45mNone\u001b[0m, \u001b[38;5;34m13\u001b[0m)             │             \u001b[38;5;34m0\u001b[0m │\n",
       "├─────────────────────────────────┼────────────────────────┼───────────────┤\n",
       "│ dense_6 (\u001b[38;5;33mDense\u001b[0m)                 │ (\u001b[38;5;45mNone\u001b[0m, \u001b[38;5;34m10\u001b[0m)             │           \u001b[38;5;34m140\u001b[0m │\n",
       "├─────────────────────────────────┼────────────────────────┼───────────────┤\n",
       "│ dense_7 (\u001b[38;5;33mDense\u001b[0m)                 │ (\u001b[38;5;45mNone\u001b[0m, \u001b[38;5;34m5\u001b[0m)              │            \u001b[38;5;34m55\u001b[0m │\n",
       "├─────────────────────────────────┼────────────────────────┼───────────────┤\n",
       "│ bottleneck (\u001b[38;5;33mDense\u001b[0m)              │ (\u001b[38;5;45mNone\u001b[0m, \u001b[38;5;34m2\u001b[0m)              │            \u001b[38;5;34m12\u001b[0m │\n",
       "├─────────────────────────────────┼────────────────────────┼───────────────┤\n",
       "│ dense_8 (\u001b[38;5;33mDense\u001b[0m)                 │ (\u001b[38;5;45mNone\u001b[0m, \u001b[38;5;34m5\u001b[0m)              │            \u001b[38;5;34m15\u001b[0m │\n",
       "├─────────────────────────────────┼────────────────────────┼───────────────┤\n",
       "│ dense_9 (\u001b[38;5;33mDense\u001b[0m)                 │ (\u001b[38;5;45mNone\u001b[0m, \u001b[38;5;34m10\u001b[0m)             │            \u001b[38;5;34m60\u001b[0m │\n",
       "├─────────────────────────────────┼────────────────────────┼───────────────┤\n",
       "│ dense_10 (\u001b[38;5;33mDense\u001b[0m)                │ (\u001b[38;5;45mNone\u001b[0m, \u001b[38;5;34m13\u001b[0m)             │           \u001b[38;5;34m143\u001b[0m │\n",
       "└─────────────────────────────────┴────────────────────────┴───────────────┘\n"
      ]
     },
     "metadata": {},
     "output_type": "display_data"
    },
    {
     "data": {
      "text/html": [
       "<pre style=\"white-space:pre;overflow-x:auto;line-height:normal;font-family:Menlo,'DejaVu Sans Mono',consolas,'Courier New',monospace\"><span style=\"font-weight: bold\"> Total params: </span><span style=\"color: #00af00; text-decoration-color: #00af00\">425</span> (1.66 KB)\n",
       "</pre>\n"
      ],
      "text/plain": [
       "\u001b[1m Total params: \u001b[0m\u001b[38;5;34m425\u001b[0m (1.66 KB)\n"
      ]
     },
     "metadata": {},
     "output_type": "display_data"
    },
    {
     "data": {
      "text/html": [
       "<pre style=\"white-space:pre;overflow-x:auto;line-height:normal;font-family:Menlo,'DejaVu Sans Mono',consolas,'Courier New',monospace\"><span style=\"font-weight: bold\"> Trainable params: </span><span style=\"color: #00af00; text-decoration-color: #00af00\">425</span> (1.66 KB)\n",
       "</pre>\n"
      ],
      "text/plain": [
       "\u001b[1m Trainable params: \u001b[0m\u001b[38;5;34m425\u001b[0m (1.66 KB)\n"
      ]
     },
     "metadata": {},
     "output_type": "display_data"
    },
    {
     "data": {
      "text/html": [
       "<pre style=\"white-space:pre;overflow-x:auto;line-height:normal;font-family:Menlo,'DejaVu Sans Mono',consolas,'Courier New',monospace\"><span style=\"font-weight: bold\"> Non-trainable params: </span><span style=\"color: #00af00; text-decoration-color: #00af00\">0</span> (0.00 B)\n",
       "</pre>\n"
      ],
      "text/plain": [
       "\u001b[1m Non-trainable params: \u001b[0m\u001b[38;5;34m0\u001b[0m (0.00 B)\n"
      ]
     },
     "metadata": {},
     "output_type": "display_data"
    },
    {
     "name": "stdout",
     "output_type": "stream",
     "text": [
      "None\n",
      "\u001b[1m181/181\u001b[0m \u001b[32m━━━━━━━━━━━━━━━━━━━━\u001b[0m\u001b[37m\u001b[0m \u001b[1m1s\u001b[0m 3ms/step\n",
      "Training R2 Scores:\n",
      "Architecture (10, 5, 2, 5, 10): R2 = 0.3062091827698895\n"
     ]
    }
   ],
   "source": [
    "architectures = [(10, 5, 2, 5, 10)]  # Example architectures\n",
    "\n",
    "\n",
    "train_r2_scores = []\n",
    "\n",
    "for architecture in architectures:\n",
    "    train_r2 = train_autoencoder(X_train_scaled, architecture)\n",
    "    train_r2_scores.append(train_r2)\n",
    "\n",
    "print(\"Training R2 Scores:\")\n",
    "for i, architecture in enumerate(architectures):\n",
    "    print(f\"Architecture {architecture}: R2 = {train_r2_scores[i]}\")"
   ]
  },
  {
   "cell_type": "code",
   "execution_count": 31,
   "metadata": {},
   "outputs": [
    {
     "data": {
      "text/plain": [
       "<keras.src.callbacks.history.History at 0x2360b9edd50>"
      ]
     },
     "execution_count": 31,
     "metadata": {},
     "output_type": "execute_result"
    }
   ],
   "source": [
    "autoencoder = build_autoencoder((13,), (10, 5, 2, 5, 10))\n",
    "\n",
    "autoencoder.fit(X_train_scaled, X_train_scaled, batch_size=32, epochs=50, verbose=0)"
   ]
  },
  {
   "cell_type": "code",
   "execution_count": null,
   "metadata": {},
   "outputs": [],
   "source": [
    "autoencoder"
   ]
  }
 ],
 "metadata": {
  "kernelspec": {
   "display_name": "Python 3",
   "language": "python",
   "name": "python3"
  },
  "language_info": {
   "codemirror_mode": {
    "name": "ipython",
    "version": 3
   },
   "file_extension": ".py",
   "mimetype": "text/x-python",
   "name": "python",
   "nbconvert_exporter": "python",
   "pygments_lexer": "ipython3",
   "version": "3.10.3"
  },
  "orig_nbformat": 4
 },
 "nbformat": 4,
 "nbformat_minor": 2
}
