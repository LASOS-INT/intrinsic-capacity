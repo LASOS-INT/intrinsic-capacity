{
 "cells": [
  {
   "cell_type": "code",
   "execution_count": 1,
   "metadata": {},
   "outputs": [],
   "source": [
    "import pandas as pd\n",
    "import numpy as np"
   ]
  },
  {
   "cell_type": "markdown",
   "metadata": {},
   "source": [
    "## Importa dataset"
   ]
  },
  {
   "cell_type": "code",
   "execution_count": 2,
   "metadata": {},
   "outputs": [],
   "source": [
    "dados_onda1 = pd.read_csv('BASES-ELSI/ELSI_Portugues_1a_onda.csv')"
   ]
  },
  {
   "cell_type": "code",
   "execution_count": 164,
   "metadata": {},
   "outputs": [],
   "source": [
    "cognitive = {\n",
    "    'temporal orientation': ['q7', 'q8', 'q9', 'q10'],\n",
    "    'memory recall': ['q13'],\n",
    "    'sematinc memory': ['q18', 'q19', 'q20', 'q21'],\n",
    "    'verbal fluency': ['q14']\n",
    "}\n",
    "\n",
    "psychological = {\n",
    "    'depression': ['r2', 'r3', 'r4', 'r5', 'r6', 'r7', 'r8', 'r9'],\n",
    "    'sleep quality': ['n74', 'n75'],\n",
    "}\n",
    "\n",
    "sensorial = {\n",
    "    'hearing deficit': ['n16'],\n",
    "    'distance vision': ['n6'],\n",
    "    'near vision': ['n7']\n",
    "}\n",
    "\n",
    "locomotor = {\n",
    "    'gait speed': ['mf33', 'mf34', 'mf35', 'mf36', 'mf37', 'mf38'],\n",
    "    'balance': ['mf30', 'mf31', 'mf32'] #held more then 10 seconds\n",
    "}\n",
    "\n",
    "\n",
    "vitality =  {\n",
    "    'handgrip': ['mf27', 'mf28', 'mf29'], #media\n",
    "    'peso': ['mf22', 'mf24'], # media do peso e pedo informada\n",
    "    'altura': ['mf13', 'mf15'], # media da altura e altura  informada,\n",
    "    'weight loss': ['n69', 'n70', 'n71'],\n",
    "    'poor endurance': ['n73'],\n",
    "    'exaustion': ['n72']\n",
    "}\n",
    "\n",
    "adl = {\n",
    "    'feeding': 'p46',\n",
    "    'bathing': 'p43',\n",
    "    'dressing': 'p40',\n",
    "    'toileting': 'p55',\n",
    "    'transferring': 'p49',\n",
    "    'continence': 'p58'\n",
    "}\n",
    "\n",
    "aadl = ['p70', 'p71', 'p72', 'p73', 'p74', 'p75', 'p76', 'p77', 'p78', 'p79', 'p80', 'p81', 'p82', 'p85']\n",
    "\n",
    "iadl = ['p20', 'p22', 'p24', 'p26', 'p28', 'p30', 'p33', 'p35']"
   ]
  },
  {
   "cell_type": "code",
   "execution_count": 143,
   "metadata": {},
   "outputs": [
    {
     "data": {
      "text/plain": [
       "13"
      ]
     },
     "execution_count": 143,
     "metadata": {},
     "output_type": "execute_result"
    }
   ],
   "source": [
    "len(aadl)"
   ]
  },
  {
   "cell_type": "markdown",
   "metadata": {},
   "source": [
    "## Clean data"
   ]
  },
  {
   "cell_type": "markdown",
   "metadata": {},
   "source": [
    "### Cognitive"
   ]
  },
  {
   "cell_type": "code",
   "execution_count": 4,
   "metadata": {},
   "outputs": [],
   "source": [
    "cognitive_dfs = []"
   ]
  },
  {
   "cell_type": "markdown",
   "metadata": {},
   "source": [
    "#### temporal orientation"
   ]
  },
  {
   "cell_type": "code",
   "execution_count": 5,
   "metadata": {},
   "outputs": [
    {
     "name": "stdout",
     "output_type": "stream",
     "text": [
      "1    6950\n",
      "0    2134\n",
      "8     328\n",
      "Name: q7, dtype: int64\n",
      "1    8105\n",
      "0     979\n",
      "8     328\n",
      "Name: q8, dtype: int64\n",
      "1    7723\n",
      "0    1361\n",
      "8     328\n",
      "Name: q9, dtype: int64\n",
      "1    8599\n",
      "0     485\n",
      "8     328\n",
      "Name: q10, dtype: int64\n"
     ]
    }
   ],
   "source": [
    "for q in cognitive['temporal orientation']:\n",
    "    print(dados_onda1[q].value_counts())"
   ]
  },
  {
   "cell_type": "code",
   "execution_count": 6,
   "metadata": {},
   "outputs": [
    {
     "name": "stdout",
     "output_type": "stream",
     "text": [
      "1.0    6950\n",
      "0.0    2134\n",
      "Name: q7, dtype: int64\n",
      "1.0    8105\n",
      "0.0     979\n",
      "Name: q8, dtype: int64\n",
      "1.0    7723\n",
      "0.0    1361\n",
      "Name: q9, dtype: int64\n",
      "1.0    8599\n",
      "0.0     485\n",
      "Name: q10, dtype: int64\n"
     ]
    }
   ],
   "source": [
    "cognitive_to = dados_onda1[cognitive['temporal orientation']].replace(8, np.nan)\n",
    "\n",
    "for q in cognitive['temporal orientation']:\n",
    "    print(cognitive_to[q].value_counts())\n"
   ]
  },
  {
   "cell_type": "code",
   "execution_count": 7,
   "metadata": {},
   "outputs": [
    {
     "data": {
      "text/plain": [
       "0       4.0\n",
       "1       4.0\n",
       "2       4.0\n",
       "3       4.0\n",
       "4       1.0\n",
       "       ... \n",
       "9407    4.0\n",
       "9408    3.0\n",
       "9409    4.0\n",
       "9410    4.0\n",
       "9411    4.0\n",
       "Name: temporal_orientation, Length: 9412, dtype: float64"
      ]
     },
     "execution_count": 7,
     "metadata": {},
     "output_type": "execute_result"
    }
   ],
   "source": [
    "teporal_orientation = cognitive_to.apply(sum, axis=1)\n",
    "teporal_orientation.name = 'temporal_orientation'\n",
    "teporal_orientation"
   ]
  },
  {
   "cell_type": "code",
   "execution_count": 8,
   "metadata": {},
   "outputs": [],
   "source": [
    "cognitive_dfs.append(teporal_orientation)"
   ]
  },
  {
   "cell_type": "markdown",
   "metadata": {},
   "source": [
    "#### memory recall"
   ]
  },
  {
   "cell_type": "code",
   "execution_count": 9,
   "metadata": {},
   "outputs": [
    {
     "name": "stdout",
     "output_type": "stream",
     "text": [
      "4     2215\n",
      "5     2027\n",
      "3     1608\n",
      "6     1284\n",
      "2      787\n",
      "7      488\n",
      "88     328\n",
      "1      295\n",
      "0      184\n",
      "8      160\n",
      "9       27\n",
      "10       9\n",
      "Name: q13, dtype: int64\n"
     ]
    }
   ],
   "source": [
    "for q in cognitive['memory recall']:\n",
    "    print(dados_onda1[q].value_counts())"
   ]
  },
  {
   "cell_type": "code",
   "execution_count": 10,
   "metadata": {},
   "outputs": [
    {
     "name": "stdout",
     "output_type": "stream",
     "text": [
      "10.0       9\n",
      "9.0       27\n",
      "8.0      160\n",
      "0.0      184\n",
      "1.0      295\n",
      "7.0      488\n",
      "2.0      787\n",
      "6.0     1284\n",
      "3.0     1608\n",
      "5.0     2027\n",
      "4.0     2215\n",
      "Name: q13, dtype: int64\n"
     ]
    }
   ],
   "source": [
    "cognitive_mr = dados_onda1[cognitive['memory recall']].replace(88, np.nan)\n",
    "\n",
    "for q in cognitive['memory recall']:\n",
    "    print(cognitive_mr[q].value_counts().sort_values())\n"
   ]
  },
  {
   "cell_type": "code",
   "execution_count": 11,
   "metadata": {},
   "outputs": [
    {
     "data": {
      "text/html": [
       "<div>\n",
       "<style scoped>\n",
       "    .dataframe tbody tr th:only-of-type {\n",
       "        vertical-align: middle;\n",
       "    }\n",
       "\n",
       "    .dataframe tbody tr th {\n",
       "        vertical-align: top;\n",
       "    }\n",
       "\n",
       "    .dataframe thead th {\n",
       "        text-align: right;\n",
       "    }\n",
       "</style>\n",
       "<table border=\"1\" class=\"dataframe\">\n",
       "  <thead>\n",
       "    <tr style=\"text-align: right;\">\n",
       "      <th></th>\n",
       "      <th>memory_recall</th>\n",
       "    </tr>\n",
       "  </thead>\n",
       "  <tbody>\n",
       "    <tr>\n",
       "      <th>0</th>\n",
       "      <td>6.0</td>\n",
       "    </tr>\n",
       "    <tr>\n",
       "      <th>1</th>\n",
       "      <td>2.0</td>\n",
       "    </tr>\n",
       "    <tr>\n",
       "      <th>2</th>\n",
       "      <td>4.0</td>\n",
       "    </tr>\n",
       "    <tr>\n",
       "      <th>3</th>\n",
       "      <td>4.0</td>\n",
       "    </tr>\n",
       "    <tr>\n",
       "      <th>4</th>\n",
       "      <td>3.0</td>\n",
       "    </tr>\n",
       "    <tr>\n",
       "      <th>...</th>\n",
       "      <td>...</td>\n",
       "    </tr>\n",
       "    <tr>\n",
       "      <th>9407</th>\n",
       "      <td>7.0</td>\n",
       "    </tr>\n",
       "    <tr>\n",
       "      <th>9408</th>\n",
       "      <td>4.0</td>\n",
       "    </tr>\n",
       "    <tr>\n",
       "      <th>9409</th>\n",
       "      <td>3.0</td>\n",
       "    </tr>\n",
       "    <tr>\n",
       "      <th>9410</th>\n",
       "      <td>6.0</td>\n",
       "    </tr>\n",
       "    <tr>\n",
       "      <th>9411</th>\n",
       "      <td>6.0</td>\n",
       "    </tr>\n",
       "  </tbody>\n",
       "</table>\n",
       "<p>9412 rows × 1 columns</p>\n",
       "</div>"
      ],
      "text/plain": [
       "      memory_recall\n",
       "0               6.0\n",
       "1               2.0\n",
       "2               4.0\n",
       "3               4.0\n",
       "4               3.0\n",
       "...             ...\n",
       "9407            7.0\n",
       "9408            4.0\n",
       "9409            3.0\n",
       "9410            6.0\n",
       "9411            6.0\n",
       "\n",
       "[9412 rows x 1 columns]"
      ]
     },
     "execution_count": 11,
     "metadata": {},
     "output_type": "execute_result"
    }
   ],
   "source": [
    "memory_recall = cognitive_mr\n",
    "memory_recall.columns = ['memory_recall']\n",
    "memory_recall"
   ]
  },
  {
   "cell_type": "code",
   "execution_count": 12,
   "metadata": {},
   "outputs": [],
   "source": [
    "cognitive_dfs.append(memory_recall)"
   ]
  },
  {
   "cell_type": "markdown",
   "metadata": {},
   "source": [
    "#### semantic memory"
   ]
  },
  {
   "cell_type": "code",
   "execution_count": 13,
   "metadata": {},
   "outputs": [
    {
     "name": "stdout",
     "output_type": "stream",
     "text": [
      "1     8830\n",
      "8      328\n",
      "2      194\n",
      "9       52\n",
      "10       8\n",
      "Name: q18, dtype: int64\n",
      "1     4599\n",
      "2     3989\n",
      "9      453\n",
      "8      328\n",
      "10      43\n",
      "Name: q19, dtype: int64\n",
      "1     7917\n",
      "9      758\n",
      "8      328\n",
      "2      301\n",
      "10     108\n",
      "Name: q20, dtype: int64\n",
      "9     5005\n",
      "1     3288\n",
      "2      654\n",
      "8      328\n",
      "10     137\n",
      "Name: q21, dtype: int64\n"
     ]
    }
   ],
   "source": [
    "for q in cognitive['sematinc memory']:\n",
    "    print(dados_onda1[q].value_counts())"
   ]
  },
  {
   "cell_type": "code",
   "execution_count": 14,
   "metadata": {},
   "outputs": [
    {
     "name": "stdout",
     "output_type": "stream",
     "text": [
      "0.0     246\n",
      "1.0    8830\n",
      "Name: q18, dtype: int64\n",
      "0.0    4442\n",
      "1.0    4599\n",
      "Name: q19, dtype: int64\n",
      "0.0    1059\n",
      "1.0    7917\n",
      "Name: q20, dtype: int64\n",
      "1.0    3288\n",
      "0.0    5659\n",
      "Name: q21, dtype: int64\n"
     ]
    }
   ],
   "source": [
    "substitutions = {8: np.nan, 9: 0, 10: np.nan, 2: 0}\n",
    "\n",
    "\n",
    "cognitive_sm = dados_onda1[cognitive['sematinc memory']].replace(substitutions)\n",
    "\n",
    "for q in cognitive['sematinc memory']:\n",
    "    print(cognitive_sm[q].value_counts().sort_values())\n"
   ]
  },
  {
   "cell_type": "code",
   "execution_count": 15,
   "metadata": {},
   "outputs": [
    {
     "data": {
      "text/plain": [
       "q18    336\n",
       "q19    371\n",
       "q20    436\n",
       "q21    465\n",
       "dtype: int64"
      ]
     },
     "execution_count": 15,
     "metadata": {},
     "output_type": "execute_result"
    }
   ],
   "source": [
    "cognitive_sm.isna().sum()"
   ]
  },
  {
   "cell_type": "code",
   "execution_count": 16,
   "metadata": {},
   "outputs": [
    {
     "data": {
      "text/plain": [
       "0       3.0\n",
       "1       3.0\n",
       "2       2.0\n",
       "3       1.0\n",
       "4       1.0\n",
       "       ... \n",
       "9407    4.0\n",
       "9408    4.0\n",
       "9409    1.0\n",
       "9410    1.0\n",
       "9411    4.0\n",
       "Name: semantic_memory, Length: 9412, dtype: float64"
      ]
     },
     "execution_count": 16,
     "metadata": {},
     "output_type": "execute_result"
    }
   ],
   "source": [
    "semantic_memory = cognitive_sm.apply(sum, axis=1)\n",
    "semantic_memory.name = 'semantic_memory'\n",
    "semantic_memory"
   ]
  },
  {
   "cell_type": "code",
   "execution_count": 17,
   "metadata": {},
   "outputs": [],
   "source": [
    "cognitive_dfs.append(semantic_memory)"
   ]
  },
  {
   "cell_type": "markdown",
   "metadata": {},
   "source": [
    "#### verbal fluency"
   ]
  },
  {
   "cell_type": "code",
   "execution_count": 18,
   "metadata": {},
   "outputs": [
    {
     "name": "stdout",
     "output_type": "stream",
     "text": [
      "0       10\n",
      "1       12\n",
      "2       35\n",
      "3       59\n",
      "4      141\n",
      "5      213\n",
      "6      379\n",
      "7      466\n",
      "8      618\n",
      "9      780\n",
      "10     961\n",
      "11     919\n",
      "12     831\n",
      "13     774\n",
      "14     642\n",
      "15     526\n",
      "16     414\n",
      "17     381\n",
      "18     287\n",
      "19     180\n",
      "20     123\n",
      "21     104\n",
      "22      61\n",
      "23      47\n",
      "24      25\n",
      "25      24\n",
      "26      22\n",
      "27      13\n",
      "28       7\n",
      "29       3\n",
      "30       6\n",
      "31       2\n",
      "32       1\n",
      "33       1\n",
      "35       1\n",
      "38       1\n",
      "888    328\n",
      "999     15\n",
      "Name: q14, dtype: int64\n"
     ]
    }
   ],
   "source": [
    "for q in cognitive['verbal fluency']:\n",
    "    print(dados_onda1[q].value_counts().sort_index())"
   ]
  },
  {
   "cell_type": "code",
   "execution_count": 19,
   "metadata": {},
   "outputs": [
    {
     "name": "stdout",
     "output_type": "stream",
     "text": [
      "38.0      1\n",
      "35.0      1\n",
      "33.0      1\n",
      "32.0      1\n",
      "31.0      2\n",
      "29.0      3\n",
      "30.0      6\n",
      "28.0      7\n",
      "0.0      10\n",
      "1.0      12\n",
      "27.0     13\n",
      "26.0     22\n",
      "25.0     24\n",
      "24.0     25\n",
      "2.0      35\n",
      "23.0     47\n",
      "3.0      59\n",
      "22.0     61\n",
      "21.0    104\n",
      "20.0    123\n",
      "4.0     141\n",
      "19.0    180\n",
      "5.0     213\n",
      "18.0    287\n",
      "6.0     379\n",
      "17.0    381\n",
      "16.0    414\n",
      "7.0     466\n",
      "15.0    526\n",
      "8.0     618\n",
      "14.0    642\n",
      "13.0    774\n",
      "9.0     780\n",
      "12.0    831\n",
      "11.0    919\n",
      "10.0    961\n",
      "Name: q14, dtype: int64\n"
     ]
    }
   ],
   "source": [
    "substitutions = {888: np.nan, 999: np.nan}\n",
    "\n",
    "\n",
    "cognitive_vf = dados_onda1[cognitive['verbal fluency']].replace(substitutions)\n",
    "\n",
    "for q in cognitive['verbal fluency']:\n",
    "    print(cognitive_vf[q].value_counts().sort_values())\n"
   ]
  },
  {
   "cell_type": "code",
   "execution_count": 20,
   "metadata": {},
   "outputs": [
    {
     "data": {
      "text/html": [
       "<div>\n",
       "<style scoped>\n",
       "    .dataframe tbody tr th:only-of-type {\n",
       "        vertical-align: middle;\n",
       "    }\n",
       "\n",
       "    .dataframe tbody tr th {\n",
       "        vertical-align: top;\n",
       "    }\n",
       "\n",
       "    .dataframe thead th {\n",
       "        text-align: right;\n",
       "    }\n",
       "</style>\n",
       "<table border=\"1\" class=\"dataframe\">\n",
       "  <thead>\n",
       "    <tr style=\"text-align: right;\">\n",
       "      <th></th>\n",
       "      <th>verbal_fluency</th>\n",
       "    </tr>\n",
       "  </thead>\n",
       "  <tbody>\n",
       "    <tr>\n",
       "      <th>0</th>\n",
       "      <td>15.0</td>\n",
       "    </tr>\n",
       "    <tr>\n",
       "      <th>1</th>\n",
       "      <td>8.0</td>\n",
       "    </tr>\n",
       "    <tr>\n",
       "      <th>2</th>\n",
       "      <td>11.0</td>\n",
       "    </tr>\n",
       "    <tr>\n",
       "      <th>3</th>\n",
       "      <td>10.0</td>\n",
       "    </tr>\n",
       "    <tr>\n",
       "      <th>4</th>\n",
       "      <td>9.0</td>\n",
       "    </tr>\n",
       "    <tr>\n",
       "      <th>...</th>\n",
       "      <td>...</td>\n",
       "    </tr>\n",
       "    <tr>\n",
       "      <th>9407</th>\n",
       "      <td>16.0</td>\n",
       "    </tr>\n",
       "    <tr>\n",
       "      <th>9408</th>\n",
       "      <td>10.0</td>\n",
       "    </tr>\n",
       "    <tr>\n",
       "      <th>9409</th>\n",
       "      <td>11.0</td>\n",
       "    </tr>\n",
       "    <tr>\n",
       "      <th>9410</th>\n",
       "      <td>12.0</td>\n",
       "    </tr>\n",
       "    <tr>\n",
       "      <th>9411</th>\n",
       "      <td>14.0</td>\n",
       "    </tr>\n",
       "  </tbody>\n",
       "</table>\n",
       "<p>9412 rows × 1 columns</p>\n",
       "</div>"
      ],
      "text/plain": [
       "      verbal_fluency\n",
       "0               15.0\n",
       "1                8.0\n",
       "2               11.0\n",
       "3               10.0\n",
       "4                9.0\n",
       "...              ...\n",
       "9407            16.0\n",
       "9408            10.0\n",
       "9409            11.0\n",
       "9410            12.0\n",
       "9411            14.0\n",
       "\n",
       "[9412 rows x 1 columns]"
      ]
     },
     "execution_count": 20,
     "metadata": {},
     "output_type": "execute_result"
    }
   ],
   "source": [
    "verbal_fluency = cognitive_vf\n",
    "verbal_fluency.columns = ['verbal_fluency']\n",
    "verbal_fluency"
   ]
  },
  {
   "cell_type": "code",
   "execution_count": 21,
   "metadata": {},
   "outputs": [],
   "source": [
    "cognitive_dfs.append(verbal_fluency)"
   ]
  },
  {
   "cell_type": "markdown",
   "metadata": {},
   "source": [
    "#### final df\n"
   ]
  },
  {
   "cell_type": "code",
   "execution_count": 22,
   "metadata": {},
   "outputs": [
    {
     "data": {
      "text/html": [
       "<div>\n",
       "<style scoped>\n",
       "    .dataframe tbody tr th:only-of-type {\n",
       "        vertical-align: middle;\n",
       "    }\n",
       "\n",
       "    .dataframe tbody tr th {\n",
       "        vertical-align: top;\n",
       "    }\n",
       "\n",
       "    .dataframe thead th {\n",
       "        text-align: right;\n",
       "    }\n",
       "</style>\n",
       "<table border=\"1\" class=\"dataframe\">\n",
       "  <thead>\n",
       "    <tr style=\"text-align: right;\">\n",
       "      <th></th>\n",
       "      <th>temporal_orientation</th>\n",
       "      <th>memory_recall</th>\n",
       "      <th>semantic_memory</th>\n",
       "      <th>verbal_fluency</th>\n",
       "    </tr>\n",
       "  </thead>\n",
       "  <tbody>\n",
       "    <tr>\n",
       "      <th>0</th>\n",
       "      <td>4.0</td>\n",
       "      <td>6.0</td>\n",
       "      <td>3.0</td>\n",
       "      <td>15.0</td>\n",
       "    </tr>\n",
       "    <tr>\n",
       "      <th>1</th>\n",
       "      <td>4.0</td>\n",
       "      <td>2.0</td>\n",
       "      <td>3.0</td>\n",
       "      <td>8.0</td>\n",
       "    </tr>\n",
       "    <tr>\n",
       "      <th>2</th>\n",
       "      <td>4.0</td>\n",
       "      <td>4.0</td>\n",
       "      <td>2.0</td>\n",
       "      <td>11.0</td>\n",
       "    </tr>\n",
       "    <tr>\n",
       "      <th>3</th>\n",
       "      <td>4.0</td>\n",
       "      <td>4.0</td>\n",
       "      <td>1.0</td>\n",
       "      <td>10.0</td>\n",
       "    </tr>\n",
       "    <tr>\n",
       "      <th>4</th>\n",
       "      <td>1.0</td>\n",
       "      <td>3.0</td>\n",
       "      <td>1.0</td>\n",
       "      <td>9.0</td>\n",
       "    </tr>\n",
       "    <tr>\n",
       "      <th>...</th>\n",
       "      <td>...</td>\n",
       "      <td>...</td>\n",
       "      <td>...</td>\n",
       "      <td>...</td>\n",
       "    </tr>\n",
       "    <tr>\n",
       "      <th>9407</th>\n",
       "      <td>4.0</td>\n",
       "      <td>7.0</td>\n",
       "      <td>4.0</td>\n",
       "      <td>16.0</td>\n",
       "    </tr>\n",
       "    <tr>\n",
       "      <th>9408</th>\n",
       "      <td>3.0</td>\n",
       "      <td>4.0</td>\n",
       "      <td>4.0</td>\n",
       "      <td>10.0</td>\n",
       "    </tr>\n",
       "    <tr>\n",
       "      <th>9409</th>\n",
       "      <td>4.0</td>\n",
       "      <td>3.0</td>\n",
       "      <td>1.0</td>\n",
       "      <td>11.0</td>\n",
       "    </tr>\n",
       "    <tr>\n",
       "      <th>9410</th>\n",
       "      <td>4.0</td>\n",
       "      <td>6.0</td>\n",
       "      <td>1.0</td>\n",
       "      <td>12.0</td>\n",
       "    </tr>\n",
       "    <tr>\n",
       "      <th>9411</th>\n",
       "      <td>4.0</td>\n",
       "      <td>6.0</td>\n",
       "      <td>4.0</td>\n",
       "      <td>14.0</td>\n",
       "    </tr>\n",
       "  </tbody>\n",
       "</table>\n",
       "<p>9412 rows × 4 columns</p>\n",
       "</div>"
      ],
      "text/plain": [
       "      temporal_orientation  memory_recall  semantic_memory  verbal_fluency\n",
       "0                      4.0            6.0              3.0            15.0\n",
       "1                      4.0            2.0              3.0             8.0\n",
       "2                      4.0            4.0              2.0            11.0\n",
       "3                      4.0            4.0              1.0            10.0\n",
       "4                      1.0            3.0              1.0             9.0\n",
       "...                    ...            ...              ...             ...\n",
       "9407                   4.0            7.0              4.0            16.0\n",
       "9408                   3.0            4.0              4.0            10.0\n",
       "9409                   4.0            3.0              1.0            11.0\n",
       "9410                   4.0            6.0              1.0            12.0\n",
       "9411                   4.0            6.0              4.0            14.0\n",
       "\n",
       "[9412 rows x 4 columns]"
      ]
     },
     "execution_count": 22,
     "metadata": {},
     "output_type": "execute_result"
    }
   ],
   "source": [
    "cognitive_df = pd.concat(cognitive_dfs, axis=1)\n",
    "cognitive_df"
   ]
  },
  {
   "cell_type": "markdown",
   "metadata": {},
   "source": [
    "### Psychological"
   ]
  },
  {
   "cell_type": "code",
   "execution_count": 23,
   "metadata": {},
   "outputs": [],
   "source": [
    "psy_dfs = []"
   ]
  },
  {
   "cell_type": "markdown",
   "metadata": {},
   "source": [
    "#### depression"
   ]
  },
  {
   "cell_type": "code",
   "execution_count": 24,
   "metadata": {},
   "outputs": [
    {
     "name": "stdout",
     "output_type": "stream",
     "text": [
      "0    6032\n",
      "1    2438\n",
      "8     910\n",
      "9      32\n",
      "Name: r2, dtype: int64\n",
      "1    4711\n",
      "0    3767\n",
      "8     910\n",
      "9      24\n",
      "Name: r3, dtype: int64\n",
      "1    4381\n",
      "0    4104\n",
      "8     910\n",
      "9      17\n",
      "Name: r4, dtype: int64\n",
      "1    6526\n",
      "0    1925\n",
      "8     910\n",
      "9      51\n",
      "Name: r5, dtype: int64\n",
      "0    5506\n",
      "1    2984\n",
      "8     910\n",
      "9      12\n",
      "Name: r6, dtype: int64\n",
      "1    6564\n",
      "0    1862\n",
      "8     910\n",
      "9      76\n",
      "Name: r7, dtype: int64\n",
      "0    5242\n",
      "1    3244\n",
      "8     910\n",
      "9      16\n",
      "Name: r8, dtype: int64\n",
      "0    5790\n",
      "1    2677\n",
      "8     910\n",
      "9      35\n",
      "Name: r9, dtype: int64\n"
     ]
    }
   ],
   "source": [
    "for q in psychological['depression']:\n",
    "    print(dados_onda1[q].value_counts())"
   ]
  },
  {
   "cell_type": "code",
   "execution_count": 25,
   "metadata": {},
   "outputs": [
    {
     "name": "stdout",
     "output_type": "stream",
     "text": [
      "0.0    6032\n",
      "1.0    2438\n",
      "Name: r2, dtype: int64\n",
      "1.0    4711\n",
      "0.0    3767\n",
      "Name: r3, dtype: int64\n",
      "1.0    4381\n",
      "0.0    4104\n",
      "Name: r4, dtype: int64\n",
      "1.0    6526\n",
      "0.0    1925\n",
      "Name: r5, dtype: int64\n",
      "0.0    5506\n",
      "1.0    2984\n",
      "Name: r6, dtype: int64\n",
      "1.0    6564\n",
      "0.0    1862\n",
      "Name: r7, dtype: int64\n",
      "0.0    5242\n",
      "1.0    3244\n",
      "Name: r8, dtype: int64\n",
      "0.0    5790\n",
      "1.0    2677\n",
      "Name: r9, dtype: int64\n"
     ]
    }
   ],
   "source": [
    "psy_dep = dados_onda1[psychological['depression']].replace(8, np.nan).replace(9, np.nan)\n",
    "\n",
    "for q in psychological['depression']:\n",
    "    print(psy_dep[q].value_counts())\n"
   ]
  },
  {
   "cell_type": "code",
   "execution_count": 26,
   "metadata": {},
   "outputs": [
    {
     "data": {
      "text/plain": [
       "0       2.0\n",
       "1       2.0\n",
       "2       5.0\n",
       "3       3.0\n",
       "4       5.0\n",
       "       ... \n",
       "9407    1.0\n",
       "9408    4.0\n",
       "9409    4.0\n",
       "9410    7.0\n",
       "9411    5.0\n",
       "Name: depression_scale, Length: 9412, dtype: float64"
      ]
     },
     "execution_count": 26,
     "metadata": {},
     "output_type": "execute_result"
    }
   ],
   "source": [
    "depression = psy_dep.apply(sum, axis=1)\n",
    "depression.name = 'depression_scale'\n",
    "depression"
   ]
  },
  {
   "cell_type": "code",
   "execution_count": 27,
   "metadata": {},
   "outputs": [],
   "source": [
    "psy_dfs.append(depression)"
   ]
  },
  {
   "cell_type": "markdown",
   "metadata": {},
   "source": [
    "#### sleep quality"
   ]
  },
  {
   "cell_type": "code",
   "execution_count": 28,
   "metadata": {},
   "outputs": [
    {
     "name": "stdout",
     "output_type": "stream",
     "text": [
      "2    4219\n",
      "3    2547\n",
      "4    1227\n",
      "1     872\n",
      "5     529\n",
      "9      18\n",
      "Name: n74, dtype: int64\n",
      "1    7824\n",
      "4    1201\n",
      "3     264\n",
      "2     112\n",
      "9      11\n",
      "Name: n75, dtype: int64\n"
     ]
    }
   ],
   "source": [
    "for q in psychological['sleep quality']:\n",
    "    print(dados_onda1[q].value_counts())"
   ]
  },
  {
   "cell_type": "code",
   "execution_count": 29,
   "metadata": {},
   "outputs": [
    {
     "name": "stdout",
     "output_type": "stream",
     "text": [
      "2.0    4219\n",
      "3.0    2547\n",
      "4.0    1227\n",
      "1.0     872\n",
      "5.0     529\n",
      "Name: n74, dtype: int64\n",
      "1.0    7824\n",
      "4.0    1201\n",
      "3.0     264\n",
      "2.0     112\n",
      "Name: n75, dtype: int64\n"
     ]
    }
   ],
   "source": [
    "psy_sleep = dados_onda1[psychological['sleep quality']].replace(9, np.nan)\n",
    "\n",
    "for q in psychological['sleep quality']:\n",
    "    print(psy_sleep[q].value_counts())\n"
   ]
  },
  {
   "cell_type": "code",
   "execution_count": 30,
   "metadata": {},
   "outputs": [
    {
     "data": {
      "text/plain": [
       "0       3.0\n",
       "1       2.0\n",
       "2       5.0\n",
       "3       3.0\n",
       "4       6.0\n",
       "       ... \n",
       "9407    3.0\n",
       "9408    4.0\n",
       "9409    4.0\n",
       "9410    3.0\n",
       "9411    2.0\n",
       "Name: sleep_quality, Length: 9412, dtype: float64"
      ]
     },
     "execution_count": 30,
     "metadata": {},
     "output_type": "execute_result"
    }
   ],
   "source": [
    "sleep_quality = psy_sleep.apply(sum, axis=1)\n",
    "sleep_quality.name = 'sleep_quality'\n",
    "sleep_quality"
   ]
  },
  {
   "cell_type": "code",
   "execution_count": 31,
   "metadata": {},
   "outputs": [
    {
     "data": {
      "text/plain": [
       "(9.0, 2.0)"
      ]
     },
     "execution_count": 31,
     "metadata": {},
     "output_type": "execute_result"
    }
   ],
   "source": [
    "sleep_quality.max(), sleep_quality.min()"
   ]
  },
  {
   "cell_type": "code",
   "execution_count": 32,
   "metadata": {},
   "outputs": [],
   "source": [
    "psy_dfs.append(sleep_quality)"
   ]
  },
  {
   "cell_type": "markdown",
   "metadata": {},
   "source": [
    "#### final df"
   ]
  },
  {
   "cell_type": "code",
   "execution_count": 33,
   "metadata": {},
   "outputs": [
    {
     "data": {
      "text/html": [
       "<div>\n",
       "<style scoped>\n",
       "    .dataframe tbody tr th:only-of-type {\n",
       "        vertical-align: middle;\n",
       "    }\n",
       "\n",
       "    .dataframe tbody tr th {\n",
       "        vertical-align: top;\n",
       "    }\n",
       "\n",
       "    .dataframe thead th {\n",
       "        text-align: right;\n",
       "    }\n",
       "</style>\n",
       "<table border=\"1\" class=\"dataframe\">\n",
       "  <thead>\n",
       "    <tr style=\"text-align: right;\">\n",
       "      <th></th>\n",
       "      <th>depression_scale</th>\n",
       "      <th>sleep_quality</th>\n",
       "    </tr>\n",
       "  </thead>\n",
       "  <tbody>\n",
       "    <tr>\n",
       "      <th>0</th>\n",
       "      <td>2.0</td>\n",
       "      <td>3.0</td>\n",
       "    </tr>\n",
       "    <tr>\n",
       "      <th>1</th>\n",
       "      <td>2.0</td>\n",
       "      <td>2.0</td>\n",
       "    </tr>\n",
       "    <tr>\n",
       "      <th>2</th>\n",
       "      <td>5.0</td>\n",
       "      <td>5.0</td>\n",
       "    </tr>\n",
       "    <tr>\n",
       "      <th>3</th>\n",
       "      <td>3.0</td>\n",
       "      <td>3.0</td>\n",
       "    </tr>\n",
       "    <tr>\n",
       "      <th>4</th>\n",
       "      <td>5.0</td>\n",
       "      <td>6.0</td>\n",
       "    </tr>\n",
       "    <tr>\n",
       "      <th>...</th>\n",
       "      <td>...</td>\n",
       "      <td>...</td>\n",
       "    </tr>\n",
       "    <tr>\n",
       "      <th>9407</th>\n",
       "      <td>1.0</td>\n",
       "      <td>3.0</td>\n",
       "    </tr>\n",
       "    <tr>\n",
       "      <th>9408</th>\n",
       "      <td>4.0</td>\n",
       "      <td>4.0</td>\n",
       "    </tr>\n",
       "    <tr>\n",
       "      <th>9409</th>\n",
       "      <td>4.0</td>\n",
       "      <td>4.0</td>\n",
       "    </tr>\n",
       "    <tr>\n",
       "      <th>9410</th>\n",
       "      <td>7.0</td>\n",
       "      <td>3.0</td>\n",
       "    </tr>\n",
       "    <tr>\n",
       "      <th>9411</th>\n",
       "      <td>5.0</td>\n",
       "      <td>2.0</td>\n",
       "    </tr>\n",
       "  </tbody>\n",
       "</table>\n",
       "<p>9412 rows × 2 columns</p>\n",
       "</div>"
      ],
      "text/plain": [
       "      depression_scale  sleep_quality\n",
       "0                  2.0            3.0\n",
       "1                  2.0            2.0\n",
       "2                  5.0            5.0\n",
       "3                  3.0            3.0\n",
       "4                  5.0            6.0\n",
       "...                ...            ...\n",
       "9407               1.0            3.0\n",
       "9408               4.0            4.0\n",
       "9409               4.0            4.0\n",
       "9410               7.0            3.0\n",
       "9411               5.0            2.0\n",
       "\n",
       "[9412 rows x 2 columns]"
      ]
     },
     "execution_count": 33,
     "metadata": {},
     "output_type": "execute_result"
    }
   ],
   "source": [
    "psychological_df = pd.concat(psy_dfs, axis=1)\n",
    "psychological_df"
   ]
  },
  {
   "cell_type": "markdown",
   "metadata": {},
   "source": [
    "### Sensory"
   ]
  },
  {
   "cell_type": "code",
   "execution_count": 34,
   "metadata": {},
   "outputs": [],
   "source": [
    "sensory_dfs = []"
   ]
  },
  {
   "cell_type": "markdown",
   "metadata": {},
   "source": [
    "#### hearing deficit"
   ]
  },
  {
   "cell_type": "code",
   "execution_count": 35,
   "metadata": {},
   "outputs": [
    {
     "name": "stdout",
     "output_type": "stream",
     "text": [
      "2    5395\n",
      "3    2308\n",
      "1    1107\n",
      "4     489\n",
      "5     100\n",
      "9      13\n",
      "Name: n16, dtype: int64\n"
     ]
    }
   ],
   "source": [
    "for q in sensorial['hearing deficit']:\n",
    "    print(dados_onda1[q].value_counts())"
   ]
  },
  {
   "cell_type": "code",
   "execution_count": 36,
   "metadata": {},
   "outputs": [
    {
     "name": "stdout",
     "output_type": "stream",
     "text": [
      "2.0    5395\n",
      "3.0    2308\n",
      "1.0    1107\n",
      "4.0     489\n",
      "5.0     100\n",
      "Name: n16, dtype: int64\n"
     ]
    }
   ],
   "source": [
    "sensorial_hearing = dados_onda1[sensorial['hearing deficit']].replace(9, np.nan)\n",
    "\n",
    "for q in sensorial['hearing deficit']:\n",
    "    print(sensorial_hearing[q].value_counts())\n"
   ]
  },
  {
   "cell_type": "code",
   "execution_count": 37,
   "metadata": {},
   "outputs": [
    {
     "data": {
      "text/html": [
       "<div>\n",
       "<style scoped>\n",
       "    .dataframe tbody tr th:only-of-type {\n",
       "        vertical-align: middle;\n",
       "    }\n",
       "\n",
       "    .dataframe tbody tr th {\n",
       "        vertical-align: top;\n",
       "    }\n",
       "\n",
       "    .dataframe thead th {\n",
       "        text-align: right;\n",
       "    }\n",
       "</style>\n",
       "<table border=\"1\" class=\"dataframe\">\n",
       "  <thead>\n",
       "    <tr style=\"text-align: right;\">\n",
       "      <th></th>\n",
       "      <th>hearing_deficit</th>\n",
       "    </tr>\n",
       "  </thead>\n",
       "  <tbody>\n",
       "    <tr>\n",
       "      <th>0</th>\n",
       "      <td>2.0</td>\n",
       "    </tr>\n",
       "    <tr>\n",
       "      <th>1</th>\n",
       "      <td>4.0</td>\n",
       "    </tr>\n",
       "    <tr>\n",
       "      <th>2</th>\n",
       "      <td>2.0</td>\n",
       "    </tr>\n",
       "    <tr>\n",
       "      <th>3</th>\n",
       "      <td>3.0</td>\n",
       "    </tr>\n",
       "    <tr>\n",
       "      <th>4</th>\n",
       "      <td>3.0</td>\n",
       "    </tr>\n",
       "    <tr>\n",
       "      <th>...</th>\n",
       "      <td>...</td>\n",
       "    </tr>\n",
       "    <tr>\n",
       "      <th>9407</th>\n",
       "      <td>2.0</td>\n",
       "    </tr>\n",
       "    <tr>\n",
       "      <th>9408</th>\n",
       "      <td>3.0</td>\n",
       "    </tr>\n",
       "    <tr>\n",
       "      <th>9409</th>\n",
       "      <td>2.0</td>\n",
       "    </tr>\n",
       "    <tr>\n",
       "      <th>9410</th>\n",
       "      <td>2.0</td>\n",
       "    </tr>\n",
       "    <tr>\n",
       "      <th>9411</th>\n",
       "      <td>1.0</td>\n",
       "    </tr>\n",
       "  </tbody>\n",
       "</table>\n",
       "<p>9412 rows × 1 columns</p>\n",
       "</div>"
      ],
      "text/plain": [
       "      hearing_deficit\n",
       "0                 2.0\n",
       "1                 4.0\n",
       "2                 2.0\n",
       "3                 3.0\n",
       "4                 3.0\n",
       "...               ...\n",
       "9407              2.0\n",
       "9408              3.0\n",
       "9409              2.0\n",
       "9410              2.0\n",
       "9411              1.0\n",
       "\n",
       "[9412 rows x 1 columns]"
      ]
     },
     "execution_count": 37,
     "metadata": {},
     "output_type": "execute_result"
    }
   ],
   "source": [
    "sensorial_hearing.columns = ['hearing_deficit']\n",
    "sensorial_hearing"
   ]
  },
  {
   "cell_type": "code",
   "execution_count": 38,
   "metadata": {},
   "outputs": [],
   "source": [
    "sensory_dfs.append(sensorial_hearing)"
   ]
  },
  {
   "cell_type": "markdown",
   "metadata": {},
   "source": [
    "#### Distance vision"
   ]
  },
  {
   "cell_type": "code",
   "execution_count": 39,
   "metadata": {},
   "outputs": [
    {
     "name": "stdout",
     "output_type": "stream",
     "text": [
      "2    5002\n",
      "3    2154\n",
      "4    1037\n",
      "1     865\n",
      "5     329\n",
      "9      25\n",
      "Name: n6, dtype: int64\n"
     ]
    }
   ],
   "source": [
    "for q in sensorial['distance vision']:\n",
    "    print(dados_onda1[q].value_counts())"
   ]
  },
  {
   "cell_type": "code",
   "execution_count": 40,
   "metadata": {},
   "outputs": [
    {
     "name": "stdout",
     "output_type": "stream",
     "text": [
      "2.0    5002\n",
      "3.0    2154\n",
      "4.0    1037\n",
      "1.0     865\n",
      "5.0     329\n",
      "Name: n6, dtype: int64\n"
     ]
    }
   ],
   "source": [
    "sens_distance = dados_onda1[ sensorial['distance vision']].replace(9, np.nan)\n",
    "\n",
    "for q in  sensorial['distance vision']:\n",
    "    print(sens_distance[q].value_counts())\n"
   ]
  },
  {
   "cell_type": "code",
   "execution_count": 41,
   "metadata": {},
   "outputs": [
    {
     "data": {
      "text/html": [
       "<div>\n",
       "<style scoped>\n",
       "    .dataframe tbody tr th:only-of-type {\n",
       "        vertical-align: middle;\n",
       "    }\n",
       "\n",
       "    .dataframe tbody tr th {\n",
       "        vertical-align: top;\n",
       "    }\n",
       "\n",
       "    .dataframe thead th {\n",
       "        text-align: right;\n",
       "    }\n",
       "</style>\n",
       "<table border=\"1\" class=\"dataframe\">\n",
       "  <thead>\n",
       "    <tr style=\"text-align: right;\">\n",
       "      <th></th>\n",
       "      <th>distance_vision</th>\n",
       "    </tr>\n",
       "  </thead>\n",
       "  <tbody>\n",
       "    <tr>\n",
       "      <th>0</th>\n",
       "      <td>2.0</td>\n",
       "    </tr>\n",
       "    <tr>\n",
       "      <th>1</th>\n",
       "      <td>3.0</td>\n",
       "    </tr>\n",
       "    <tr>\n",
       "      <th>2</th>\n",
       "      <td>3.0</td>\n",
       "    </tr>\n",
       "    <tr>\n",
       "      <th>3</th>\n",
       "      <td>2.0</td>\n",
       "    </tr>\n",
       "    <tr>\n",
       "      <th>4</th>\n",
       "      <td>2.0</td>\n",
       "    </tr>\n",
       "    <tr>\n",
       "      <th>...</th>\n",
       "      <td>...</td>\n",
       "    </tr>\n",
       "    <tr>\n",
       "      <th>9407</th>\n",
       "      <td>2.0</td>\n",
       "    </tr>\n",
       "    <tr>\n",
       "      <th>9408</th>\n",
       "      <td>2.0</td>\n",
       "    </tr>\n",
       "    <tr>\n",
       "      <th>9409</th>\n",
       "      <td>3.0</td>\n",
       "    </tr>\n",
       "    <tr>\n",
       "      <th>9410</th>\n",
       "      <td>2.0</td>\n",
       "    </tr>\n",
       "    <tr>\n",
       "      <th>9411</th>\n",
       "      <td>2.0</td>\n",
       "    </tr>\n",
       "  </tbody>\n",
       "</table>\n",
       "<p>9412 rows × 1 columns</p>\n",
       "</div>"
      ],
      "text/plain": [
       "      distance_vision\n",
       "0                 2.0\n",
       "1                 3.0\n",
       "2                 3.0\n",
       "3                 2.0\n",
       "4                 2.0\n",
       "...               ...\n",
       "9407              2.0\n",
       "9408              2.0\n",
       "9409              3.0\n",
       "9410              2.0\n",
       "9411              2.0\n",
       "\n",
       "[9412 rows x 1 columns]"
      ]
     },
     "execution_count": 41,
     "metadata": {},
     "output_type": "execute_result"
    }
   ],
   "source": [
    "sens_distance.columns = ['distance_vision']\n",
    "sens_distance"
   ]
  },
  {
   "cell_type": "code",
   "execution_count": 42,
   "metadata": {},
   "outputs": [],
   "source": [
    "sensory_dfs.append(sens_distance)"
   ]
  },
  {
   "cell_type": "markdown",
   "metadata": {},
   "source": [
    "#### Near vision"
   ]
  },
  {
   "cell_type": "code",
   "execution_count": 43,
   "metadata": {},
   "outputs": [
    {
     "name": "stdout",
     "output_type": "stream",
     "text": [
      "2    4978\n",
      "3    2263\n",
      "4    1264\n",
      "1     576\n",
      "5     312\n",
      "9      19\n",
      "Name: n7, dtype: int64\n"
     ]
    }
   ],
   "source": [
    "for q in sensorial['near vision']:\n",
    "    print(dados_onda1[q].value_counts())"
   ]
  },
  {
   "cell_type": "code",
   "execution_count": 44,
   "metadata": {},
   "outputs": [
    {
     "name": "stdout",
     "output_type": "stream",
     "text": [
      "2.0    4978\n",
      "3.0    2263\n",
      "4.0    1264\n",
      "1.0     576\n",
      "5.0     312\n",
      "Name: n7, dtype: int64\n"
     ]
    }
   ],
   "source": [
    "sens_near = dados_onda1[ sensorial['near vision']].replace(9, np.nan)\n",
    "\n",
    "for q in  sensorial['near vision']:\n",
    "    print(sens_near[q].value_counts())\n"
   ]
  },
  {
   "cell_type": "code",
   "execution_count": 45,
   "metadata": {},
   "outputs": [
    {
     "data": {
      "text/html": [
       "<div>\n",
       "<style scoped>\n",
       "    .dataframe tbody tr th:only-of-type {\n",
       "        vertical-align: middle;\n",
       "    }\n",
       "\n",
       "    .dataframe tbody tr th {\n",
       "        vertical-align: top;\n",
       "    }\n",
       "\n",
       "    .dataframe thead th {\n",
       "        text-align: right;\n",
       "    }\n",
       "</style>\n",
       "<table border=\"1\" class=\"dataframe\">\n",
       "  <thead>\n",
       "    <tr style=\"text-align: right;\">\n",
       "      <th></th>\n",
       "      <th>near_vision</th>\n",
       "    </tr>\n",
       "  </thead>\n",
       "  <tbody>\n",
       "    <tr>\n",
       "      <th>0</th>\n",
       "      <td>2.0</td>\n",
       "    </tr>\n",
       "    <tr>\n",
       "      <th>1</th>\n",
       "      <td>3.0</td>\n",
       "    </tr>\n",
       "    <tr>\n",
       "      <th>2</th>\n",
       "      <td>4.0</td>\n",
       "    </tr>\n",
       "    <tr>\n",
       "      <th>3</th>\n",
       "      <td>2.0</td>\n",
       "    </tr>\n",
       "    <tr>\n",
       "      <th>4</th>\n",
       "      <td>3.0</td>\n",
       "    </tr>\n",
       "    <tr>\n",
       "      <th>...</th>\n",
       "      <td>...</td>\n",
       "    </tr>\n",
       "    <tr>\n",
       "      <th>9407</th>\n",
       "      <td>2.0</td>\n",
       "    </tr>\n",
       "    <tr>\n",
       "      <th>9408</th>\n",
       "      <td>2.0</td>\n",
       "    </tr>\n",
       "    <tr>\n",
       "      <th>9409</th>\n",
       "      <td>2.0</td>\n",
       "    </tr>\n",
       "    <tr>\n",
       "      <th>9410</th>\n",
       "      <td>2.0</td>\n",
       "    </tr>\n",
       "    <tr>\n",
       "      <th>9411</th>\n",
       "      <td>2.0</td>\n",
       "    </tr>\n",
       "  </tbody>\n",
       "</table>\n",
       "<p>9412 rows × 1 columns</p>\n",
       "</div>"
      ],
      "text/plain": [
       "      near_vision\n",
       "0             2.0\n",
       "1             3.0\n",
       "2             4.0\n",
       "3             2.0\n",
       "4             3.0\n",
       "...           ...\n",
       "9407          2.0\n",
       "9408          2.0\n",
       "9409          2.0\n",
       "9410          2.0\n",
       "9411          2.0\n",
       "\n",
       "[9412 rows x 1 columns]"
      ]
     },
     "execution_count": 45,
     "metadata": {},
     "output_type": "execute_result"
    }
   ],
   "source": [
    "sens_near.columns = ['near_vision']\n",
    "sens_near"
   ]
  },
  {
   "cell_type": "code",
   "execution_count": 46,
   "metadata": {},
   "outputs": [],
   "source": [
    "sensory_dfs.append(sens_near)"
   ]
  },
  {
   "cell_type": "markdown",
   "metadata": {},
   "source": [
    "#### final df"
   ]
  },
  {
   "cell_type": "code",
   "execution_count": 47,
   "metadata": {},
   "outputs": [
    {
     "data": {
      "text/html": [
       "<div>\n",
       "<style scoped>\n",
       "    .dataframe tbody tr th:only-of-type {\n",
       "        vertical-align: middle;\n",
       "    }\n",
       "\n",
       "    .dataframe tbody tr th {\n",
       "        vertical-align: top;\n",
       "    }\n",
       "\n",
       "    .dataframe thead th {\n",
       "        text-align: right;\n",
       "    }\n",
       "</style>\n",
       "<table border=\"1\" class=\"dataframe\">\n",
       "  <thead>\n",
       "    <tr style=\"text-align: right;\">\n",
       "      <th></th>\n",
       "      <th>hearing_deficit</th>\n",
       "      <th>distance_vision</th>\n",
       "      <th>near_vision</th>\n",
       "    </tr>\n",
       "  </thead>\n",
       "  <tbody>\n",
       "    <tr>\n",
       "      <th>0</th>\n",
       "      <td>2.0</td>\n",
       "      <td>2.0</td>\n",
       "      <td>2.0</td>\n",
       "    </tr>\n",
       "    <tr>\n",
       "      <th>1</th>\n",
       "      <td>4.0</td>\n",
       "      <td>3.0</td>\n",
       "      <td>3.0</td>\n",
       "    </tr>\n",
       "    <tr>\n",
       "      <th>2</th>\n",
       "      <td>2.0</td>\n",
       "      <td>3.0</td>\n",
       "      <td>4.0</td>\n",
       "    </tr>\n",
       "    <tr>\n",
       "      <th>3</th>\n",
       "      <td>3.0</td>\n",
       "      <td>2.0</td>\n",
       "      <td>2.0</td>\n",
       "    </tr>\n",
       "    <tr>\n",
       "      <th>4</th>\n",
       "      <td>3.0</td>\n",
       "      <td>2.0</td>\n",
       "      <td>3.0</td>\n",
       "    </tr>\n",
       "    <tr>\n",
       "      <th>...</th>\n",
       "      <td>...</td>\n",
       "      <td>...</td>\n",
       "      <td>...</td>\n",
       "    </tr>\n",
       "    <tr>\n",
       "      <th>9407</th>\n",
       "      <td>2.0</td>\n",
       "      <td>2.0</td>\n",
       "      <td>2.0</td>\n",
       "    </tr>\n",
       "    <tr>\n",
       "      <th>9408</th>\n",
       "      <td>3.0</td>\n",
       "      <td>2.0</td>\n",
       "      <td>2.0</td>\n",
       "    </tr>\n",
       "    <tr>\n",
       "      <th>9409</th>\n",
       "      <td>2.0</td>\n",
       "      <td>3.0</td>\n",
       "      <td>2.0</td>\n",
       "    </tr>\n",
       "    <tr>\n",
       "      <th>9410</th>\n",
       "      <td>2.0</td>\n",
       "      <td>2.0</td>\n",
       "      <td>2.0</td>\n",
       "    </tr>\n",
       "    <tr>\n",
       "      <th>9411</th>\n",
       "      <td>1.0</td>\n",
       "      <td>2.0</td>\n",
       "      <td>2.0</td>\n",
       "    </tr>\n",
       "  </tbody>\n",
       "</table>\n",
       "<p>9412 rows × 3 columns</p>\n",
       "</div>"
      ],
      "text/plain": [
       "      hearing_deficit  distance_vision  near_vision\n",
       "0                 2.0              2.0          2.0\n",
       "1                 4.0              3.0          3.0\n",
       "2                 2.0              3.0          4.0\n",
       "3                 3.0              2.0          2.0\n",
       "4                 3.0              2.0          3.0\n",
       "...               ...              ...          ...\n",
       "9407              2.0              2.0          2.0\n",
       "9408              3.0              2.0          2.0\n",
       "9409              2.0              3.0          2.0\n",
       "9410              2.0              2.0          2.0\n",
       "9411              1.0              2.0          2.0\n",
       "\n",
       "[9412 rows x 3 columns]"
      ]
     },
     "execution_count": 47,
     "metadata": {},
     "output_type": "execute_result"
    }
   ],
   "source": [
    "sensory_df = pd.concat(sensory_dfs, axis=1)\n",
    "sensory_df"
   ]
  },
  {
   "cell_type": "markdown",
   "metadata": {},
   "source": [
    "### Locomotor"
   ]
  },
  {
   "cell_type": "code",
   "execution_count": 48,
   "metadata": {},
   "outputs": [],
   "source": [
    "locomotor_dfs = []"
   ]
  },
  {
   "cell_type": "markdown",
   "metadata": {},
   "source": [
    "#### gait speed"
   ]
  },
  {
   "cell_type": "code",
   "execution_count": 49,
   "metadata": {},
   "outputs": [
    {
     "data": {
      "text/plain": [
       "['mf33', 'mf34', 'mf35', 'mf36', 'mf37', 'mf38']"
      ]
     },
     "execution_count": 49,
     "metadata": {},
     "output_type": "execute_result"
    }
   ],
   "source": [
    "locomotor['gait speed']"
   ]
  },
  {
   "cell_type": "code",
   "execution_count": 50,
   "metadata": {},
   "outputs": [
    {
     "name": "stdout",
     "output_type": "stream",
     "text": [
      "mf33\n",
      "0       8848\n",
      "9888     304\n",
      "9666     258\n",
      "1          2\n",
      "Name: mf33, dtype: int64\n",
      "mf34\n",
      "3       2452\n",
      "4       2323\n",
      "5       1420\n",
      "2        933\n",
      "6        709\n",
      "7        345\n",
      "9888     304\n",
      "9666     258\n",
      "8        200\n",
      "9        104\n",
      "1        103\n",
      "10        85\n",
      "12        31\n",
      "11        27\n",
      "13        18\n",
      "14        11\n",
      "16        10\n",
      "22        10\n",
      "15         9\n",
      "19         5\n",
      "18         5\n",
      "33         4\n",
      "38         4\n",
      "17         3\n",
      "23         3\n",
      "28         3\n",
      "21         3\n",
      "59         2\n",
      "40         2\n",
      "27         2\n",
      "25         2\n",
      "34         2\n",
      "48         2\n",
      "55         2\n",
      "44         2\n",
      "58         2\n",
      "45         1\n",
      "57         1\n",
      "39         1\n",
      "32         1\n",
      "0          1\n",
      "49         1\n",
      "24         1\n",
      "29         1\n",
      "35         1\n",
      "30         1\n",
      "41         1\n",
      "37         1\n",
      "Name: mf34, dtype: int64\n",
      "mf35\n",
      "9888    304\n",
      "9666    258\n",
      "28      214\n",
      "50      178\n",
      "78      172\n",
      "       ... \n",
      "26       41\n",
      "95       41\n",
      "73       39\n",
      "83       32\n",
      "86       31\n",
      "Name: mf35, Length: 102, dtype: int64\n",
      "mf36\n",
      "0       8839\n",
      "8888     562\n",
      "9666       7\n",
      "9888       3\n",
      "1          1\n",
      "Name: mf36, dtype: int64\n",
      "mf37\n",
      "3       2854\n",
      "4       2209\n",
      "2       1202\n",
      "5       1200\n",
      "8888     562\n",
      "6        545\n",
      "7        285\n",
      "8        129\n",
      "1        116\n",
      "9         91\n",
      "10        47\n",
      "11        31\n",
      "12        22\n",
      "13        20\n",
      "15        11\n",
      "18         7\n",
      "14         7\n",
      "9666       7\n",
      "19         5\n",
      "24         5\n",
      "17         4\n",
      "40         4\n",
      "16         3\n",
      "41         3\n",
      "28         3\n",
      "38         3\n",
      "29         3\n",
      "9888       3\n",
      "20         3\n",
      "52         2\n",
      "54         2\n",
      "37         2\n",
      "44         2\n",
      "25         2\n",
      "31         2\n",
      "22         2\n",
      "26         1\n",
      "59         1\n",
      "56         1\n",
      "32         1\n",
      "30         1\n",
      "47         1\n",
      "21         1\n",
      "33         1\n",
      "49         1\n",
      "46         1\n",
      "48         1\n",
      "27         1\n",
      "34         1\n",
      "39         1\n",
      "Name: mf37, dtype: int64\n",
      "mf38\n",
      "8888    562\n",
      "28      180\n",
      "50      154\n",
      "12      147\n",
      "25      146\n",
      "       ... \n",
      "73       39\n",
      "76       36\n",
      "86       33\n",
      "9666      7\n",
      "9888      3\n",
      "Name: mf38, Length: 103, dtype: int64\n"
     ]
    }
   ],
   "source": [
    "for q in locomotor['gait speed']:\n",
    "    print(q)\n",
    "    print(dados_onda1[q].value_counts())"
   ]
  },
  {
   "cell_type": "code",
   "execution_count": 51,
   "metadata": {},
   "outputs": [
    {
     "name": "stdout",
     "output_type": "stream",
     "text": [
      "0.0    8848\n",
      "1.0       2\n",
      "Name: mf33, dtype: int64\n",
      "3.0     2452\n",
      "4.0     2323\n",
      "5.0     1420\n",
      "2.0      933\n",
      "6.0      709\n",
      "7.0      345\n",
      "8.0      200\n",
      "9.0      104\n",
      "1.0      103\n",
      "10.0      85\n",
      "12.0      31\n",
      "11.0      27\n",
      "13.0      18\n",
      "14.0      11\n",
      "16.0      10\n",
      "22.0      10\n",
      "15.0       9\n",
      "19.0       5\n",
      "18.0       5\n",
      "33.0       4\n",
      "38.0       4\n",
      "17.0       3\n",
      "21.0       3\n",
      "28.0       3\n",
      "23.0       3\n",
      "59.0       2\n",
      "27.0       2\n",
      "58.0       2\n",
      "44.0       2\n",
      "48.0       2\n",
      "55.0       2\n",
      "25.0       2\n",
      "34.0       2\n",
      "40.0       2\n",
      "0.0        1\n",
      "41.0       1\n",
      "30.0       1\n",
      "29.0       1\n",
      "24.0       1\n",
      "49.0       1\n",
      "57.0       1\n",
      "32.0       1\n",
      "45.0       1\n",
      "35.0       1\n",
      "39.0       1\n",
      "37.0       1\n",
      "Name: mf34, dtype: int64\n",
      "28.0    214\n",
      "50.0    178\n",
      "78.0    172\n",
      "97.0    155\n",
      "38.0    151\n",
      "       ... \n",
      "95.0     41\n",
      "26.0     41\n",
      "73.0     39\n",
      "83.0     32\n",
      "86.0     31\n",
      "Name: mf35, Length: 100, dtype: int64\n",
      "0.0       8839\n",
      "8888.0     562\n",
      "1.0          1\n",
      "Name: mf36, dtype: int64\n",
      "3.0       2854\n",
      "4.0       2209\n",
      "2.0       1202\n",
      "5.0       1200\n",
      "8888.0     562\n",
      "6.0        545\n",
      "7.0        285\n",
      "8.0        129\n",
      "1.0        116\n",
      "9.0         91\n",
      "10.0        47\n",
      "11.0        31\n",
      "12.0        22\n",
      "13.0        20\n",
      "15.0        11\n",
      "18.0         7\n",
      "14.0         7\n",
      "19.0         5\n",
      "24.0         5\n",
      "17.0         4\n",
      "40.0         4\n",
      "16.0         3\n",
      "20.0         3\n",
      "28.0         3\n",
      "29.0         3\n",
      "38.0         3\n",
      "41.0         3\n",
      "37.0         2\n",
      "54.0         2\n",
      "44.0         2\n",
      "52.0         2\n",
      "25.0         2\n",
      "31.0         2\n",
      "22.0         2\n",
      "26.0         1\n",
      "59.0         1\n",
      "21.0         1\n",
      "56.0         1\n",
      "32.0         1\n",
      "30.0         1\n",
      "47.0         1\n",
      "33.0         1\n",
      "34.0         1\n",
      "49.0         1\n",
      "46.0         1\n",
      "48.0         1\n",
      "27.0         1\n",
      "39.0         1\n",
      "Name: mf37, dtype: int64\n",
      "8888.0    562\n",
      "28.0      180\n",
      "50.0      154\n",
      "12.0      147\n",
      "25.0      146\n",
      "         ... \n",
      "95.0       41\n",
      "64.0       40\n",
      "73.0       39\n",
      "76.0       36\n",
      "86.0       33\n",
      "Name: mf38, Length: 101, dtype: int64\n"
     ]
    }
   ],
   "source": [
    "locomotor_gait_speed = dados_onda1[locomotor['gait speed']].replace(9666, np.nan).replace(9888, np.nan)\n",
    "\n",
    "for q in locomotor['gait speed']:\n",
    "    print(locomotor_gait_speed[q].value_counts())\n"
   ]
  },
  {
   "cell_type": "code",
   "execution_count": 52,
   "metadata": {},
   "outputs": [
    {
     "data": {
      "text/plain": [
       "0        3.500\n",
       "1        3.300\n",
       "2        4.595\n",
       "3        5.610\n",
       "4       38.145\n",
       "         ...  \n",
       "9407     4.265\n",
       "9408     5.800\n",
       "9409       NaN\n",
       "9410       NaN\n",
       "9411     5.270\n",
       "Name: gait_speed, Length: 9412, dtype: float64"
      ]
     },
     "execution_count": 52,
     "metadata": {},
     "output_type": "execute_result"
    }
   ],
   "source": [
    "medida1 = (locomotor_gait_speed['mf33'] * 60 + locomotor_gait_speed['mf34'] + locomotor_gait_speed['mf35']/100)\n",
    "\n",
    "medida2 = (locomotor_gait_speed['mf36'] * 60 + locomotor_gait_speed['mf37'] + locomotor_gait_speed['mf38']/100)\n",
    "\n",
    "gait_speed = (medida1 + medida2)/2\n",
    "\n",
    "gait_speed.name = 'gait_speed'\n",
    "gait_speed"
   ]
  },
  {
   "cell_type": "code",
   "execution_count": 53,
   "metadata": {},
   "outputs": [
    {
     "data": {
      "text/plain": [
       "(10, 10, 10)"
      ]
     },
     "execution_count": 53,
     "metadata": {},
     "output_type": "execute_result"
    }
   ],
   "source": [
    "locomotor_gait_speed['mf38'].isna().sum(), locomotor_gait_speed['mf37'].isna().sum(), locomotor_gait_speed['mf36'].isna().sum()"
   ]
  },
  {
   "cell_type": "code",
   "execution_count": 54,
   "metadata": {},
   "outputs": [
    {
     "data": {
      "text/plain": [
       "(562, 562, 562)"
      ]
     },
     "execution_count": 54,
     "metadata": {},
     "output_type": "execute_result"
    }
   ],
   "source": [
    "locomotor_gait_speed['mf33'].isna().sum(), locomotor_gait_speed['mf34'].isna().sum(), locomotor_gait_speed['mf35'].isna().sum()"
   ]
  },
  {
   "cell_type": "code",
   "execution_count": 55,
   "metadata": {},
   "outputs": [],
   "source": [
    "locomotor_dfs.append(gait_speed)"
   ]
  },
  {
   "cell_type": "markdown",
   "metadata": {},
   "source": [
    "#### Balance Test"
   ]
  },
  {
   "cell_type": "code",
   "execution_count": 56,
   "metadata": {},
   "outputs": [
    {
     "name": "stdout",
     "output_type": "stream",
     "text": [
      "10.00      8700\n",
      "9999.00     342\n",
      "9888.00     151\n",
      "9666.00      89\n",
      "4.00          5\n",
      "           ... \n",
      "3.80          1\n",
      "1.73          1\n",
      "9.10          1\n",
      "2.38          1\n",
      "2.41          1\n",
      "Name: mf30, Length: 107, dtype: int64\n",
      "10.00      7930\n",
      "9999.00     395\n",
      "9666.00     173\n",
      "9888.00     160\n",
      "6.00         39\n",
      "           ... \n",
      "8.28          1\n",
      "9.85          1\n",
      "8.79          1\n",
      "3.56          1\n",
      "1.29          1\n",
      "Name: mf31, Length: 404, dtype: int64\n",
      "30.00      4505\n",
      "10.00      1470\n",
      "9999.00     457\n",
      "9666.00     331\n",
      "9888.00     187\n",
      "           ... \n",
      "20.06         1\n",
      "8.01          1\n",
      "18.13         1\n",
      "2.46          1\n",
      "15.03         1\n",
      "Name: mf32, Length: 1056, dtype: int64\n"
     ]
    }
   ],
   "source": [
    "for q in locomotor['balance']:\n",
    "    print(dados_onda1[q].value_counts())"
   ]
  },
  {
   "cell_type": "code",
   "execution_count": 57,
   "metadata": {},
   "outputs": [
    {
     "name": "stdout",
     "output_type": "stream",
     "text": [
      "4.71        1\n",
      "9.84        1\n",
      "5.51        1\n",
      "7.98        1\n",
      "9.50        1\n",
      "         ... \n",
      "3.00        3\n",
      "7.00        4\n",
      "5.00        4\n",
      "4.00        5\n",
      "10.00    8700\n",
      "Name: mf30, Length: 104, dtype: int64\n",
      "5.51        1\n",
      "2.64        1\n",
      "3.16        1\n",
      "2.68        1\n",
      "3.21        1\n",
      "         ... \n",
      "2.00       27\n",
      "5.00       27\n",
      "8.00       37\n",
      "6.00       39\n",
      "10.00    7930\n",
      "Name: mf31, Length: 401, dtype: int64\n",
      "24.06       1\n",
      "14.87       1\n",
      "15.88       1\n",
      "24.50       1\n",
      "17.28       1\n",
      "         ... \n",
      "5.00       64\n",
      "2.00       66\n",
      "3.00       70\n",
      "10.00    1470\n",
      "30.00    4505\n",
      "Name: mf32, Length: 1053, dtype: int64\n"
     ]
    }
   ],
   "source": [
    "loc_balance = dados_onda1[locomotor['balance']].replace(9666, np.nan).replace(9888, np.nan).replace(9999, np.nan)\n",
    "\n",
    "for q in locomotor['balance']:\n",
    "    print(loc_balance[q].value_counts().sort_values())\n"
   ]
  },
  {
   "cell_type": "code",
   "execution_count": 58,
   "metadata": {},
   "outputs": [
    {
     "data": {
      "text/plain": [
       "0       4.0\n",
       "1       4.0\n",
       "2       4.0\n",
       "3       4.0\n",
       "4       NaN\n",
       "       ... \n",
       "9407    3.0\n",
       "9408    NaN\n",
       "9409    NaN\n",
       "9410    NaN\n",
       "9411    4.0\n",
       "Name: balance, Length: 9412, dtype: float64"
      ]
     },
     "execution_count": 58,
     "metadata": {},
     "output_type": "execute_result"
    }
   ],
   "source": [
    "def rule(x):\n",
    "    if x < 3:\n",
    "        return 0\n",
    "    elif x < 10:\n",
    "        return 1\n",
    "    elif x >= 10:\n",
    "        return 2\n",
    "    else: \n",
    "        return np.nan\n",
    "\n",
    "foot1 = (loc_balance['mf30'] >= 10).astype(int)\n",
    "foot2 = (loc_balance['mf31'] >= 10).astype(int) \n",
    "foot3 = loc_balance['mf32'].map(rule)\n",
    "\n",
    "balance = foot1 + foot2 + foot3\n",
    "\n",
    "balance.name = 'balance'\n",
    "balance"
   ]
  },
  {
   "cell_type": "code",
   "execution_count": 59,
   "metadata": {},
   "outputs": [
    {
     "data": {
      "text/plain": [
       "(4.0, 0.0)"
      ]
     },
     "execution_count": 59,
     "metadata": {},
     "output_type": "execute_result"
    }
   ],
   "source": [
    "balance.max(), balance.min()"
   ]
  },
  {
   "cell_type": "code",
   "execution_count": 60,
   "metadata": {},
   "outputs": [],
   "source": [
    "locomotor_dfs.append(balance)"
   ]
  },
  {
   "cell_type": "markdown",
   "metadata": {},
   "source": [
    "#### final df"
   ]
  },
  {
   "cell_type": "code",
   "execution_count": 61,
   "metadata": {},
   "outputs": [
    {
     "data": {
      "text/html": [
       "<div>\n",
       "<style scoped>\n",
       "    .dataframe tbody tr th:only-of-type {\n",
       "        vertical-align: middle;\n",
       "    }\n",
       "\n",
       "    .dataframe tbody tr th {\n",
       "        vertical-align: top;\n",
       "    }\n",
       "\n",
       "    .dataframe thead th {\n",
       "        text-align: right;\n",
       "    }\n",
       "</style>\n",
       "<table border=\"1\" class=\"dataframe\">\n",
       "  <thead>\n",
       "    <tr style=\"text-align: right;\">\n",
       "      <th></th>\n",
       "      <th>gait_speed</th>\n",
       "      <th>balance</th>\n",
       "    </tr>\n",
       "  </thead>\n",
       "  <tbody>\n",
       "    <tr>\n",
       "      <th>0</th>\n",
       "      <td>3.500</td>\n",
       "      <td>4.0</td>\n",
       "    </tr>\n",
       "    <tr>\n",
       "      <th>1</th>\n",
       "      <td>3.300</td>\n",
       "      <td>4.0</td>\n",
       "    </tr>\n",
       "    <tr>\n",
       "      <th>2</th>\n",
       "      <td>4.595</td>\n",
       "      <td>4.0</td>\n",
       "    </tr>\n",
       "    <tr>\n",
       "      <th>3</th>\n",
       "      <td>5.610</td>\n",
       "      <td>4.0</td>\n",
       "    </tr>\n",
       "    <tr>\n",
       "      <th>4</th>\n",
       "      <td>38.145</td>\n",
       "      <td>NaN</td>\n",
       "    </tr>\n",
       "    <tr>\n",
       "      <th>...</th>\n",
       "      <td>...</td>\n",
       "      <td>...</td>\n",
       "    </tr>\n",
       "    <tr>\n",
       "      <th>9407</th>\n",
       "      <td>4.265</td>\n",
       "      <td>3.0</td>\n",
       "    </tr>\n",
       "    <tr>\n",
       "      <th>9408</th>\n",
       "      <td>5.800</td>\n",
       "      <td>NaN</td>\n",
       "    </tr>\n",
       "    <tr>\n",
       "      <th>9409</th>\n",
       "      <td>NaN</td>\n",
       "      <td>NaN</td>\n",
       "    </tr>\n",
       "    <tr>\n",
       "      <th>9410</th>\n",
       "      <td>NaN</td>\n",
       "      <td>NaN</td>\n",
       "    </tr>\n",
       "    <tr>\n",
       "      <th>9411</th>\n",
       "      <td>5.270</td>\n",
       "      <td>4.0</td>\n",
       "    </tr>\n",
       "  </tbody>\n",
       "</table>\n",
       "<p>9412 rows × 2 columns</p>\n",
       "</div>"
      ],
      "text/plain": [
       "      gait_speed  balance\n",
       "0          3.500      4.0\n",
       "1          3.300      4.0\n",
       "2          4.595      4.0\n",
       "3          5.610      4.0\n",
       "4         38.145      NaN\n",
       "...          ...      ...\n",
       "9407       4.265      3.0\n",
       "9408       5.800      NaN\n",
       "9409         NaN      NaN\n",
       "9410         NaN      NaN\n",
       "9411       5.270      4.0\n",
       "\n",
       "[9412 rows x 2 columns]"
      ]
     },
     "execution_count": 61,
     "metadata": {},
     "output_type": "execute_result"
    }
   ],
   "source": [
    "locomotor_df = pd.concat(locomotor_dfs, axis=1)\n",
    "locomotor_df"
   ]
  },
  {
   "cell_type": "markdown",
   "metadata": {},
   "source": [
    "### Vitality"
   ]
  },
  {
   "cell_type": "code",
   "execution_count": 62,
   "metadata": {},
   "outputs": [],
   "source": [
    "vitality_dfs = []"
   ]
  },
  {
   "cell_type": "markdown",
   "metadata": {},
   "source": [
    "#### Hadgrip"
   ]
  },
  {
   "cell_type": "code",
   "execution_count": 63,
   "metadata": {},
   "outputs": [
    {
     "name": "stdout",
     "output_type": "stream",
     "text": [
      "mf27\n",
      "60        7\n",
      "62        2\n",
      "67        1\n",
      "68        1\n",
      "70        1\n",
      "8888    180\n",
      "9555     20\n",
      "9666     28\n",
      "9777    166\n",
      "9888    145\n",
      "Name: mf27, dtype: int64\n",
      "mf28\n",
      "63        3\n",
      "64        1\n",
      "65        2\n",
      "66        1\n",
      "73        1\n",
      "8888    180\n",
      "9555     27\n",
      "9666     34\n",
      "9777    169\n",
      "9888    150\n",
      "Name: mf28, dtype: int64\n",
      "mf29\n",
      "62        1\n",
      "64        1\n",
      "65        1\n",
      "66        1\n",
      "73        1\n",
      "8888    180\n",
      "9555     27\n",
      "9666     34\n",
      "9777    170\n",
      "9888    152\n",
      "Name: mf29, dtype: int64\n"
     ]
    }
   ],
   "source": [
    "for q in vitality['handgrip']:\n",
    "    print(q)\n",
    "    print(dados_onda1[q].value_counts().sort_index().tail(10))"
   ]
  },
  {
   "cell_type": "code",
   "execution_count": 64,
   "metadata": {},
   "outputs": [
    {
     "name": "stdout",
     "output_type": "stream",
     "text": [
      "55.0    12\n",
      "56.0     5\n",
      "57.0     2\n",
      "58.0     2\n",
      "59.0     4\n",
      "60.0     7\n",
      "62.0     2\n",
      "67.0     1\n",
      "68.0     1\n",
      "70.0     1\n",
      "Name: mf27, dtype: int64\n",
      "58.0    3\n",
      "59.0    1\n",
      "60.0    2\n",
      "61.0    3\n",
      "62.0    1\n",
      "63.0    3\n",
      "64.0    1\n",
      "65.0    2\n",
      "66.0    1\n",
      "73.0    1\n",
      "Name: mf28, dtype: int64\n",
      "57.0    5\n",
      "58.0    5\n",
      "59.0    4\n",
      "60.0    6\n",
      "61.0    1\n",
      "62.0    1\n",
      "64.0    1\n",
      "65.0    1\n",
      "66.0    1\n",
      "73.0    1\n",
      "Name: mf29, dtype: int64\n"
     ]
    }
   ],
   "source": [
    "substitute = {\n",
    "    '8888': np.nan,\n",
    "    '9555': np.nan,\n",
    "    '9666': np.nan,\n",
    "    '9777': np.nan,\n",
    "    '9888': np.nan,\n",
    "    8888: np.nan,\n",
    "    9555: np.nan,\n",
    "    9666: np.nan,\n",
    "    9777: np.nan,\n",
    "    9888: np.nan\n",
    "}\n",
    "\n",
    "vitality_handgrip = dados_onda1[vitality['handgrip']].replace(substitute)\n",
    "\n",
    "for q in vitality['handgrip']:\n",
    "    print(vitality_handgrip[q].value_counts().sort_index().tail(10))\n"
   ]
  },
  {
   "cell_type": "code",
   "execution_count": 65,
   "metadata": {},
   "outputs": [
    {
     "name": "stdout",
     "output_type": "stream",
     "text": [
      "539\n",
      "560\n",
      "563\n"
     ]
    }
   ],
   "source": [
    "\n",
    "for q in vitality['handgrip']:\n",
    "    print(vitality_handgrip[q].isna().sum())\n"
   ]
  },
  {
   "cell_type": "code",
   "execution_count": 66,
   "metadata": {},
   "outputs": [
    {
     "name": "stderr",
     "output_type": "stream",
     "text": [
      "C:\\Users\\mwuillau\\AppData\\Local\\Temp\\ipykernel_26312\\3579450452.py:1: RuntimeWarning: Mean of empty slice\n",
      "  handgrip = vitality_handgrip.apply(lambda x: np.nanmean(x), axis=1)\n"
     ]
    },
    {
     "data": {
      "text/plain": [
       "0       24.333333\n",
       "1       25.666667\n",
       "2       14.666667\n",
       "3       24.000000\n",
       "4             NaN\n",
       "          ...    \n",
       "9407    22.666667\n",
       "9408    20.333333\n",
       "9409    26.666667\n",
       "9410    38.333333\n",
       "9411    18.333333\n",
       "Name: handgrip, Length: 9412, dtype: float64"
      ]
     },
     "execution_count": 66,
     "metadata": {},
     "output_type": "execute_result"
    }
   ],
   "source": [
    "handgrip = vitality_handgrip.apply(lambda x: np.nanmean(x), axis=1)\n",
    "\n",
    "handgrip.name = 'handgrip'\n",
    "\n",
    "handgrip"
   ]
  },
  {
   "cell_type": "code",
   "execution_count": 67,
   "metadata": {},
   "outputs": [],
   "source": [
    "vitality_dfs.append(handgrip)"
   ]
  },
  {
   "cell_type": "markdown",
   "metadata": {},
   "source": [
    "#### Weight Loss"
   ]
  },
  {
   "cell_type": "code",
   "execution_count": 68,
   "metadata": {},
   "outputs": [
    {
     "name": "stdout",
     "output_type": "stream",
     "text": [
      "n69\n",
      "0    6706\n",
      "1    2378\n",
      "9     328\n",
      "Name: n69, dtype: int64\n",
      "n70\n",
      "0.5           6\n",
      "0.6           1\n",
      "1.0         171\n",
      "1.2           1\n",
      "1.4           1\n",
      "1.5          14\n",
      "1.6           2\n",
      "1.7           1\n",
      "1.8           1\n",
      "1.9           1\n",
      "2.0         534\n",
      "2.5           8\n",
      "3.0         456\n",
      "3.5           4\n",
      "3.7           1\n",
      "3.8           1\n",
      "4.0         296\n",
      "5.0         231\n",
      "5.3           1\n",
      "5.5           1\n",
      "5.8           1\n",
      "6.0          95\n",
      "7.0          55\n",
      "8.0          48\n",
      "9.0          17\n",
      "10.0         96\n",
      "11.0          5\n",
      "12.0         23\n",
      "13.0         11\n",
      "14.0          6\n",
      "15.0         19\n",
      "16.0          2\n",
      "18.0          2\n",
      "20.0         11\n",
      "22.7          1\n",
      "23.0          1\n",
      "24.0          1\n",
      "25.0          3\n",
      "26.0          1\n",
      "29.0          1\n",
      "30.0          2\n",
      "32.0          1\n",
      "40.0          1\n",
      "88888.0    7034\n",
      "99999.0     243\n",
      "Name: n70, dtype: int64\n",
      "n71\n",
      "1      23\n",
      "2    1611\n",
      "3     686\n",
      "8    7034\n",
      "9      58\n",
      "Name: n71, dtype: int64\n"
     ]
    }
   ],
   "source": [
    "for q in vitality['weight loss']:\n",
    "    print(q)\n",
    "    print(dados_onda1[q].value_counts().sort_index())"
   ]
  },
  {
   "cell_type": "code",
   "execution_count": 69,
   "metadata": {},
   "outputs": [
    {
     "data": {
      "text/plain": [
       "0       0.0\n",
       "1       0.0\n",
       "2       NaN\n",
       "3       0.0\n",
       "4       0.0\n",
       "       ... \n",
       "9407    0.0\n",
       "9408    0.0\n",
       "9409    0.0\n",
       "9410    1.0\n",
       "9411    0.0\n",
       "Name: weight_loss, Length: 9412, dtype: float64"
      ]
     },
     "execution_count": 69,
     "metadata": {},
     "output_type": "execute_result"
    }
   ],
   "source": [
    "def cal_score_wl(row):\n",
    "    if row['n69'] == 0:\n",
    "        return 0\n",
    "    elif row['n69'] == 1 and row['n70'] >= 3:\n",
    "        return 1\n",
    "    elif row['n69'] == 1 and row['n70'] < 3:\n",
    "        return 0\n",
    "    else:\n",
    "        return np.nan \n",
    "        \n",
    "\n",
    "weight_loss  = dados_onda1[vitality['weight loss']].apply(cal_score_wl, axis=1)\n",
    "\n",
    "weight_loss.name = 'weight_loss'\n",
    "\n",
    "weight_loss"
   ]
  },
  {
   "cell_type": "code",
   "execution_count": 70,
   "metadata": {},
   "outputs": [],
   "source": [
    "vitality_dfs.append(weight_loss)"
   ]
  },
  {
   "cell_type": "markdown",
   "metadata": {},
   "source": [
    "#### Poor Endurance"
   ]
  },
  {
   "cell_type": "code",
   "execution_count": 71,
   "metadata": {},
   "outputs": [
    {
     "name": "stdout",
     "output_type": "stream",
     "text": [
      "n72\n",
      "1    6394\n",
      "2    1065\n",
      "3     785\n",
      "4    1000\n",
      "9     168\n",
      "Name: n72, dtype: int64\n"
     ]
    }
   ],
   "source": [
    "for q in vitality['exaustion']:\n",
    "    print(q)\n",
    "    print(dados_onda1[q].value_counts().sort_index())"
   ]
  },
  {
   "cell_type": "code",
   "execution_count": 72,
   "metadata": {},
   "outputs": [
    {
     "name": "stdout",
     "output_type": "stream",
     "text": [
      "1.0    6394\n",
      "2.0    1065\n",
      "3.0     785\n",
      "4.0    1000\n",
      "Name: n72, dtype: int64\n"
     ]
    }
   ],
   "source": [
    "substitute = {\n",
    "    '9': np.nan,\n",
    "    9: np.nan\n",
    "}\n",
    "\n",
    "vitality_exaustion = dados_onda1[vitality['exaustion']].replace(substitute)\n",
    "\n",
    "for q in vitality['exaustion']:\n",
    "    print(vitality_exaustion[q].value_counts().sort_index().tail(10))\n"
   ]
  },
  {
   "cell_type": "code",
   "execution_count": 73,
   "metadata": {},
   "outputs": [],
   "source": [
    "vitality_exaustion.columns =  ['exaustion']"
   ]
  },
  {
   "cell_type": "code",
   "execution_count": 74,
   "metadata": {},
   "outputs": [],
   "source": [
    "vitality_dfs.append(vitality_exaustion)"
   ]
  },
  {
   "cell_type": "markdown",
   "metadata": {},
   "source": [
    "#### Poor Endurance"
   ]
  },
  {
   "cell_type": "code",
   "execution_count": 75,
   "metadata": {},
   "outputs": [
    {
     "name": "stdout",
     "output_type": "stream",
     "text": [
      "n73\n",
      "1    5835\n",
      "2    1424\n",
      "3     787\n",
      "4    1200\n",
      "9     166\n",
      "Name: n73, dtype: int64\n"
     ]
    }
   ],
   "source": [
    "for q in vitality['poor endurance']:\n",
    "    print(q)\n",
    "    print(dados_onda1[q].value_counts().sort_index())"
   ]
  },
  {
   "cell_type": "code",
   "execution_count": 76,
   "metadata": {},
   "outputs": [
    {
     "name": "stdout",
     "output_type": "stream",
     "text": [
      "1.0    5835\n",
      "2.0    1424\n",
      "3.0     787\n",
      "4.0    1200\n",
      "Name: n73, dtype: int64\n"
     ]
    }
   ],
   "source": [
    "substitute = {\n",
    "    '9': np.nan,\n",
    "    9: np.nan\n",
    "}\n",
    "\n",
    "vitality_poor_endurance = dados_onda1[vitality['poor endurance']].replace(substitute)\n",
    "\n",
    "for q in vitality['poor endurance']:\n",
    "    print(vitality_poor_endurance[q].value_counts().sort_index().tail(10))\n"
   ]
  },
  {
   "cell_type": "code",
   "execution_count": 77,
   "metadata": {},
   "outputs": [],
   "source": [
    "vitality_poor_endurance.columns =  ['poor_endurance']"
   ]
  },
  {
   "cell_type": "code",
   "execution_count": 78,
   "metadata": {},
   "outputs": [],
   "source": [
    "vitality_dfs.append(vitality_poor_endurance)"
   ]
  },
  {
   "cell_type": "markdown",
   "metadata": {},
   "source": [
    "#### final df"
   ]
  },
  {
   "cell_type": "code",
   "execution_count": 79,
   "metadata": {},
   "outputs": [
    {
     "data": {
      "text/html": [
       "<div>\n",
       "<style scoped>\n",
       "    .dataframe tbody tr th:only-of-type {\n",
       "        vertical-align: middle;\n",
       "    }\n",
       "\n",
       "    .dataframe tbody tr th {\n",
       "        vertical-align: top;\n",
       "    }\n",
       "\n",
       "    .dataframe thead th {\n",
       "        text-align: right;\n",
       "    }\n",
       "</style>\n",
       "<table border=\"1\" class=\"dataframe\">\n",
       "  <thead>\n",
       "    <tr style=\"text-align: right;\">\n",
       "      <th></th>\n",
       "      <th>handgrip</th>\n",
       "      <th>weight_loss</th>\n",
       "      <th>exaustion</th>\n",
       "      <th>poor_endurance</th>\n",
       "    </tr>\n",
       "  </thead>\n",
       "  <tbody>\n",
       "    <tr>\n",
       "      <th>0</th>\n",
       "      <td>24.333333</td>\n",
       "      <td>0.0</td>\n",
       "      <td>1.0</td>\n",
       "      <td>1.0</td>\n",
       "    </tr>\n",
       "    <tr>\n",
       "      <th>1</th>\n",
       "      <td>25.666667</td>\n",
       "      <td>0.0</td>\n",
       "      <td>1.0</td>\n",
       "      <td>1.0</td>\n",
       "    </tr>\n",
       "    <tr>\n",
       "      <th>2</th>\n",
       "      <td>14.666667</td>\n",
       "      <td>NaN</td>\n",
       "      <td>2.0</td>\n",
       "      <td>1.0</td>\n",
       "    </tr>\n",
       "    <tr>\n",
       "      <th>3</th>\n",
       "      <td>24.000000</td>\n",
       "      <td>0.0</td>\n",
       "      <td>1.0</td>\n",
       "      <td>1.0</td>\n",
       "    </tr>\n",
       "    <tr>\n",
       "      <th>4</th>\n",
       "      <td>NaN</td>\n",
       "      <td>0.0</td>\n",
       "      <td>4.0</td>\n",
       "      <td>2.0</td>\n",
       "    </tr>\n",
       "    <tr>\n",
       "      <th>...</th>\n",
       "      <td>...</td>\n",
       "      <td>...</td>\n",
       "      <td>...</td>\n",
       "      <td>...</td>\n",
       "    </tr>\n",
       "    <tr>\n",
       "      <th>9407</th>\n",
       "      <td>22.666667</td>\n",
       "      <td>0.0</td>\n",
       "      <td>2.0</td>\n",
       "      <td>3.0</td>\n",
       "    </tr>\n",
       "    <tr>\n",
       "      <th>9408</th>\n",
       "      <td>20.333333</td>\n",
       "      <td>0.0</td>\n",
       "      <td>1.0</td>\n",
       "      <td>1.0</td>\n",
       "    </tr>\n",
       "    <tr>\n",
       "      <th>9409</th>\n",
       "      <td>26.666667</td>\n",
       "      <td>0.0</td>\n",
       "      <td>1.0</td>\n",
       "      <td>1.0</td>\n",
       "    </tr>\n",
       "    <tr>\n",
       "      <th>9410</th>\n",
       "      <td>38.333333</td>\n",
       "      <td>1.0</td>\n",
       "      <td>3.0</td>\n",
       "      <td>2.0</td>\n",
       "    </tr>\n",
       "    <tr>\n",
       "      <th>9411</th>\n",
       "      <td>18.333333</td>\n",
       "      <td>0.0</td>\n",
       "      <td>1.0</td>\n",
       "      <td>1.0</td>\n",
       "    </tr>\n",
       "  </tbody>\n",
       "</table>\n",
       "<p>9412 rows × 4 columns</p>\n",
       "</div>"
      ],
      "text/plain": [
       "       handgrip  weight_loss  exaustion  poor_endurance\n",
       "0     24.333333          0.0        1.0             1.0\n",
       "1     25.666667          0.0        1.0             1.0\n",
       "2     14.666667          NaN        2.0             1.0\n",
       "3     24.000000          0.0        1.0             1.0\n",
       "4           NaN          0.0        4.0             2.0\n",
       "...         ...          ...        ...             ...\n",
       "9407  22.666667          0.0        2.0             3.0\n",
       "9408  20.333333          0.0        1.0             1.0\n",
       "9409  26.666667          0.0        1.0             1.0\n",
       "9410  38.333333          1.0        3.0             2.0\n",
       "9411  18.333333          0.0        1.0             1.0\n",
       "\n",
       "[9412 rows x 4 columns]"
      ]
     },
     "execution_count": 79,
     "metadata": {},
     "output_type": "execute_result"
    }
   ],
   "source": [
    "vitality_df = pd.concat(vitality_dfs, axis=1)\n",
    "vitality_df"
   ]
  },
  {
   "cell_type": "markdown",
   "metadata": {},
   "source": [
    "## Variáveis para pintar"
   ]
  },
  {
   "cell_type": "code",
   "execution_count": 80,
   "metadata": {},
   "outputs": [
    {
     "data": {
      "text/plain": [
       "Index(['id', 'iddom', 'upa', 'peso_calibrado', 'estrato', 'regiao', 'zona',\n",
       "       'ar4', 'ar6', 'ar8',\n",
       "       ...\n",
       "       'ci4', 'ci5', 'ci6', 'ci7', 'ci8', 'ci9', 'rendadom', 'rendadompc',\n",
       "       'rendaind', 'propriedades'],\n",
       "      dtype='object', length=1082)"
      ]
     },
     "execution_count": 80,
     "metadata": {},
     "output_type": "execute_result"
    }
   ],
   "source": [
    "dados_onda1.columns"
   ]
  },
  {
   "cell_type": "code",
   "execution_count": 81,
   "metadata": {},
   "outputs": [
    {
     "data": {
      "text/plain": [
       "(0       0\n",
       " 1       1\n",
       " 2       0\n",
       " 3       0\n",
       " 4       0\n",
       "        ..\n",
       " 9407    0\n",
       " 9408    0\n",
       " 9409    1\n",
       " 9410    1\n",
       " 9411    0\n",
       " Name: sexo, Length: 9412, dtype: int64,\n",
       " 0       3\n",
       " 1       9\n",
       " 2       9\n",
       " 3       3\n",
       " 4       2\n",
       "        ..\n",
       " 9407    3\n",
       " 9408    3\n",
       " 9409    1\n",
       " 9410    3\n",
       " 9411    1\n",
       " Name: etinia, Length: 9412, dtype: int64,\n",
       " 0       3\n",
       " 1       3\n",
       " 2       3\n",
       " 3       3\n",
       " 4       3\n",
       "        ..\n",
       " 9407    3\n",
       " 9408    3\n",
       " 9409    3\n",
       " 9410    3\n",
       " 9411    3\n",
       " Name: regiao, Length: 9412, dtype: int64)"
      ]
     },
     "execution_count": 81,
     "metadata": {},
     "output_type": "execute_result"
    }
   ],
   "source": [
    "sexo = dados_onda1['sexo']\n",
    "etnia = dados_onda1['e9']\n",
    "regiao = dados_onda1['regiao']\n",
    "etnia.name = 'etnia'\n",
    "sexo, etnia, regiao"
   ]
  },
  {
   "cell_type": "code",
   "execution_count": 82,
   "metadata": {},
   "outputs": [],
   "source": [
    "sexo_moradores  = dados_onda1[[f'ar12_{x}' for x in range (1, 15)]]\n",
    "sexo_moradores.columns = [f'sexo_morador_{x}' for x in range (1, 15)]\n",
    "idade_moradores = dados_onda1[[f'ar14_{x}' for x in range (1, 15)]]\n",
    "idade_moradores.columns = [f'idade_morador_{x}' for x in range (1, 15)]\n",
    "papel_moradores = dados_onda1[[f'ar15_{x}' for x in range (1, 15)]]\n",
    "papel_moradores.columns = [f'papel_morador_{x}' for x in range (1, 15)]"
   ]
  },
  {
   "cell_type": "code",
   "execution_count": 83,
   "metadata": {},
   "outputs": [
    {
     "data": {
      "text/html": [
       "<div>\n",
       "<style scoped>\n",
       "    .dataframe tbody tr th:only-of-type {\n",
       "        vertical-align: middle;\n",
       "    }\n",
       "\n",
       "    .dataframe tbody tr th {\n",
       "        vertical-align: top;\n",
       "    }\n",
       "\n",
       "    .dataframe thead th {\n",
       "        text-align: right;\n",
       "    }\n",
       "</style>\n",
       "<table border=\"1\" class=\"dataframe\">\n",
       "  <thead>\n",
       "    <tr style=\"text-align: right;\">\n",
       "      <th></th>\n",
       "      <th>papel_morador_1</th>\n",
       "      <th>papel_morador_2</th>\n",
       "      <th>papel_morador_3</th>\n",
       "      <th>papel_morador_4</th>\n",
       "      <th>papel_morador_5</th>\n",
       "      <th>papel_morador_6</th>\n",
       "      <th>papel_morador_7</th>\n",
       "      <th>papel_morador_8</th>\n",
       "      <th>papel_morador_9</th>\n",
       "      <th>papel_morador_10</th>\n",
       "      <th>papel_morador_11</th>\n",
       "      <th>papel_morador_12</th>\n",
       "      <th>papel_morador_13</th>\n",
       "      <th>papel_morador_14</th>\n",
       "    </tr>\n",
       "  </thead>\n",
       "  <tbody>\n",
       "    <tr>\n",
       "      <th>0</th>\n",
       "      <td>2.0</td>\n",
       "      <td>3.0</td>\n",
       "      <td>NaN</td>\n",
       "      <td>NaN</td>\n",
       "      <td>NaN</td>\n",
       "      <td>NaN</td>\n",
       "      <td>NaN</td>\n",
       "      <td>NaN</td>\n",
       "      <td>NaN</td>\n",
       "      <td>NaN</td>\n",
       "      <td>NaN</td>\n",
       "      <td>NaN</td>\n",
       "      <td>NaN</td>\n",
       "      <td>NaN</td>\n",
       "    </tr>\n",
       "    <tr>\n",
       "      <th>1</th>\n",
       "      <td>2.0</td>\n",
       "      <td>NaN</td>\n",
       "      <td>NaN</td>\n",
       "      <td>NaN</td>\n",
       "      <td>NaN</td>\n",
       "      <td>NaN</td>\n",
       "      <td>NaN</td>\n",
       "      <td>NaN</td>\n",
       "      <td>NaN</td>\n",
       "      <td>NaN</td>\n",
       "      <td>NaN</td>\n",
       "      <td>NaN</td>\n",
       "      <td>NaN</td>\n",
       "      <td>NaN</td>\n",
       "    </tr>\n",
       "    <tr>\n",
       "      <th>2</th>\n",
       "      <td>2.0</td>\n",
       "      <td>NaN</td>\n",
       "      <td>NaN</td>\n",
       "      <td>NaN</td>\n",
       "      <td>NaN</td>\n",
       "      <td>NaN</td>\n",
       "      <td>NaN</td>\n",
       "      <td>NaN</td>\n",
       "      <td>NaN</td>\n",
       "      <td>NaN</td>\n",
       "      <td>NaN</td>\n",
       "      <td>NaN</td>\n",
       "      <td>NaN</td>\n",
       "      <td>NaN</td>\n",
       "    </tr>\n",
       "    <tr>\n",
       "      <th>3</th>\n",
       "      <td>3.0</td>\n",
       "      <td>6.0</td>\n",
       "      <td>NaN</td>\n",
       "      <td>NaN</td>\n",
       "      <td>NaN</td>\n",
       "      <td>NaN</td>\n",
       "      <td>NaN</td>\n",
       "      <td>NaN</td>\n",
       "      <td>NaN</td>\n",
       "      <td>NaN</td>\n",
       "      <td>NaN</td>\n",
       "      <td>NaN</td>\n",
       "      <td>NaN</td>\n",
       "      <td>NaN</td>\n",
       "    </tr>\n",
       "    <tr>\n",
       "      <th>4</th>\n",
       "      <td>12.0</td>\n",
       "      <td>NaN</td>\n",
       "      <td>NaN</td>\n",
       "      <td>NaN</td>\n",
       "      <td>NaN</td>\n",
       "      <td>NaN</td>\n",
       "      <td>NaN</td>\n",
       "      <td>NaN</td>\n",
       "      <td>NaN</td>\n",
       "      <td>NaN</td>\n",
       "      <td>NaN</td>\n",
       "      <td>NaN</td>\n",
       "      <td>NaN</td>\n",
       "      <td>NaN</td>\n",
       "    </tr>\n",
       "    <tr>\n",
       "      <th>...</th>\n",
       "      <td>...</td>\n",
       "      <td>...</td>\n",
       "      <td>...</td>\n",
       "      <td>...</td>\n",
       "      <td>...</td>\n",
       "      <td>...</td>\n",
       "      <td>...</td>\n",
       "      <td>...</td>\n",
       "      <td>...</td>\n",
       "      <td>...</td>\n",
       "      <td>...</td>\n",
       "      <td>...</td>\n",
       "      <td>...</td>\n",
       "      <td>...</td>\n",
       "    </tr>\n",
       "    <tr>\n",
       "      <th>9407</th>\n",
       "      <td>2.0</td>\n",
       "      <td>3.0</td>\n",
       "      <td>NaN</td>\n",
       "      <td>NaN</td>\n",
       "      <td>NaN</td>\n",
       "      <td>NaN</td>\n",
       "      <td>NaN</td>\n",
       "      <td>NaN</td>\n",
       "      <td>NaN</td>\n",
       "      <td>NaN</td>\n",
       "      <td>NaN</td>\n",
       "      <td>NaN</td>\n",
       "      <td>NaN</td>\n",
       "      <td>NaN</td>\n",
       "    </tr>\n",
       "    <tr>\n",
       "      <th>9408</th>\n",
       "      <td>3.0</td>\n",
       "      <td>6.0</td>\n",
       "      <td>NaN</td>\n",
       "      <td>NaN</td>\n",
       "      <td>NaN</td>\n",
       "      <td>NaN</td>\n",
       "      <td>NaN</td>\n",
       "      <td>NaN</td>\n",
       "      <td>NaN</td>\n",
       "      <td>NaN</td>\n",
       "      <td>NaN</td>\n",
       "      <td>NaN</td>\n",
       "      <td>NaN</td>\n",
       "      <td>NaN</td>\n",
       "    </tr>\n",
       "    <tr>\n",
       "      <th>9409</th>\n",
       "      <td>NaN</td>\n",
       "      <td>NaN</td>\n",
       "      <td>NaN</td>\n",
       "      <td>NaN</td>\n",
       "      <td>NaN</td>\n",
       "      <td>NaN</td>\n",
       "      <td>NaN</td>\n",
       "      <td>NaN</td>\n",
       "      <td>NaN</td>\n",
       "      <td>NaN</td>\n",
       "      <td>NaN</td>\n",
       "      <td>NaN</td>\n",
       "      <td>NaN</td>\n",
       "      <td>NaN</td>\n",
       "    </tr>\n",
       "    <tr>\n",
       "      <th>9410</th>\n",
       "      <td>NaN</td>\n",
       "      <td>NaN</td>\n",
       "      <td>NaN</td>\n",
       "      <td>NaN</td>\n",
       "      <td>NaN</td>\n",
       "      <td>NaN</td>\n",
       "      <td>NaN</td>\n",
       "      <td>NaN</td>\n",
       "      <td>NaN</td>\n",
       "      <td>NaN</td>\n",
       "      <td>NaN</td>\n",
       "      <td>NaN</td>\n",
       "      <td>NaN</td>\n",
       "      <td>NaN</td>\n",
       "    </tr>\n",
       "    <tr>\n",
       "      <th>9411</th>\n",
       "      <td>NaN</td>\n",
       "      <td>NaN</td>\n",
       "      <td>NaN</td>\n",
       "      <td>NaN</td>\n",
       "      <td>NaN</td>\n",
       "      <td>NaN</td>\n",
       "      <td>NaN</td>\n",
       "      <td>NaN</td>\n",
       "      <td>NaN</td>\n",
       "      <td>NaN</td>\n",
       "      <td>NaN</td>\n",
       "      <td>NaN</td>\n",
       "      <td>NaN</td>\n",
       "      <td>NaN</td>\n",
       "    </tr>\n",
       "  </tbody>\n",
       "</table>\n",
       "<p>9412 rows × 14 columns</p>\n",
       "</div>"
      ],
      "text/plain": [
       "      papel_morador_1  papel_morador_2  papel_morador_3  papel_morador_4  \\\n",
       "0                 2.0              3.0              NaN              NaN   \n",
       "1                 2.0              NaN              NaN              NaN   \n",
       "2                 2.0              NaN              NaN              NaN   \n",
       "3                 3.0              6.0              NaN              NaN   \n",
       "4                12.0              NaN              NaN              NaN   \n",
       "...               ...              ...              ...              ...   \n",
       "9407              2.0              3.0              NaN              NaN   \n",
       "9408              3.0              6.0              NaN              NaN   \n",
       "9409              NaN              NaN              NaN              NaN   \n",
       "9410              NaN              NaN              NaN              NaN   \n",
       "9411              NaN              NaN              NaN              NaN   \n",
       "\n",
       "      papel_morador_5  papel_morador_6  papel_morador_7  papel_morador_8  \\\n",
       "0                 NaN              NaN              NaN              NaN   \n",
       "1                 NaN              NaN              NaN              NaN   \n",
       "2                 NaN              NaN              NaN              NaN   \n",
       "3                 NaN              NaN              NaN              NaN   \n",
       "4                 NaN              NaN              NaN              NaN   \n",
       "...               ...              ...              ...              ...   \n",
       "9407              NaN              NaN              NaN              NaN   \n",
       "9408              NaN              NaN              NaN              NaN   \n",
       "9409              NaN              NaN              NaN              NaN   \n",
       "9410              NaN              NaN              NaN              NaN   \n",
       "9411              NaN              NaN              NaN              NaN   \n",
       "\n",
       "      papel_morador_9  papel_morador_10  papel_morador_11  papel_morador_12  \\\n",
       "0                 NaN               NaN               NaN               NaN   \n",
       "1                 NaN               NaN               NaN               NaN   \n",
       "2                 NaN               NaN               NaN               NaN   \n",
       "3                 NaN               NaN               NaN               NaN   \n",
       "4                 NaN               NaN               NaN               NaN   \n",
       "...               ...               ...               ...               ...   \n",
       "9407              NaN               NaN               NaN               NaN   \n",
       "9408              NaN               NaN               NaN               NaN   \n",
       "9409              NaN               NaN               NaN               NaN   \n",
       "9410              NaN               NaN               NaN               NaN   \n",
       "9411              NaN               NaN               NaN               NaN   \n",
       "\n",
       "      papel_morador_13  papel_morador_14  \n",
       "0                  NaN               NaN  \n",
       "1                  NaN               NaN  \n",
       "2                  NaN               NaN  \n",
       "3                  NaN               NaN  \n",
       "4                  NaN               NaN  \n",
       "...                ...               ...  \n",
       "9407               NaN               NaN  \n",
       "9408               NaN               NaN  \n",
       "9409               NaN               NaN  \n",
       "9410               NaN               NaN  \n",
       "9411               NaN               NaN  \n",
       "\n",
       "[9412 rows x 14 columns]"
      ]
     },
     "execution_count": 83,
     "metadata": {},
     "output_type": "execute_result"
    }
   ],
   "source": [
    "papel_moradores"
   ]
  },
  {
   "cell_type": "code",
   "execution_count": 84,
   "metadata": {},
   "outputs": [
    {
     "data": {
      "text/html": [
       "<div>\n",
       "<style scoped>\n",
       "    .dataframe tbody tr th:only-of-type {\n",
       "        vertical-align: middle;\n",
       "    }\n",
       "\n",
       "    .dataframe tbody tr th {\n",
       "        vertical-align: top;\n",
       "    }\n",
       "\n",
       "    .dataframe thead th {\n",
       "        text-align: right;\n",
       "    }\n",
       "</style>\n",
       "<table border=\"1\" class=\"dataframe\">\n",
       "  <thead>\n",
       "    <tr style=\"text-align: right;\">\n",
       "      <th></th>\n",
       "      <th>idade_morador_1</th>\n",
       "      <th>idade_morador_2</th>\n",
       "      <th>idade_morador_3</th>\n",
       "      <th>idade_morador_4</th>\n",
       "      <th>idade_morador_5</th>\n",
       "      <th>idade_morador_6</th>\n",
       "      <th>idade_morador_7</th>\n",
       "      <th>idade_morador_8</th>\n",
       "      <th>idade_morador_9</th>\n",
       "      <th>idade_morador_10</th>\n",
       "      <th>idade_morador_11</th>\n",
       "      <th>idade_morador_12</th>\n",
       "      <th>idade_morador_13</th>\n",
       "      <th>idade_morador_14</th>\n",
       "    </tr>\n",
       "  </thead>\n",
       "  <tbody>\n",
       "    <tr>\n",
       "      <th>0</th>\n",
       "      <td>51.0</td>\n",
       "      <td>19.0</td>\n",
       "      <td>NaN</td>\n",
       "      <td>NaN</td>\n",
       "      <td>NaN</td>\n",
       "      <td>NaN</td>\n",
       "      <td>NaN</td>\n",
       "      <td>NaN</td>\n",
       "      <td>NaN</td>\n",
       "      <td>NaN</td>\n",
       "      <td>NaN</td>\n",
       "      <td>NaN</td>\n",
       "      <td>NaN</td>\n",
       "      <td>NaN</td>\n",
       "    </tr>\n",
       "    <tr>\n",
       "      <th>1</th>\n",
       "      <td>60.0</td>\n",
       "      <td>NaN</td>\n",
       "      <td>NaN</td>\n",
       "      <td>NaN</td>\n",
       "      <td>NaN</td>\n",
       "      <td>NaN</td>\n",
       "      <td>NaN</td>\n",
       "      <td>NaN</td>\n",
       "      <td>NaN</td>\n",
       "      <td>NaN</td>\n",
       "      <td>NaN</td>\n",
       "      <td>NaN</td>\n",
       "      <td>NaN</td>\n",
       "      <td>NaN</td>\n",
       "    </tr>\n",
       "    <tr>\n",
       "      <th>2</th>\n",
       "      <td>57.0</td>\n",
       "      <td>NaN</td>\n",
       "      <td>NaN</td>\n",
       "      <td>NaN</td>\n",
       "      <td>NaN</td>\n",
       "      <td>NaN</td>\n",
       "      <td>NaN</td>\n",
       "      <td>NaN</td>\n",
       "      <td>NaN</td>\n",
       "      <td>NaN</td>\n",
       "      <td>NaN</td>\n",
       "      <td>NaN</td>\n",
       "      <td>NaN</td>\n",
       "      <td>NaN</td>\n",
       "    </tr>\n",
       "    <tr>\n",
       "      <th>3</th>\n",
       "      <td>48.0</td>\n",
       "      <td>23.0</td>\n",
       "      <td>NaN</td>\n",
       "      <td>NaN</td>\n",
       "      <td>NaN</td>\n",
       "      <td>NaN</td>\n",
       "      <td>NaN</td>\n",
       "      <td>NaN</td>\n",
       "      <td>NaN</td>\n",
       "      <td>NaN</td>\n",
       "      <td>NaN</td>\n",
       "      <td>NaN</td>\n",
       "      <td>NaN</td>\n",
       "      <td>NaN</td>\n",
       "    </tr>\n",
       "    <tr>\n",
       "      <th>4</th>\n",
       "      <td>88.0</td>\n",
       "      <td>NaN</td>\n",
       "      <td>NaN</td>\n",
       "      <td>NaN</td>\n",
       "      <td>NaN</td>\n",
       "      <td>NaN</td>\n",
       "      <td>NaN</td>\n",
       "      <td>NaN</td>\n",
       "      <td>NaN</td>\n",
       "      <td>NaN</td>\n",
       "      <td>NaN</td>\n",
       "      <td>NaN</td>\n",
       "      <td>NaN</td>\n",
       "      <td>NaN</td>\n",
       "    </tr>\n",
       "    <tr>\n",
       "      <th>...</th>\n",
       "      <td>...</td>\n",
       "      <td>...</td>\n",
       "      <td>...</td>\n",
       "      <td>...</td>\n",
       "      <td>...</td>\n",
       "      <td>...</td>\n",
       "      <td>...</td>\n",
       "      <td>...</td>\n",
       "      <td>...</td>\n",
       "      <td>...</td>\n",
       "      <td>...</td>\n",
       "      <td>...</td>\n",
       "      <td>...</td>\n",
       "      <td>...</td>\n",
       "    </tr>\n",
       "    <tr>\n",
       "      <th>9407</th>\n",
       "      <td>69.0</td>\n",
       "      <td>33.0</td>\n",
       "      <td>NaN</td>\n",
       "      <td>NaN</td>\n",
       "      <td>NaN</td>\n",
       "      <td>NaN</td>\n",
       "      <td>NaN</td>\n",
       "      <td>NaN</td>\n",
       "      <td>NaN</td>\n",
       "      <td>NaN</td>\n",
       "      <td>NaN</td>\n",
       "      <td>NaN</td>\n",
       "      <td>NaN</td>\n",
       "      <td>NaN</td>\n",
       "    </tr>\n",
       "    <tr>\n",
       "      <th>9408</th>\n",
       "      <td>42.0</td>\n",
       "      <td>11.0</td>\n",
       "      <td>NaN</td>\n",
       "      <td>NaN</td>\n",
       "      <td>NaN</td>\n",
       "      <td>NaN</td>\n",
       "      <td>NaN</td>\n",
       "      <td>NaN</td>\n",
       "      <td>NaN</td>\n",
       "      <td>NaN</td>\n",
       "      <td>NaN</td>\n",
       "      <td>NaN</td>\n",
       "      <td>NaN</td>\n",
       "      <td>NaN</td>\n",
       "    </tr>\n",
       "    <tr>\n",
       "      <th>9409</th>\n",
       "      <td>NaN</td>\n",
       "      <td>NaN</td>\n",
       "      <td>NaN</td>\n",
       "      <td>NaN</td>\n",
       "      <td>NaN</td>\n",
       "      <td>NaN</td>\n",
       "      <td>NaN</td>\n",
       "      <td>NaN</td>\n",
       "      <td>NaN</td>\n",
       "      <td>NaN</td>\n",
       "      <td>NaN</td>\n",
       "      <td>NaN</td>\n",
       "      <td>NaN</td>\n",
       "      <td>NaN</td>\n",
       "    </tr>\n",
       "    <tr>\n",
       "      <th>9410</th>\n",
       "      <td>NaN</td>\n",
       "      <td>NaN</td>\n",
       "      <td>NaN</td>\n",
       "      <td>NaN</td>\n",
       "      <td>NaN</td>\n",
       "      <td>NaN</td>\n",
       "      <td>NaN</td>\n",
       "      <td>NaN</td>\n",
       "      <td>NaN</td>\n",
       "      <td>NaN</td>\n",
       "      <td>NaN</td>\n",
       "      <td>NaN</td>\n",
       "      <td>NaN</td>\n",
       "      <td>NaN</td>\n",
       "    </tr>\n",
       "    <tr>\n",
       "      <th>9411</th>\n",
       "      <td>NaN</td>\n",
       "      <td>NaN</td>\n",
       "      <td>NaN</td>\n",
       "      <td>NaN</td>\n",
       "      <td>NaN</td>\n",
       "      <td>NaN</td>\n",
       "      <td>NaN</td>\n",
       "      <td>NaN</td>\n",
       "      <td>NaN</td>\n",
       "      <td>NaN</td>\n",
       "      <td>NaN</td>\n",
       "      <td>NaN</td>\n",
       "      <td>NaN</td>\n",
       "      <td>NaN</td>\n",
       "    </tr>\n",
       "  </tbody>\n",
       "</table>\n",
       "<p>9412 rows × 14 columns</p>\n",
       "</div>"
      ],
      "text/plain": [
       "      idade_morador_1  idade_morador_2  idade_morador_3  idade_morador_4  \\\n",
       "0                51.0             19.0              NaN              NaN   \n",
       "1                60.0              NaN              NaN              NaN   \n",
       "2                57.0              NaN              NaN              NaN   \n",
       "3                48.0             23.0              NaN              NaN   \n",
       "4                88.0              NaN              NaN              NaN   \n",
       "...               ...              ...              ...              ...   \n",
       "9407             69.0             33.0              NaN              NaN   \n",
       "9408             42.0             11.0              NaN              NaN   \n",
       "9409              NaN              NaN              NaN              NaN   \n",
       "9410              NaN              NaN              NaN              NaN   \n",
       "9411              NaN              NaN              NaN              NaN   \n",
       "\n",
       "      idade_morador_5  idade_morador_6  idade_morador_7  idade_morador_8  \\\n",
       "0                 NaN              NaN              NaN              NaN   \n",
       "1                 NaN              NaN              NaN              NaN   \n",
       "2                 NaN              NaN              NaN              NaN   \n",
       "3                 NaN              NaN              NaN              NaN   \n",
       "4                 NaN              NaN              NaN              NaN   \n",
       "...               ...              ...              ...              ...   \n",
       "9407              NaN              NaN              NaN              NaN   \n",
       "9408              NaN              NaN              NaN              NaN   \n",
       "9409              NaN              NaN              NaN              NaN   \n",
       "9410              NaN              NaN              NaN              NaN   \n",
       "9411              NaN              NaN              NaN              NaN   \n",
       "\n",
       "      idade_morador_9  idade_morador_10  idade_morador_11  idade_morador_12  \\\n",
       "0                 NaN               NaN               NaN               NaN   \n",
       "1                 NaN               NaN               NaN               NaN   \n",
       "2                 NaN               NaN               NaN               NaN   \n",
       "3                 NaN               NaN               NaN               NaN   \n",
       "4                 NaN               NaN               NaN               NaN   \n",
       "...               ...               ...               ...               ...   \n",
       "9407              NaN               NaN               NaN               NaN   \n",
       "9408              NaN               NaN               NaN               NaN   \n",
       "9409              NaN               NaN               NaN               NaN   \n",
       "9410              NaN               NaN               NaN               NaN   \n",
       "9411              NaN               NaN               NaN               NaN   \n",
       "\n",
       "      idade_morador_13  idade_morador_14  \n",
       "0                  NaN               NaN  \n",
       "1                  NaN               NaN  \n",
       "2                  NaN               NaN  \n",
       "3                  NaN               NaN  \n",
       "4                  NaN               NaN  \n",
       "...                ...               ...  \n",
       "9407               NaN               NaN  \n",
       "9408               NaN               NaN  \n",
       "9409               NaN               NaN  \n",
       "9410               NaN               NaN  \n",
       "9411               NaN               NaN  \n",
       "\n",
       "[9412 rows x 14 columns]"
      ]
     },
     "execution_count": 84,
     "metadata": {},
     "output_type": "execute_result"
    }
   ],
   "source": [
    "idade_moradores"
   ]
  },
  {
   "cell_type": "code",
   "execution_count": 85,
   "metadata": {},
   "outputs": [
    {
     "data": {
      "text/html": [
       "<div>\n",
       "<style scoped>\n",
       "    .dataframe tbody tr th:only-of-type {\n",
       "        vertical-align: middle;\n",
       "    }\n",
       "\n",
       "    .dataframe tbody tr th {\n",
       "        vertical-align: top;\n",
       "    }\n",
       "\n",
       "    .dataframe thead th {\n",
       "        text-align: right;\n",
       "    }\n",
       "</style>\n",
       "<table border=\"1\" class=\"dataframe\">\n",
       "  <thead>\n",
       "    <tr style=\"text-align: right;\">\n",
       "      <th></th>\n",
       "      <th>sexo_morador_1</th>\n",
       "      <th>sexo_morador_2</th>\n",
       "      <th>sexo_morador_3</th>\n",
       "      <th>sexo_morador_4</th>\n",
       "      <th>sexo_morador_5</th>\n",
       "      <th>sexo_morador_6</th>\n",
       "      <th>sexo_morador_7</th>\n",
       "      <th>sexo_morador_8</th>\n",
       "      <th>sexo_morador_9</th>\n",
       "      <th>sexo_morador_10</th>\n",
       "      <th>sexo_morador_11</th>\n",
       "      <th>sexo_morador_12</th>\n",
       "      <th>sexo_morador_13</th>\n",
       "      <th>sexo_morador_14</th>\n",
       "    </tr>\n",
       "  </thead>\n",
       "  <tbody>\n",
       "    <tr>\n",
       "      <th>0</th>\n",
       "      <td>0.0</td>\n",
       "      <td>1.0</td>\n",
       "      <td>NaN</td>\n",
       "      <td>NaN</td>\n",
       "      <td>NaN</td>\n",
       "      <td>NaN</td>\n",
       "      <td>NaN</td>\n",
       "      <td>NaN</td>\n",
       "      <td>NaN</td>\n",
       "      <td>NaN</td>\n",
       "      <td>NaN</td>\n",
       "      <td>NaN</td>\n",
       "      <td>NaN</td>\n",
       "      <td>NaN</td>\n",
       "    </tr>\n",
       "    <tr>\n",
       "      <th>1</th>\n",
       "      <td>0.0</td>\n",
       "      <td>NaN</td>\n",
       "      <td>NaN</td>\n",
       "      <td>NaN</td>\n",
       "      <td>NaN</td>\n",
       "      <td>NaN</td>\n",
       "      <td>NaN</td>\n",
       "      <td>NaN</td>\n",
       "      <td>NaN</td>\n",
       "      <td>NaN</td>\n",
       "      <td>NaN</td>\n",
       "      <td>NaN</td>\n",
       "      <td>NaN</td>\n",
       "      <td>NaN</td>\n",
       "    </tr>\n",
       "    <tr>\n",
       "      <th>2</th>\n",
       "      <td>1.0</td>\n",
       "      <td>NaN</td>\n",
       "      <td>NaN</td>\n",
       "      <td>NaN</td>\n",
       "      <td>NaN</td>\n",
       "      <td>NaN</td>\n",
       "      <td>NaN</td>\n",
       "      <td>NaN</td>\n",
       "      <td>NaN</td>\n",
       "      <td>NaN</td>\n",
       "      <td>NaN</td>\n",
       "      <td>NaN</td>\n",
       "      <td>NaN</td>\n",
       "      <td>NaN</td>\n",
       "    </tr>\n",
       "    <tr>\n",
       "      <th>3</th>\n",
       "      <td>0.0</td>\n",
       "      <td>1.0</td>\n",
       "      <td>NaN</td>\n",
       "      <td>NaN</td>\n",
       "      <td>NaN</td>\n",
       "      <td>NaN</td>\n",
       "      <td>NaN</td>\n",
       "      <td>NaN</td>\n",
       "      <td>NaN</td>\n",
       "      <td>NaN</td>\n",
       "      <td>NaN</td>\n",
       "      <td>NaN</td>\n",
       "      <td>NaN</td>\n",
       "      <td>NaN</td>\n",
       "    </tr>\n",
       "    <tr>\n",
       "      <th>4</th>\n",
       "      <td>0.0</td>\n",
       "      <td>NaN</td>\n",
       "      <td>NaN</td>\n",
       "      <td>NaN</td>\n",
       "      <td>NaN</td>\n",
       "      <td>NaN</td>\n",
       "      <td>NaN</td>\n",
       "      <td>NaN</td>\n",
       "      <td>NaN</td>\n",
       "      <td>NaN</td>\n",
       "      <td>NaN</td>\n",
       "      <td>NaN</td>\n",
       "      <td>NaN</td>\n",
       "      <td>NaN</td>\n",
       "    </tr>\n",
       "    <tr>\n",
       "      <th>...</th>\n",
       "      <td>...</td>\n",
       "      <td>...</td>\n",
       "      <td>...</td>\n",
       "      <td>...</td>\n",
       "      <td>...</td>\n",
       "      <td>...</td>\n",
       "      <td>...</td>\n",
       "      <td>...</td>\n",
       "      <td>...</td>\n",
       "      <td>...</td>\n",
       "      <td>...</td>\n",
       "      <td>...</td>\n",
       "      <td>...</td>\n",
       "      <td>...</td>\n",
       "    </tr>\n",
       "    <tr>\n",
       "      <th>9407</th>\n",
       "      <td>1.0</td>\n",
       "      <td>0.0</td>\n",
       "      <td>NaN</td>\n",
       "      <td>NaN</td>\n",
       "      <td>NaN</td>\n",
       "      <td>NaN</td>\n",
       "      <td>NaN</td>\n",
       "      <td>NaN</td>\n",
       "      <td>NaN</td>\n",
       "      <td>NaN</td>\n",
       "      <td>NaN</td>\n",
       "      <td>NaN</td>\n",
       "      <td>NaN</td>\n",
       "      <td>NaN</td>\n",
       "    </tr>\n",
       "    <tr>\n",
       "      <th>9408</th>\n",
       "      <td>0.0</td>\n",
       "      <td>1.0</td>\n",
       "      <td>NaN</td>\n",
       "      <td>NaN</td>\n",
       "      <td>NaN</td>\n",
       "      <td>NaN</td>\n",
       "      <td>NaN</td>\n",
       "      <td>NaN</td>\n",
       "      <td>NaN</td>\n",
       "      <td>NaN</td>\n",
       "      <td>NaN</td>\n",
       "      <td>NaN</td>\n",
       "      <td>NaN</td>\n",
       "      <td>NaN</td>\n",
       "    </tr>\n",
       "    <tr>\n",
       "      <th>9409</th>\n",
       "      <td>NaN</td>\n",
       "      <td>NaN</td>\n",
       "      <td>NaN</td>\n",
       "      <td>NaN</td>\n",
       "      <td>NaN</td>\n",
       "      <td>NaN</td>\n",
       "      <td>NaN</td>\n",
       "      <td>NaN</td>\n",
       "      <td>NaN</td>\n",
       "      <td>NaN</td>\n",
       "      <td>NaN</td>\n",
       "      <td>NaN</td>\n",
       "      <td>NaN</td>\n",
       "      <td>NaN</td>\n",
       "    </tr>\n",
       "    <tr>\n",
       "      <th>9410</th>\n",
       "      <td>NaN</td>\n",
       "      <td>NaN</td>\n",
       "      <td>NaN</td>\n",
       "      <td>NaN</td>\n",
       "      <td>NaN</td>\n",
       "      <td>NaN</td>\n",
       "      <td>NaN</td>\n",
       "      <td>NaN</td>\n",
       "      <td>NaN</td>\n",
       "      <td>NaN</td>\n",
       "      <td>NaN</td>\n",
       "      <td>NaN</td>\n",
       "      <td>NaN</td>\n",
       "      <td>NaN</td>\n",
       "    </tr>\n",
       "    <tr>\n",
       "      <th>9411</th>\n",
       "      <td>NaN</td>\n",
       "      <td>NaN</td>\n",
       "      <td>NaN</td>\n",
       "      <td>NaN</td>\n",
       "      <td>NaN</td>\n",
       "      <td>NaN</td>\n",
       "      <td>NaN</td>\n",
       "      <td>NaN</td>\n",
       "      <td>NaN</td>\n",
       "      <td>NaN</td>\n",
       "      <td>NaN</td>\n",
       "      <td>NaN</td>\n",
       "      <td>NaN</td>\n",
       "      <td>NaN</td>\n",
       "    </tr>\n",
       "  </tbody>\n",
       "</table>\n",
       "<p>9412 rows × 14 columns</p>\n",
       "</div>"
      ],
      "text/plain": [
       "      sexo_morador_1  sexo_morador_2  sexo_morador_3  sexo_morador_4  \\\n",
       "0                0.0             1.0             NaN             NaN   \n",
       "1                0.0             NaN             NaN             NaN   \n",
       "2                1.0             NaN             NaN             NaN   \n",
       "3                0.0             1.0             NaN             NaN   \n",
       "4                0.0             NaN             NaN             NaN   \n",
       "...              ...             ...             ...             ...   \n",
       "9407             1.0             0.0             NaN             NaN   \n",
       "9408             0.0             1.0             NaN             NaN   \n",
       "9409             NaN             NaN             NaN             NaN   \n",
       "9410             NaN             NaN             NaN             NaN   \n",
       "9411             NaN             NaN             NaN             NaN   \n",
       "\n",
       "      sexo_morador_5  sexo_morador_6  sexo_morador_7  sexo_morador_8  \\\n",
       "0                NaN             NaN             NaN             NaN   \n",
       "1                NaN             NaN             NaN             NaN   \n",
       "2                NaN             NaN             NaN             NaN   \n",
       "3                NaN             NaN             NaN             NaN   \n",
       "4                NaN             NaN             NaN             NaN   \n",
       "...              ...             ...             ...             ...   \n",
       "9407             NaN             NaN             NaN             NaN   \n",
       "9408             NaN             NaN             NaN             NaN   \n",
       "9409             NaN             NaN             NaN             NaN   \n",
       "9410             NaN             NaN             NaN             NaN   \n",
       "9411             NaN             NaN             NaN             NaN   \n",
       "\n",
       "      sexo_morador_9  sexo_morador_10  sexo_morador_11  sexo_morador_12  \\\n",
       "0                NaN              NaN              NaN              NaN   \n",
       "1                NaN              NaN              NaN              NaN   \n",
       "2                NaN              NaN              NaN              NaN   \n",
       "3                NaN              NaN              NaN              NaN   \n",
       "4                NaN              NaN              NaN              NaN   \n",
       "...              ...              ...              ...              ...   \n",
       "9407             NaN              NaN              NaN              NaN   \n",
       "9408             NaN              NaN              NaN              NaN   \n",
       "9409             NaN              NaN              NaN              NaN   \n",
       "9410             NaN              NaN              NaN              NaN   \n",
       "9411             NaN              NaN              NaN              NaN   \n",
       "\n",
       "      sexo_morador_13  sexo_morador_14  \n",
       "0                 NaN              NaN  \n",
       "1                 NaN              NaN  \n",
       "2                 NaN              NaN  \n",
       "3                 NaN              NaN  \n",
       "4                 NaN              NaN  \n",
       "...               ...              ...  \n",
       "9407              NaN              NaN  \n",
       "9408              NaN              NaN  \n",
       "9409              NaN              NaN  \n",
       "9410              NaN              NaN  \n",
       "9411              NaN              NaN  \n",
       "\n",
       "[9412 rows x 14 columns]"
      ]
     },
     "execution_count": 85,
     "metadata": {},
     "output_type": "execute_result"
    }
   ],
   "source": [
    "sexo_moradores"
   ]
  },
  {
   "cell_type": "code",
   "execution_count": 86,
   "metadata": {},
   "outputs": [],
   "source": [
    "socio_dem = pd.concat([sexo, regiao, etnia, sexo_moradores, papel_moradores, idade_moradores], axis=1)"
   ]
  },
  {
   "cell_type": "markdown",
   "metadata": {},
   "source": [
    "## ADL"
   ]
  },
  {
   "cell_type": "code",
   "execution_count": 92,
   "metadata": {},
   "outputs": [],
   "source": [
    "adl_dfs = []"
   ]
  },
  {
   "cell_type": "markdown",
   "metadata": {},
   "source": [
    "#### Feeding"
   ]
  },
  {
   "cell_type": "code",
   "execution_count": 94,
   "metadata": {},
   "outputs": [
    {
     "name": "stdout",
     "output_type": "stream",
     "text": [
      "1    9165\n",
      "2     103\n",
      "3      73\n",
      "4      69\n",
      "9       2\n",
      "Name: p46, dtype: int64\n"
     ]
    }
   ],
   "source": [
    "print(dados_onda1[adl['feeding']].value_counts().sort_index())"
   ]
  },
  {
   "cell_type": "code",
   "execution_count": 95,
   "metadata": {},
   "outputs": [],
   "source": [
    "substitutions = {9: np.nan, 1: 1, 2: 1, 3: 1, 4: 0}\n",
    "\n",
    "\n",
    "feeading = dados_onda1[adl['feeding']].replace(substitutions)\n"
   ]
  },
  {
   "cell_type": "code",
   "execution_count": 97,
   "metadata": {},
   "outputs": [
    {
     "data": {
      "text/plain": [
       "1.0    9341\n",
       "0.0      69\n",
       "Name: p46, dtype: int64"
      ]
     },
     "execution_count": 97,
     "metadata": {},
     "output_type": "execute_result"
    }
   ],
   "source": [
    "feeading.value_counts()"
   ]
  },
  {
   "cell_type": "code",
   "execution_count": 99,
   "metadata": {},
   "outputs": [],
   "source": [
    "adl_dfs.append(feeading)"
   ]
  },
  {
   "cell_type": "markdown",
   "metadata": {},
   "source": [
    "#### Bathing"
   ]
  },
  {
   "cell_type": "code",
   "execution_count": 101,
   "metadata": {},
   "outputs": [
    {
     "name": "stdout",
     "output_type": "stream",
     "text": [
      "1    8792\n",
      "2     230\n",
      "3     197\n",
      "4     193\n",
      "Name: p43, dtype: int64\n"
     ]
    }
   ],
   "source": [
    "print(dados_onda1[adl['bathing']].value_counts().sort_index())"
   ]
  },
  {
   "cell_type": "code",
   "execution_count": 102,
   "metadata": {},
   "outputs": [],
   "source": [
    "substitutions = {9: np.nan, 1: 1, 2: 1, 3: 1, 4: 0}\n",
    "\n",
    "\n",
    "bathing = dados_onda1[adl['bathing']].replace(substitutions)\n"
   ]
  },
  {
   "cell_type": "code",
   "execution_count": 103,
   "metadata": {},
   "outputs": [
    {
     "data": {
      "text/plain": [
       "1    9219\n",
       "0     193\n",
       "Name: p43, dtype: int64"
      ]
     },
     "execution_count": 103,
     "metadata": {},
     "output_type": "execute_result"
    }
   ],
   "source": [
    "bathing.value_counts()"
   ]
  },
  {
   "cell_type": "code",
   "execution_count": 104,
   "metadata": {},
   "outputs": [],
   "source": [
    "adl_dfs.append(bathing)"
   ]
  },
  {
   "cell_type": "markdown",
   "metadata": {},
   "source": [
    "#### Dressing"
   ]
  },
  {
   "cell_type": "code",
   "execution_count": 106,
   "metadata": {},
   "outputs": [
    {
     "name": "stdout",
     "output_type": "stream",
     "text": [
      "1    8121\n",
      "2     610\n",
      "3     458\n",
      "4     223\n",
      "Name: p40, dtype: int64\n"
     ]
    }
   ],
   "source": [
    "print(dados_onda1[adl['dressing']].value_counts().sort_index())"
   ]
  },
  {
   "cell_type": "code",
   "execution_count": 108,
   "metadata": {},
   "outputs": [],
   "source": [
    "substitutions = {9: np.nan, 1: 1, 2: 1, 3: 1, 4: 0}\n",
    "\n",
    "\n",
    "dressing = dados_onda1[adl['dressing']].replace(substitutions)\n"
   ]
  },
  {
   "cell_type": "code",
   "execution_count": 109,
   "metadata": {},
   "outputs": [
    {
     "data": {
      "text/plain": [
       "1    9189\n",
       "0     223\n",
       "Name: p40, dtype: int64"
      ]
     },
     "execution_count": 109,
     "metadata": {},
     "output_type": "execute_result"
    }
   ],
   "source": [
    "dressing.value_counts()"
   ]
  },
  {
   "cell_type": "code",
   "execution_count": 110,
   "metadata": {},
   "outputs": [],
   "source": [
    "adl_dfs.append(dressing)"
   ]
  },
  {
   "cell_type": "markdown",
   "metadata": {},
   "source": [
    "#### Toileting"
   ]
  },
  {
   "cell_type": "code",
   "execution_count": 112,
   "metadata": {},
   "outputs": [
    {
     "name": "stdout",
     "output_type": "stream",
     "text": [
      "1    8988\n",
      "2     150\n",
      "3     144\n",
      "4     125\n",
      "9       5\n",
      "Name: p55, dtype: int64\n"
     ]
    }
   ],
   "source": [
    "print(dados_onda1[adl['toileting']].value_counts().sort_index())"
   ]
  },
  {
   "cell_type": "code",
   "execution_count": 113,
   "metadata": {},
   "outputs": [],
   "source": [
    "substitutions = {9: np.nan, 1: 1, 2: 1, 3: 1, 4: 0}\n",
    "\n",
    "\n",
    "toileting = dados_onda1[adl['toileting']].replace(substitutions)\n"
   ]
  },
  {
   "cell_type": "code",
   "execution_count": 115,
   "metadata": {},
   "outputs": [
    {
     "data": {
      "text/plain": [
       "1.0    9282\n",
       "0.0     125\n",
       "Name: p55, dtype: int64"
      ]
     },
     "execution_count": 115,
     "metadata": {},
     "output_type": "execute_result"
    }
   ],
   "source": [
    "toileting.value_counts()"
   ]
  },
  {
   "cell_type": "code",
   "execution_count": 116,
   "metadata": {},
   "outputs": [],
   "source": [
    "adl_dfs.append(toileting)"
   ]
  },
  {
   "cell_type": "markdown",
   "metadata": {},
   "source": [
    "#### Transferring"
   ]
  },
  {
   "cell_type": "code",
   "execution_count": 119,
   "metadata": {},
   "outputs": [
    {
     "name": "stdout",
     "output_type": "stream",
     "text": [
      "1    8526\n",
      "2     338\n",
      "3     298\n",
      "4     238\n",
      "9      12\n",
      "Name: p49, dtype: int64\n"
     ]
    }
   ],
   "source": [
    "print(dados_onda1[adl['transferring']].value_counts().sort_index())"
   ]
  },
  {
   "cell_type": "code",
   "execution_count": 120,
   "metadata": {},
   "outputs": [],
   "source": [
    "substitutions = {9: np.nan, 1: 1, 2: 1, 3: 1, 4: 0}\n",
    "\n",
    "\n",
    "transferring = dados_onda1[adl['transferring']].replace(substitutions)\n"
   ]
  },
  {
   "cell_type": "code",
   "execution_count": 121,
   "metadata": {},
   "outputs": [
    {
     "data": {
      "text/plain": [
       "1.0    9162\n",
       "0.0     238\n",
       "Name: p49, dtype: int64"
      ]
     },
     "execution_count": 121,
     "metadata": {},
     "output_type": "execute_result"
    }
   ],
   "source": [
    "transferring.value_counts()"
   ]
  },
  {
   "cell_type": "code",
   "execution_count": 122,
   "metadata": {},
   "outputs": [],
   "source": [
    "adl_dfs.append(transferring)"
   ]
  },
  {
   "cell_type": "markdown",
   "metadata": {},
   "source": [
    "#### Continence"
   ]
  },
  {
   "cell_type": "code",
   "execution_count": 123,
   "metadata": {},
   "outputs": [
    {
     "name": "stdout",
     "output_type": "stream",
     "text": [
      "1    8379\n",
      "2     599\n",
      "3     206\n",
      "4     221\n",
      "9       7\n",
      "Name: p58, dtype: int64\n"
     ]
    }
   ],
   "source": [
    "print(dados_onda1[adl['continence']].value_counts().sort_index())"
   ]
  },
  {
   "cell_type": "code",
   "execution_count": 124,
   "metadata": {},
   "outputs": [],
   "source": [
    "substitutions = {9: np.nan, 1: 1, 2: 0, 3: 0, 4: 0}\n",
    "\n",
    "\n",
    "continence = dados_onda1[adl['continence']].replace(substitutions)\n"
   ]
  },
  {
   "cell_type": "code",
   "execution_count": 125,
   "metadata": {},
   "outputs": [
    {
     "data": {
      "text/plain": [
       "1.0    8379\n",
       "0.0    1026\n",
       "Name: p58, dtype: int64"
      ]
     },
     "execution_count": 125,
     "metadata": {},
     "output_type": "execute_result"
    }
   ],
   "source": [
    "continence.value_counts()"
   ]
  },
  {
   "cell_type": "code",
   "execution_count": 126,
   "metadata": {},
   "outputs": [],
   "source": [
    "adl_dfs.append(continence)"
   ]
  },
  {
   "cell_type": "markdown",
   "metadata": {},
   "source": [
    "#### Final df"
   ]
  },
  {
   "cell_type": "code",
   "execution_count": 135,
   "metadata": {},
   "outputs": [],
   "source": [
    "adl_df = pd.concat(adl_dfs, axis=1)\n",
    "adl_df['adl_index'] = adl_df.apply(sum, axis=1)"
   ]
  },
  {
   "cell_type": "code",
   "execution_count": 137,
   "metadata": {},
   "outputs": [
    {
     "data": {
      "text/plain": [
       "6.0    8174\n",
       "5.0     989\n",
       "1.0      54\n",
       "4.0      49\n",
       "3.0      49\n",
       "2.0      41\n",
       "0.0      30\n",
       "Name: adl_index, dtype: int64"
      ]
     },
     "execution_count": 137,
     "metadata": {},
     "output_type": "execute_result"
    }
   ],
   "source": [
    "adl_df['adl_index'].value_counts()"
   ]
  },
  {
   "cell_type": "markdown",
   "metadata": {},
   "source": [
    "## AADL"
   ]
  },
  {
   "cell_type": "code",
   "execution_count": 146,
   "metadata": {},
   "outputs": [
    {
     "name": "stdout",
     "output_type": "stream",
     "text": [
      "1    6921\n",
      "0    2484\n",
      "9       7\n",
      "Name: p70, dtype: int64\n",
      "1    7168\n",
      "0    2240\n",
      "9       4\n",
      "Name: p71, dtype: int64\n",
      "1    6587\n",
      "0    2817\n",
      "9       8\n",
      "Name: p72, dtype: int64\n",
      "0    5469\n",
      "1    3936\n",
      "9       7\n",
      "Name: p73, dtype: int64\n",
      "0    4927\n",
      "1    4475\n",
      "9      10\n",
      "Name: p74, dtype: int64\n",
      "0    8491\n",
      "1     918\n",
      "9       3\n",
      "Name: p75, dtype: int64\n",
      "0    7316\n",
      "1    2093\n",
      "9       3\n",
      "Name: p76, dtype: int64\n",
      "0    6834\n",
      "1    2573\n",
      "9       5\n",
      "Name: p77, dtype: int64\n",
      "0    7658\n",
      "1    1753\n",
      "9       1\n",
      "Name: p78, dtype: int64\n",
      "0    6406\n",
      "1    3001\n",
      "9       5\n",
      "Name: p79, dtype: int64\n",
      "0    5684\n",
      "1    3722\n",
      "9       6\n",
      "Name: p80, dtype: int64\n",
      "0    7934\n",
      "1    1476\n",
      "9       2\n",
      "Name: p81, dtype: int64\n",
      "0    7879\n",
      "1    1519\n",
      "9      14\n",
      "Name: p82, dtype: int64\n",
      "0    7319\n",
      "1    2085\n",
      "9       8\n",
      "Name: p85, dtype: int64\n"
     ]
    }
   ],
   "source": [
    "for q in aadl:\n",
    "    print(dados_onda1[q].value_counts())"
   ]
  },
  {
   "cell_type": "code",
   "execution_count": 148,
   "metadata": {},
   "outputs": [
    {
     "name": "stdout",
     "output_type": "stream",
     "text": [
      "1.0    6921\n",
      "0.0    2484\n",
      "Name: p70, dtype: int64\n",
      "1.0    7168\n",
      "0.0    2240\n",
      "Name: p71, dtype: int64\n",
      "1.0    6587\n",
      "0.0    2817\n",
      "Name: p72, dtype: int64\n",
      "0.0    5469\n",
      "1.0    3936\n",
      "Name: p73, dtype: int64\n",
      "0.0    4927\n",
      "1.0    4475\n",
      "Name: p74, dtype: int64\n",
      "0.0    8491\n",
      "1.0     918\n",
      "Name: p75, dtype: int64\n",
      "0.0    7316\n",
      "1.0    2093\n",
      "Name: p76, dtype: int64\n",
      "0.0    6834\n",
      "1.0    2573\n",
      "Name: p77, dtype: int64\n",
      "0.0    7658\n",
      "1.0    1753\n",
      "Name: p78, dtype: int64\n",
      "0.0    6406\n",
      "1.0    3001\n",
      "Name: p79, dtype: int64\n",
      "0.0    5684\n",
      "1.0    3722\n",
      "Name: p80, dtype: int64\n",
      "0.0    7934\n",
      "1.0    1476\n",
      "Name: p81, dtype: int64\n",
      "0.0    7879\n",
      "1.0    1519\n",
      "Name: p82, dtype: int64\n",
      "0.0    7319\n",
      "1.0    2085\n",
      "Name: p85, dtype: int64\n"
     ]
    }
   ],
   "source": [
    "aadl_index = dados_onda1[aadl].replace(9, np.nan)\n",
    "for q in aadl:\n",
    "    print(aadl_index[q].value_counts())"
   ]
  },
  {
   "cell_type": "code",
   "execution_count": 151,
   "metadata": {},
   "outputs": [],
   "source": [
    "aadl_index = aadl_index.apply(sum, axis=1)"
   ]
  },
  {
   "cell_type": "code",
   "execution_count": 156,
   "metadata": {},
   "outputs": [
    {
     "data": {
      "text/plain": [
       "4.0     1201\n",
       "3.0     1117\n",
       "5.0     1098\n",
       "6.0      977\n",
       "2.0      953\n",
       "7.0      908\n",
       "8.0      696\n",
       "1.0      660\n",
       "9.0      540\n",
       "10.0     406\n",
       "0.0      354\n",
       "11.0     257\n",
       "12.0     131\n",
       "13.0      35\n",
       "14.0      11\n",
       "dtype: int64"
      ]
     },
     "execution_count": 156,
     "metadata": {},
     "output_type": "execute_result"
    }
   ],
   "source": [
    "aadl_index.value_counts()"
   ]
  },
  {
   "cell_type": "code",
   "execution_count": 157,
   "metadata": {},
   "outputs": [],
   "source": [
    "aadl_index.name = 'aadl_index'"
   ]
  },
  {
   "cell_type": "markdown",
   "metadata": {},
   "source": [
    "## IADL"
   ]
  },
  {
   "cell_type": "code",
   "execution_count": 165,
   "metadata": {},
   "outputs": [
    {
     "name": "stdout",
     "output_type": "stream",
     "text": [
      "1    8586\n",
      "4     356\n",
      "2     245\n",
      "3     215\n",
      "9      10\n",
      "Name: p20, dtype: int64\n",
      "1    8250\n",
      "4     552\n",
      "2     304\n",
      "3     296\n",
      "9      10\n",
      "Name: p22, dtype: int64\n",
      "1    7174\n",
      "3     922\n",
      "2     819\n",
      "4     468\n",
      "9      29\n",
      "Name: p24, dtype: int64\n",
      "1    7747\n",
      "4     762\n",
      "2     454\n",
      "3     440\n",
      "9       9\n",
      "Name: p26, dtype: int64\n",
      "1    7830\n",
      "4     742\n",
      "3     438\n",
      "2     385\n",
      "9      17\n",
      "Name: p28, dtype: int64\n",
      "1    7829\n",
      "4     622\n",
      "2     527\n",
      "3     418\n",
      "9      16\n",
      "Name: p30, dtype: int64\n",
      "1    8128\n",
      "2     456\n",
      "4     444\n",
      "3     383\n",
      "9       1\n",
      "Name: p33, dtype: int64\n",
      "1    6303\n",
      "4    1251\n",
      "3     970\n",
      "2     870\n",
      "9      18\n",
      "Name: p35, dtype: int64\n"
     ]
    }
   ],
   "source": [
    "for q in iadl:\n",
    "    print(dados_onda1[q].value_counts())"
   ]
  },
  {
   "cell_type": "code",
   "execution_count": 166,
   "metadata": {},
   "outputs": [],
   "source": [
    "substitutions = {9: np.nan, 1: 1, 2: 1, 3: 1, 4: 0}\n",
    "\n",
    "\n",
    "iadl_df = dados_onda1[iadl].replace(substitutions)\n"
   ]
  },
  {
   "cell_type": "code",
   "execution_count": 168,
   "metadata": {},
   "outputs": [
    {
     "name": "stdout",
     "output_type": "stream",
     "text": [
      "1.0    9046\n",
      "0.0     356\n",
      "Name: p20, dtype: int64\n",
      "1.0    8850\n",
      "0.0     552\n",
      "Name: p22, dtype: int64\n",
      "1.0    8915\n",
      "0.0     468\n",
      "Name: p24, dtype: int64\n",
      "1.0    8641\n",
      "0.0     762\n",
      "Name: p26, dtype: int64\n",
      "1.0    8653\n",
      "0.0     742\n",
      "Name: p28, dtype: int64\n",
      "1.0    8774\n",
      "0.0     622\n",
      "Name: p30, dtype: int64\n",
      "1.0    8967\n",
      "0.0     444\n",
      "Name: p33, dtype: int64\n",
      "1.0    8143\n",
      "0.0    1251\n",
      "Name: p35, dtype: int64\n"
     ]
    }
   ],
   "source": [
    "for q in iadl:\n",
    "    print(iadl_df[q].value_counts())"
   ]
  },
  {
   "cell_type": "code",
   "execution_count": 171,
   "metadata": {},
   "outputs": [],
   "source": [
    "iadl_index = iadl_df.apply(sum, axis=1)"
   ]
  },
  {
   "cell_type": "code",
   "execution_count": 173,
   "metadata": {},
   "outputs": [],
   "source": [
    "iadl_index.name = 'iadl_index'"
   ]
  },
  {
   "cell_type": "markdown",
   "metadata": {},
   "source": [
    "## Final FINAL DF"
   ]
  },
  {
   "cell_type": "code",
   "execution_count": 174,
   "metadata": {},
   "outputs": [
    {
     "data": {
      "text/html": [
       "<div>\n",
       "<style scoped>\n",
       "    .dataframe tbody tr th:only-of-type {\n",
       "        vertical-align: middle;\n",
       "    }\n",
       "\n",
       "    .dataframe tbody tr th {\n",
       "        vertical-align: top;\n",
       "    }\n",
       "\n",
       "    .dataframe thead th {\n",
       "        text-align: right;\n",
       "    }\n",
       "</style>\n",
       "<table border=\"1\" class=\"dataframe\">\n",
       "  <thead>\n",
       "    <tr style=\"text-align: right;\">\n",
       "      <th></th>\n",
       "      <th>handgrip</th>\n",
       "      <th>weight_loss</th>\n",
       "      <th>exaustion</th>\n",
       "      <th>poor_endurance</th>\n",
       "      <th>gait_speed</th>\n",
       "      <th>balance</th>\n",
       "      <th>hearing_deficit</th>\n",
       "      <th>distance_vision</th>\n",
       "      <th>near_vision</th>\n",
       "      <th>depression_scale</th>\n",
       "      <th>...</th>\n",
       "      <th>idade_morador_8</th>\n",
       "      <th>idade_morador_9</th>\n",
       "      <th>idade_morador_10</th>\n",
       "      <th>idade_morador_11</th>\n",
       "      <th>idade_morador_12</th>\n",
       "      <th>idade_morador_13</th>\n",
       "      <th>idade_morador_14</th>\n",
       "      <th>adl_index</th>\n",
       "      <th>aadl_index</th>\n",
       "      <th>iadl_index</th>\n",
       "    </tr>\n",
       "  </thead>\n",
       "  <tbody>\n",
       "    <tr>\n",
       "      <th>0</th>\n",
       "      <td>24.333333</td>\n",
       "      <td>0.0</td>\n",
       "      <td>1.0</td>\n",
       "      <td>1.0</td>\n",
       "      <td>3.500</td>\n",
       "      <td>4.0</td>\n",
       "      <td>2.0</td>\n",
       "      <td>2.0</td>\n",
       "      <td>2.0</td>\n",
       "      <td>2.0</td>\n",
       "      <td>...</td>\n",
       "      <td>NaN</td>\n",
       "      <td>NaN</td>\n",
       "      <td>NaN</td>\n",
       "      <td>NaN</td>\n",
       "      <td>NaN</td>\n",
       "      <td>NaN</td>\n",
       "      <td>NaN</td>\n",
       "      <td>6.0</td>\n",
       "      <td>7.0</td>\n",
       "      <td>8.0</td>\n",
       "    </tr>\n",
       "    <tr>\n",
       "      <th>1</th>\n",
       "      <td>25.666667</td>\n",
       "      <td>0.0</td>\n",
       "      <td>1.0</td>\n",
       "      <td>1.0</td>\n",
       "      <td>3.300</td>\n",
       "      <td>4.0</td>\n",
       "      <td>4.0</td>\n",
       "      <td>3.0</td>\n",
       "      <td>3.0</td>\n",
       "      <td>2.0</td>\n",
       "      <td>...</td>\n",
       "      <td>NaN</td>\n",
       "      <td>NaN</td>\n",
       "      <td>NaN</td>\n",
       "      <td>NaN</td>\n",
       "      <td>NaN</td>\n",
       "      <td>NaN</td>\n",
       "      <td>NaN</td>\n",
       "      <td>5.0</td>\n",
       "      <td>4.0</td>\n",
       "      <td>8.0</td>\n",
       "    </tr>\n",
       "    <tr>\n",
       "      <th>2</th>\n",
       "      <td>14.666667</td>\n",
       "      <td>NaN</td>\n",
       "      <td>2.0</td>\n",
       "      <td>1.0</td>\n",
       "      <td>4.595</td>\n",
       "      <td>4.0</td>\n",
       "      <td>2.0</td>\n",
       "      <td>3.0</td>\n",
       "      <td>4.0</td>\n",
       "      <td>5.0</td>\n",
       "      <td>...</td>\n",
       "      <td>NaN</td>\n",
       "      <td>NaN</td>\n",
       "      <td>NaN</td>\n",
       "      <td>NaN</td>\n",
       "      <td>NaN</td>\n",
       "      <td>NaN</td>\n",
       "      <td>NaN</td>\n",
       "      <td>6.0</td>\n",
       "      <td>7.0</td>\n",
       "      <td>8.0</td>\n",
       "    </tr>\n",
       "    <tr>\n",
       "      <th>3</th>\n",
       "      <td>24.000000</td>\n",
       "      <td>0.0</td>\n",
       "      <td>1.0</td>\n",
       "      <td>1.0</td>\n",
       "      <td>5.610</td>\n",
       "      <td>4.0</td>\n",
       "      <td>3.0</td>\n",
       "      <td>2.0</td>\n",
       "      <td>2.0</td>\n",
       "      <td>3.0</td>\n",
       "      <td>...</td>\n",
       "      <td>NaN</td>\n",
       "      <td>NaN</td>\n",
       "      <td>NaN</td>\n",
       "      <td>NaN</td>\n",
       "      <td>NaN</td>\n",
       "      <td>NaN</td>\n",
       "      <td>NaN</td>\n",
       "      <td>6.0</td>\n",
       "      <td>5.0</td>\n",
       "      <td>8.0</td>\n",
       "    </tr>\n",
       "    <tr>\n",
       "      <th>4</th>\n",
       "      <td>NaN</td>\n",
       "      <td>0.0</td>\n",
       "      <td>4.0</td>\n",
       "      <td>2.0</td>\n",
       "      <td>38.145</td>\n",
       "      <td>NaN</td>\n",
       "      <td>3.0</td>\n",
       "      <td>2.0</td>\n",
       "      <td>3.0</td>\n",
       "      <td>5.0</td>\n",
       "      <td>...</td>\n",
       "      <td>NaN</td>\n",
       "      <td>NaN</td>\n",
       "      <td>NaN</td>\n",
       "      <td>NaN</td>\n",
       "      <td>NaN</td>\n",
       "      <td>NaN</td>\n",
       "      <td>NaN</td>\n",
       "      <td>6.0</td>\n",
       "      <td>3.0</td>\n",
       "      <td>3.0</td>\n",
       "    </tr>\n",
       "    <tr>\n",
       "      <th>...</th>\n",
       "      <td>...</td>\n",
       "      <td>...</td>\n",
       "      <td>...</td>\n",
       "      <td>...</td>\n",
       "      <td>...</td>\n",
       "      <td>...</td>\n",
       "      <td>...</td>\n",
       "      <td>...</td>\n",
       "      <td>...</td>\n",
       "      <td>...</td>\n",
       "      <td>...</td>\n",
       "      <td>...</td>\n",
       "      <td>...</td>\n",
       "      <td>...</td>\n",
       "      <td>...</td>\n",
       "      <td>...</td>\n",
       "      <td>...</td>\n",
       "      <td>...</td>\n",
       "      <td>...</td>\n",
       "      <td>...</td>\n",
       "      <td>...</td>\n",
       "    </tr>\n",
       "    <tr>\n",
       "      <th>9407</th>\n",
       "      <td>22.666667</td>\n",
       "      <td>0.0</td>\n",
       "      <td>2.0</td>\n",
       "      <td>3.0</td>\n",
       "      <td>4.265</td>\n",
       "      <td>3.0</td>\n",
       "      <td>2.0</td>\n",
       "      <td>2.0</td>\n",
       "      <td>2.0</td>\n",
       "      <td>1.0</td>\n",
       "      <td>...</td>\n",
       "      <td>NaN</td>\n",
       "      <td>NaN</td>\n",
       "      <td>NaN</td>\n",
       "      <td>NaN</td>\n",
       "      <td>NaN</td>\n",
       "      <td>NaN</td>\n",
       "      <td>NaN</td>\n",
       "      <td>5.0</td>\n",
       "      <td>11.0</td>\n",
       "      <td>8.0</td>\n",
       "    </tr>\n",
       "    <tr>\n",
       "      <th>9408</th>\n",
       "      <td>20.333333</td>\n",
       "      <td>0.0</td>\n",
       "      <td>1.0</td>\n",
       "      <td>1.0</td>\n",
       "      <td>5.800</td>\n",
       "      <td>NaN</td>\n",
       "      <td>3.0</td>\n",
       "      <td>2.0</td>\n",
       "      <td>2.0</td>\n",
       "      <td>4.0</td>\n",
       "      <td>...</td>\n",
       "      <td>NaN</td>\n",
       "      <td>NaN</td>\n",
       "      <td>NaN</td>\n",
       "      <td>NaN</td>\n",
       "      <td>NaN</td>\n",
       "      <td>NaN</td>\n",
       "      <td>NaN</td>\n",
       "      <td>5.0</td>\n",
       "      <td>7.0</td>\n",
       "      <td>7.0</td>\n",
       "    </tr>\n",
       "    <tr>\n",
       "      <th>9409</th>\n",
       "      <td>26.666667</td>\n",
       "      <td>0.0</td>\n",
       "      <td>1.0</td>\n",
       "      <td>1.0</td>\n",
       "      <td>NaN</td>\n",
       "      <td>NaN</td>\n",
       "      <td>2.0</td>\n",
       "      <td>3.0</td>\n",
       "      <td>2.0</td>\n",
       "      <td>4.0</td>\n",
       "      <td>...</td>\n",
       "      <td>NaN</td>\n",
       "      <td>NaN</td>\n",
       "      <td>NaN</td>\n",
       "      <td>NaN</td>\n",
       "      <td>NaN</td>\n",
       "      <td>NaN</td>\n",
       "      <td>NaN</td>\n",
       "      <td>6.0</td>\n",
       "      <td>6.0</td>\n",
       "      <td>7.0</td>\n",
       "    </tr>\n",
       "    <tr>\n",
       "      <th>9410</th>\n",
       "      <td>38.333333</td>\n",
       "      <td>1.0</td>\n",
       "      <td>3.0</td>\n",
       "      <td>2.0</td>\n",
       "      <td>NaN</td>\n",
       "      <td>NaN</td>\n",
       "      <td>2.0</td>\n",
       "      <td>2.0</td>\n",
       "      <td>2.0</td>\n",
       "      <td>7.0</td>\n",
       "      <td>...</td>\n",
       "      <td>NaN</td>\n",
       "      <td>NaN</td>\n",
       "      <td>NaN</td>\n",
       "      <td>NaN</td>\n",
       "      <td>NaN</td>\n",
       "      <td>NaN</td>\n",
       "      <td>NaN</td>\n",
       "      <td>6.0</td>\n",
       "      <td>8.0</td>\n",
       "      <td>8.0</td>\n",
       "    </tr>\n",
       "    <tr>\n",
       "      <th>9411</th>\n",
       "      <td>18.333333</td>\n",
       "      <td>0.0</td>\n",
       "      <td>1.0</td>\n",
       "      <td>1.0</td>\n",
       "      <td>5.270</td>\n",
       "      <td>4.0</td>\n",
       "      <td>1.0</td>\n",
       "      <td>2.0</td>\n",
       "      <td>2.0</td>\n",
       "      <td>5.0</td>\n",
       "      <td>...</td>\n",
       "      <td>NaN</td>\n",
       "      <td>NaN</td>\n",
       "      <td>NaN</td>\n",
       "      <td>NaN</td>\n",
       "      <td>NaN</td>\n",
       "      <td>NaN</td>\n",
       "      <td>NaN</td>\n",
       "      <td>5.0</td>\n",
       "      <td>11.0</td>\n",
       "      <td>8.0</td>\n",
       "    </tr>\n",
       "  </tbody>\n",
       "</table>\n",
       "<p>9412 rows × 63 columns</p>\n",
       "</div>"
      ],
      "text/plain": [
       "       handgrip  weight_loss  exaustion  poor_endurance  gait_speed  balance  \\\n",
       "0     24.333333          0.0        1.0             1.0       3.500      4.0   \n",
       "1     25.666667          0.0        1.0             1.0       3.300      4.0   \n",
       "2     14.666667          NaN        2.0             1.0       4.595      4.0   \n",
       "3     24.000000          0.0        1.0             1.0       5.610      4.0   \n",
       "4           NaN          0.0        4.0             2.0      38.145      NaN   \n",
       "...         ...          ...        ...             ...         ...      ...   \n",
       "9407  22.666667          0.0        2.0             3.0       4.265      3.0   \n",
       "9408  20.333333          0.0        1.0             1.0       5.800      NaN   \n",
       "9409  26.666667          0.0        1.0             1.0         NaN      NaN   \n",
       "9410  38.333333          1.0        3.0             2.0         NaN      NaN   \n",
       "9411  18.333333          0.0        1.0             1.0       5.270      4.0   \n",
       "\n",
       "      hearing_deficit  distance_vision  near_vision  depression_scale  ...  \\\n",
       "0                 2.0              2.0          2.0               2.0  ...   \n",
       "1                 4.0              3.0          3.0               2.0  ...   \n",
       "2                 2.0              3.0          4.0               5.0  ...   \n",
       "3                 3.0              2.0          2.0               3.0  ...   \n",
       "4                 3.0              2.0          3.0               5.0  ...   \n",
       "...               ...              ...          ...               ...  ...   \n",
       "9407              2.0              2.0          2.0               1.0  ...   \n",
       "9408              3.0              2.0          2.0               4.0  ...   \n",
       "9409              2.0              3.0          2.0               4.0  ...   \n",
       "9410              2.0              2.0          2.0               7.0  ...   \n",
       "9411              1.0              2.0          2.0               5.0  ...   \n",
       "\n",
       "      idade_morador_8  idade_morador_9  idade_morador_10  idade_morador_11  \\\n",
       "0                 NaN              NaN               NaN               NaN   \n",
       "1                 NaN              NaN               NaN               NaN   \n",
       "2                 NaN              NaN               NaN               NaN   \n",
       "3                 NaN              NaN               NaN               NaN   \n",
       "4                 NaN              NaN               NaN               NaN   \n",
       "...               ...              ...               ...               ...   \n",
       "9407              NaN              NaN               NaN               NaN   \n",
       "9408              NaN              NaN               NaN               NaN   \n",
       "9409              NaN              NaN               NaN               NaN   \n",
       "9410              NaN              NaN               NaN               NaN   \n",
       "9411              NaN              NaN               NaN               NaN   \n",
       "\n",
       "      idade_morador_12  idade_morador_13  idade_morador_14  adl_index  \\\n",
       "0                  NaN               NaN               NaN        6.0   \n",
       "1                  NaN               NaN               NaN        5.0   \n",
       "2                  NaN               NaN               NaN        6.0   \n",
       "3                  NaN               NaN               NaN        6.0   \n",
       "4                  NaN               NaN               NaN        6.0   \n",
       "...                ...               ...               ...        ...   \n",
       "9407               NaN               NaN               NaN        5.0   \n",
       "9408               NaN               NaN               NaN        5.0   \n",
       "9409               NaN               NaN               NaN        6.0   \n",
       "9410               NaN               NaN               NaN        6.0   \n",
       "9411               NaN               NaN               NaN        5.0   \n",
       "\n",
       "      aadl_index  iadl_index  \n",
       "0            7.0         8.0  \n",
       "1            4.0         8.0  \n",
       "2            7.0         8.0  \n",
       "3            5.0         8.0  \n",
       "4            3.0         3.0  \n",
       "...          ...         ...  \n",
       "9407        11.0         8.0  \n",
       "9408         7.0         7.0  \n",
       "9409         6.0         7.0  \n",
       "9410         8.0         8.0  \n",
       "9411        11.0         8.0  \n",
       "\n",
       "[9412 rows x 63 columns]"
      ]
     },
     "execution_count": 174,
     "metadata": {},
     "output_type": "execute_result"
    }
   ],
   "source": [
    "df = pd.concat([vitality_df, locomotor_df, sensory_df, psychological_df, cognitive_df, socio_dem, adl_df['adl_index'], aadl_index, iadl_index], axis=1)\n",
    "df"
   ]
  },
  {
   "cell_type": "code",
   "execution_count": 175,
   "metadata": {},
   "outputs": [
    {
     "data": {
      "text/plain": [
       "Index(['handgrip', 'weight_loss', 'exaustion', 'poor_endurance', 'gait_speed',\n",
       "       'balance', 'hearing_deficit', 'distance_vision', 'near_vision',\n",
       "       'depression_scale', 'sleep_quality', 'temporal_orientation',\n",
       "       'memory_recall', 'semantic_memory', 'verbal_fluency', 'sexo', 'regiao',\n",
       "       'etinia', 'sexo_morador_1', 'sexo_morador_2', 'sexo_morador_3',\n",
       "       'sexo_morador_4', 'sexo_morador_5', 'sexo_morador_6', 'sexo_morador_7',\n",
       "       'sexo_morador_8', 'sexo_morador_9', 'sexo_morador_10',\n",
       "       'sexo_morador_11', 'sexo_morador_12', 'sexo_morador_13',\n",
       "       'sexo_morador_14', 'papel_morador_1', 'papel_morador_2',\n",
       "       'papel_morador_3', 'papel_morador_4', 'papel_morador_5',\n",
       "       'papel_morador_6', 'papel_morador_7', 'papel_morador_8',\n",
       "       'papel_morador_9', 'papel_morador_10', 'papel_morador_11',\n",
       "       'papel_morador_12', 'papel_morador_13', 'papel_morador_14',\n",
       "       'idade_morador_1', 'idade_morador_2', 'idade_morador_3',\n",
       "       'idade_morador_4', 'idade_morador_5', 'idade_morador_6',\n",
       "       'idade_morador_7', 'idade_morador_8', 'idade_morador_9',\n",
       "       'idade_morador_10', 'idade_morador_11', 'idade_morador_12',\n",
       "       'idade_morador_13', 'idade_morador_14', 'adl_index', 'aadl_index',\n",
       "       'iadl_index'],\n",
       "      dtype='object')"
      ]
     },
     "execution_count": 175,
     "metadata": {},
     "output_type": "execute_result"
    }
   ],
   "source": [
    "df.columns"
   ]
  },
  {
   "cell_type": "code",
   "execution_count": 176,
   "metadata": {},
   "outputs": [
    {
     "data": {
      "text/html": [
       "<div>\n",
       "<style scoped>\n",
       "    .dataframe tbody tr th:only-of-type {\n",
       "        vertical-align: middle;\n",
       "    }\n",
       "\n",
       "    .dataframe tbody tr th {\n",
       "        vertical-align: top;\n",
       "    }\n",
       "\n",
       "    .dataframe thead th {\n",
       "        text-align: right;\n",
       "    }\n",
       "</style>\n",
       "<table border=\"1\" class=\"dataframe\">\n",
       "  <thead>\n",
       "    <tr style=\"text-align: right;\">\n",
       "      <th></th>\n",
       "      <th>handgrip</th>\n",
       "      <th>weight_loss</th>\n",
       "      <th>exaustion</th>\n",
       "      <th>poor_endurance</th>\n",
       "      <th>gait_speed</th>\n",
       "      <th>balance</th>\n",
       "      <th>hearing_deficit</th>\n",
       "      <th>distance_vision</th>\n",
       "      <th>near_vision</th>\n",
       "      <th>depression_scale</th>\n",
       "      <th>...</th>\n",
       "      <th>idade_morador_8</th>\n",
       "      <th>idade_morador_9</th>\n",
       "      <th>idade_morador_10</th>\n",
       "      <th>idade_morador_11</th>\n",
       "      <th>idade_morador_12</th>\n",
       "      <th>idade_morador_13</th>\n",
       "      <th>idade_morador_14</th>\n",
       "      <th>adl_index</th>\n",
       "      <th>aadl_index</th>\n",
       "      <th>iadl_index</th>\n",
       "    </tr>\n",
       "  </thead>\n",
       "  <tbody>\n",
       "    <tr>\n",
       "      <th>count</th>\n",
       "      <td>8873.000000</td>\n",
       "      <td>9084.000000</td>\n",
       "      <td>9244.000000</td>\n",
       "      <td>9246.000000</td>\n",
       "      <td>8840.000000</td>\n",
       "      <td>8437.000000</td>\n",
       "      <td>9399.000000</td>\n",
       "      <td>9387.000000</td>\n",
       "      <td>9393.000000</td>\n",
       "      <td>8303.000000</td>\n",
       "      <td>...</td>\n",
       "      <td>76.000000</td>\n",
       "      <td>36.000000</td>\n",
       "      <td>18.000000</td>\n",
       "      <td>8.000000</td>\n",
       "      <td>6.000000</td>\n",
       "      <td>1.0</td>\n",
       "      <td>1.0</td>\n",
       "      <td>9386.000000</td>\n",
       "      <td>9344.000000</td>\n",
       "      <td>9324.000000</td>\n",
       "    </tr>\n",
       "    <tr>\n",
       "      <th>mean</th>\n",
       "      <td>25.421729</td>\n",
       "      <td>0.180207</td>\n",
       "      <td>1.609585</td>\n",
       "      <td>1.713606</td>\n",
       "      <td>4.782973</td>\n",
       "      <td>3.651653</td>\n",
       "      <td>2.263751</td>\n",
       "      <td>2.463407</td>\n",
       "      <td>2.548387</td>\n",
       "      <td>3.955197</td>\n",
       "      <td>...</td>\n",
       "      <td>12.473684</td>\n",
       "      <td>10.805556</td>\n",
       "      <td>13.055556</td>\n",
       "      <td>14.750000</td>\n",
       "      <td>13.333333</td>\n",
       "      <td>23.0</td>\n",
       "      <td>25.0</td>\n",
       "      <td>5.803111</td>\n",
       "      <td>5.128960</td>\n",
       "      <td>7.450236</td>\n",
       "    </tr>\n",
       "    <tr>\n",
       "      <th>std</th>\n",
       "      <td>9.977432</td>\n",
       "      <td>0.384381</td>\n",
       "      <td>1.028112</td>\n",
       "      <td>1.073987</td>\n",
       "      <td>3.220193</td>\n",
       "      <td>0.759109</td>\n",
       "      <td>0.773109</td>\n",
       "      <td>0.929669</td>\n",
       "      <td>0.915875</td>\n",
       "      <td>1.762156</td>\n",
       "      <td>...</td>\n",
       "      <td>16.152171</td>\n",
       "      <td>10.358763</td>\n",
       "      <td>15.975983</td>\n",
       "      <td>13.604096</td>\n",
       "      <td>14.706008</td>\n",
       "      <td>NaN</td>\n",
       "      <td>NaN</td>\n",
       "      <td>0.680668</td>\n",
       "      <td>2.961915</td>\n",
       "      <td>1.392657</td>\n",
       "    </tr>\n",
       "    <tr>\n",
       "      <th>min</th>\n",
       "      <td>1.000000</td>\n",
       "      <td>0.000000</td>\n",
       "      <td>1.000000</td>\n",
       "      <td>1.000000</td>\n",
       "      <td>1.010000</td>\n",
       "      <td>0.000000</td>\n",
       "      <td>1.000000</td>\n",
       "      <td>1.000000</td>\n",
       "      <td>1.000000</td>\n",
       "      <td>0.000000</td>\n",
       "      <td>...</td>\n",
       "      <td>1.000000</td>\n",
       "      <td>1.000000</td>\n",
       "      <td>1.000000</td>\n",
       "      <td>3.000000</td>\n",
       "      <td>1.000000</td>\n",
       "      <td>23.0</td>\n",
       "      <td>25.0</td>\n",
       "      <td>0.000000</td>\n",
       "      <td>0.000000</td>\n",
       "      <td>0.000000</td>\n",
       "    </tr>\n",
       "    <tr>\n",
       "      <th>25%</th>\n",
       "      <td>18.000000</td>\n",
       "      <td>0.000000</td>\n",
       "      <td>1.000000</td>\n",
       "      <td>1.000000</td>\n",
       "      <td>3.440000</td>\n",
       "      <td>4.000000</td>\n",
       "      <td>2.000000</td>\n",
       "      <td>2.000000</td>\n",
       "      <td>2.000000</td>\n",
       "      <td>2.000000</td>\n",
       "      <td>...</td>\n",
       "      <td>2.000000</td>\n",
       "      <td>1.750000</td>\n",
       "      <td>3.000000</td>\n",
       "      <td>6.250000</td>\n",
       "      <td>2.500000</td>\n",
       "      <td>23.0</td>\n",
       "      <td>25.0</td>\n",
       "      <td>6.000000</td>\n",
       "      <td>3.000000</td>\n",
       "      <td>8.000000</td>\n",
       "    </tr>\n",
       "    <tr>\n",
       "      <th>50%</th>\n",
       "      <td>24.000000</td>\n",
       "      <td>0.000000</td>\n",
       "      <td>1.000000</td>\n",
       "      <td>1.000000</td>\n",
       "      <td>4.230000</td>\n",
       "      <td>4.000000</td>\n",
       "      <td>2.000000</td>\n",
       "      <td>2.000000</td>\n",
       "      <td>2.000000</td>\n",
       "      <td>4.000000</td>\n",
       "      <td>...</td>\n",
       "      <td>8.500000</td>\n",
       "      <td>8.500000</td>\n",
       "      <td>6.500000</td>\n",
       "      <td>8.500000</td>\n",
       "      <td>7.000000</td>\n",
       "      <td>23.0</td>\n",
       "      <td>25.0</td>\n",
       "      <td>6.000000</td>\n",
       "      <td>5.000000</td>\n",
       "      <td>8.000000</td>\n",
       "    </tr>\n",
       "    <tr>\n",
       "      <th>75%</th>\n",
       "      <td>31.666667</td>\n",
       "      <td>0.000000</td>\n",
       "      <td>2.000000</td>\n",
       "      <td>2.000000</td>\n",
       "      <td>5.300000</td>\n",
       "      <td>4.000000</td>\n",
       "      <td>3.000000</td>\n",
       "      <td>3.000000</td>\n",
       "      <td>3.000000</td>\n",
       "      <td>5.000000</td>\n",
       "      <td>...</td>\n",
       "      <td>16.250000</td>\n",
       "      <td>13.750000</td>\n",
       "      <td>12.000000</td>\n",
       "      <td>20.250000</td>\n",
       "      <td>25.750000</td>\n",
       "      <td>23.0</td>\n",
       "      <td>25.0</td>\n",
       "      <td>6.000000</td>\n",
       "      <td>7.000000</td>\n",
       "      <td>8.000000</td>\n",
       "    </tr>\n",
       "    <tr>\n",
       "      <th>max</th>\n",
       "      <td>71.333333</td>\n",
       "      <td>1.000000</td>\n",
       "      <td>4.000000</td>\n",
       "      <td>4.000000</td>\n",
       "      <td>73.640000</td>\n",
       "      <td>4.000000</td>\n",
       "      <td>5.000000</td>\n",
       "      <td>5.000000</td>\n",
       "      <td>5.000000</td>\n",
       "      <td>8.000000</td>\n",
       "      <td>...</td>\n",
       "      <td>95.000000</td>\n",
       "      <td>38.000000</td>\n",
       "      <td>57.000000</td>\n",
       "      <td>36.000000</td>\n",
       "      <td>32.000000</td>\n",
       "      <td>23.0</td>\n",
       "      <td>25.0</td>\n",
       "      <td>6.000000</td>\n",
       "      <td>14.000000</td>\n",
       "      <td>8.000000</td>\n",
       "    </tr>\n",
       "  </tbody>\n",
       "</table>\n",
       "<p>8 rows × 63 columns</p>\n",
       "</div>"
      ],
      "text/plain": [
       "          handgrip  weight_loss    exaustion  poor_endurance   gait_speed  \\\n",
       "count  8873.000000  9084.000000  9244.000000     9246.000000  8840.000000   \n",
       "mean     25.421729     0.180207     1.609585        1.713606     4.782973   \n",
       "std       9.977432     0.384381     1.028112        1.073987     3.220193   \n",
       "min       1.000000     0.000000     1.000000        1.000000     1.010000   \n",
       "25%      18.000000     0.000000     1.000000        1.000000     3.440000   \n",
       "50%      24.000000     0.000000     1.000000        1.000000     4.230000   \n",
       "75%      31.666667     0.000000     2.000000        2.000000     5.300000   \n",
       "max      71.333333     1.000000     4.000000        4.000000    73.640000   \n",
       "\n",
       "           balance  hearing_deficit  distance_vision  near_vision  \\\n",
       "count  8437.000000      9399.000000      9387.000000  9393.000000   \n",
       "mean      3.651653         2.263751         2.463407     2.548387   \n",
       "std       0.759109         0.773109         0.929669     0.915875   \n",
       "min       0.000000         1.000000         1.000000     1.000000   \n",
       "25%       4.000000         2.000000         2.000000     2.000000   \n",
       "50%       4.000000         2.000000         2.000000     2.000000   \n",
       "75%       4.000000         3.000000         3.000000     3.000000   \n",
       "max       4.000000         5.000000         5.000000     5.000000   \n",
       "\n",
       "       depression_scale  ...  idade_morador_8  idade_morador_9  \\\n",
       "count       8303.000000  ...        76.000000        36.000000   \n",
       "mean           3.955197  ...        12.473684        10.805556   \n",
       "std            1.762156  ...        16.152171        10.358763   \n",
       "min            0.000000  ...         1.000000         1.000000   \n",
       "25%            2.000000  ...         2.000000         1.750000   \n",
       "50%            4.000000  ...         8.500000         8.500000   \n",
       "75%            5.000000  ...        16.250000        13.750000   \n",
       "max            8.000000  ...        95.000000        38.000000   \n",
       "\n",
       "       idade_morador_10  idade_morador_11  idade_morador_12  idade_morador_13  \\\n",
       "count         18.000000          8.000000          6.000000               1.0   \n",
       "mean          13.055556         14.750000         13.333333              23.0   \n",
       "std           15.975983         13.604096         14.706008               NaN   \n",
       "min            1.000000          3.000000          1.000000              23.0   \n",
       "25%            3.000000          6.250000          2.500000              23.0   \n",
       "50%            6.500000          8.500000          7.000000              23.0   \n",
       "75%           12.000000         20.250000         25.750000              23.0   \n",
       "max           57.000000         36.000000         32.000000              23.0   \n",
       "\n",
       "       idade_morador_14    adl_index   aadl_index   iadl_index  \n",
       "count               1.0  9386.000000  9344.000000  9324.000000  \n",
       "mean               25.0     5.803111     5.128960     7.450236  \n",
       "std                 NaN     0.680668     2.961915     1.392657  \n",
       "min                25.0     0.000000     0.000000     0.000000  \n",
       "25%                25.0     6.000000     3.000000     8.000000  \n",
       "50%                25.0     6.000000     5.000000     8.000000  \n",
       "75%                25.0     6.000000     7.000000     8.000000  \n",
       "max                25.0     6.000000    14.000000     8.000000  \n",
       "\n",
       "[8 rows x 63 columns]"
      ]
     },
     "execution_count": 176,
     "metadata": {},
     "output_type": "execute_result"
    }
   ],
   "source": [
    "df.describe()"
   ]
  },
  {
   "cell_type": "code",
   "execution_count": null,
   "metadata": {},
   "outputs": [],
   "source": [
    "df.to_csv('Data/processed_df.csv', index=False)"
   ]
  }
 ],
 "metadata": {
  "kernelspec": {
   "display_name": "Python 3",
   "language": "python",
   "name": "python3"
  },
  "language_info": {
   "codemirror_mode": {
    "name": "ipython",
    "version": 3
   },
   "file_extension": ".py",
   "mimetype": "text/x-python",
   "name": "python",
   "nbconvert_exporter": "python",
   "pygments_lexer": "ipython3",
   "version": "3.10.3"
  },
  "orig_nbformat": 4
 },
 "nbformat": 4,
 "nbformat_minor": 2
}
