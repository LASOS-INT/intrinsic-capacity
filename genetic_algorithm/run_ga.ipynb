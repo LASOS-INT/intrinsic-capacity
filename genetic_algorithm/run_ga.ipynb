{
 "cells": [
  {
   "cell_type": "code",
   "execution_count": 1,
   "metadata": {},
   "outputs": [],
   "source": [
    "import pandas as pd\n",
    "import numpy as np\n",
    "import matplotlib.pyplot as plt\n",
    "import seaborn as sns\n",
    "from keras.models import Sequential, Model\n",
    "from keras.layers import Dense, Input\n",
    "from keras.optimizers import Adam\n",
    "from sklearn.preprocessing import MinMaxScaler\n",
    "from sklearn.decomposition import PCA\n",
    "from sklearn.model_selection import train_test_split\n",
    "from sklearn.preprocessing import StandardScaler\n",
    "##del(GA_assymetric_autoencoder)\n",
    "from genetic_algorithm import GA_assymetric_autoencoder\n",
    "import tensorflow as tf\n",
    "import numpy as np\n",
    "\n",
    "from tensorflow.keras.layers import Flatten,Dense,Input,Reshape\n",
    "from tensorflow.keras.models import Sequential\n",
    "from random import randrange\n",
    "\n",
    "\n",
    "df = pd.read_csv('../Data/processed_df.csv')\n",
    "\n",
    "\n",
    "ci_map = {\n",
    "    'cognitive': ['semantic_memory', 'verbal_fluency', 'memory_recall', 'temporal_orientation'],\n",
    "    'psychologicao': ['depression_scale', 'sleep_quality'],\n",
    "    'locomotor': ['gait_speed', 'balance'],\n",
    "    'vitality': ['handgrip', 'poor_endurance', 'weight_loss', 'exaustion'],\n",
    "    'sensory': ['distance_vision', 'near_vision', 'hearing_deficit']\n",
    "}\n"
   ]
  },
  {
   "cell_type": "code",
   "execution_count": 2,
   "metadata": {},
   "outputs": [
    {
     "data": {
      "text/plain": [
       "(6955, 63)"
      ]
     },
     "execution_count": 2,
     "metadata": {},
     "output_type": "execute_result"
    }
   ],
   "source": [
    "\n",
    "# ci_map = {\n",
    "#     'cognitive': ['semantic_memory', 'verbal_fluency', 'memory_recall'],\n",
    "#     'psychologicao': ['depression_scale', 'sleep_quality'],\n",
    "#     'locomotor': ['gait_speed', 'balance'],\n",
    "#     'vitality': ['handgrip', 'poor_endurance', 'weight_loss', 'exaustion'],\n",
    "#     'sensory': ['distance_vision', 'near_vision', 'hearing_deficit']\n",
    "# }\n",
    "ci_cols = []\n",
    "[ci_cols.extend(value) for value in ci_map.values()]\n",
    "\n",
    "df_clean = df.dropna(subset=ci_cols)\n",
    "df_clean.shape\n"
   ]
  },
  {
   "cell_type": "code",
   "execution_count": 3,
   "metadata": {},
   "outputs": [
    {
     "data": {
      "text/plain": [
       "((4173, 15), (1391, 15), (1391, 15))"
      ]
     },
     "execution_count": 3,
     "metadata": {},
     "output_type": "execute_result"
    }
   ],
   "source": [
    "\n",
    "# Define dataset\n",
    "df_autoencoder = df_clean[ci_cols]\n",
    "# Split the data into training and testing sets\n",
    "X_train, X_test = train_test_split(df_autoencoder, test_size=0.2, random_state=42)\n",
    "X_train, X_val = train_test_split(X_train, test_size=0.25, random_state=42)\n",
    "\n",
    "\n",
    "scaler = StandardScaler()\n",
    "scaler.fit(X_train)\n",
    "X_train_scaled = scaler.transform(X_train)\n",
    "X_val_scaled = scaler.transform(X_val)\n",
    "X_test_scaled = scaler.transform(X_test)\n",
    "\n",
    "X_train_scaled.shape, X_val_scaled.shape, X_test_scaled.shape\n"
   ]
  },
  {
   "cell_type": "code",
   "execution_count": 7,
   "metadata": {},
   "outputs": [],
   "source": [
    "\n",
    "\n",
    "\n",
    "\n",
    "# DNA[0] = activations\n",
    "# DNA[1] = optimizer\n",
    "DNA_parameter = [[\"tanh\",\"softmax\",\"relu\",\"sigmoid\",\"linear\"],\n",
    "                 [\"sgd\",\"adam\"]]\n",
    "\n",
    "\n",
    "ga = GA_assymetric_autoencoder(\n",
    "    shape=df_autoencoder.shape[1],\n",
    "    coding_size=1, \n",
    "    X_train=X_train_scaled, \n",
    "    X_test=X_val_scaled, \n",
    "    DNA_parameter=DNA_parameter, \n",
    "    epochs=50\n",
    ")\n",
    "\n",
    "\n",
    "# archs = ga.create_population(hidden_layers_encoder=4, hidden_layers_decoder=3)\n",
    "# results = ga.GA(population=archs, n_generations=100)\n",
    "\n",
    "\n",
    "# best_result = max(results, key=lambda x: x['s'])\n",
    "# print(best_result)"
   ]
  },
  {
   "cell_type": "code",
   "execution_count": 8,
   "metadata": {},
   "outputs": [],
   "source": [
    "archs = ga.create_population(hidden_layers_encoder=4, hidden_layers_decoder=0)"
   ]
  },
  {
   "cell_type": "code",
   "execution_count": 11,
   "metadata": {},
   "outputs": [
    {
     "name": "stdout",
     "output_type": "stream",
     "text": [
      "------------------------------\n",
      "15 None\n",
      "52 tanh\n",
      "42 tanh\n",
      "7 relu\n",
      "1 relu\n",
      "15 softmax\n",
      "optimizer sgd\n",
      "------------------------------\n"
     ]
    }
   ],
   "source": [
    "ga.print_architecture(archs[6])"
   ]
  },
  {
   "cell_type": "code",
   "execution_count": 8,
   "metadata": {},
   "outputs": [
    {
     "data": {
      "text/plain": [
       "20"
      ]
     },
     "execution_count": 8,
     "metadata": {},
     "output_type": "execute_result"
    }
   ],
   "source": [
    "len(archs)"
   ]
  },
  {
   "cell_type": "code",
   "execution_count": 21,
   "metadata": {},
   "outputs": [
    {
     "name": "stdout",
     "output_type": "stream",
     "text": [
      "------------------------------\n",
      "15 None\n",
      "59 tanh\n",
      "12 sigmoid\n",
      "4 softmax\n",
      "2 softmax\n",
      "15 softmax\n",
      "optimizer sgd\n",
      "------------------------------\n"
     ]
    }
   ],
   "source": [
    "ga.print_architecture(archs[8])"
   ]
  },
  {
   "cell_type": "code",
   "execution_count": 28,
   "metadata": {},
   "outputs": [
    {
     "name": "stdout",
     "output_type": "stream",
     "text": [
      "------------------------------\n",
      "15 None\n",
      "42 softmax\n",
      "9 softmax\n",
      "3 linear\n",
      "2 softmax\n",
      "15 softmax\n",
      "optimizer adam\n",
      "------------------------------\n"
     ]
    }
   ],
   "source": [
    "ga.print_architecture(ga.mutate(archs[8]))"
   ]
  },
  {
   "cell_type": "code",
   "execution_count": null,
   "metadata": {},
   "outputs": [],
   "source": [
    "# 20%"
   ]
  }
 ],
 "metadata": {
  "kernelspec": {
   "display_name": "myenv",
   "language": "python",
   "name": "python3"
  },
  "language_info": {
   "codemirror_mode": {
    "name": "ipython",
    "version": 3
   },
   "file_extension": ".py",
   "mimetype": "text/x-python",
   "name": "python",
   "nbconvert_exporter": "python",
   "pygments_lexer": "ipython3",
   "version": "3.10.3"
  },
  "orig_nbformat": 4
 },
 "nbformat": 4,
 "nbformat_minor": 2
}
