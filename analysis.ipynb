{
 "cells": [
  {
   "cell_type": "code",
   "execution_count": 37,
   "metadata": {},
   "outputs": [],
   "source": [
    "import pandas as pd \n",
    "import numpy as np\n",
    "\n",
    "# Configurar o número máximo de colunas exibidas\n",
    "pd.set_option('display.max_columns', 100)\n",
    "\n",
    "# Configurar o número máximo de linhas exibidas\n",
    "pd.set_option('display.max_rows', 100)\n",
    "np.set_printoptions(threshold=np.inf)"
   ]
  },
  {
   "cell_type": "code",
   "execution_count": 4,
   "metadata": {},
   "outputs": [],
   "source": [
    "onda1 = pd.read_csv('./BASES-ELSI/ELSI_Portugues_1a_onda.csv')"
   ]
  },
  {
   "cell_type": "code",
   "execution_count": 6,
   "metadata": {},
   "outputs": [],
   "source": [
    "onda2 = pd.read_csv('./BASES-ELSI/ELSI Portugues (2a onda).csv')"
   ]
  },
  {
   "cell_type": "code",
   "execution_count": 21,
   "metadata": {},
   "outputs": [],
   "source": [
    "onda2['id2_p'] = onda2['id2'].astype(str).str[4:].astype(int)"
   ]
  },
  {
   "cell_type": "code",
   "execution_count": 59,
   "metadata": {},
   "outputs": [
    {
     "data": {
      "text/plain": [
       "0       65\n",
       "1       67\n",
       "2       83\n",
       "3       83\n",
       "4       94\n",
       "        ..\n",
       "9944    58\n",
       "9945    59\n",
       "9946    58\n",
       "9947    71\n",
       "9948    70\n",
       "Name: idade, Length: 9949, dtype: int64"
      ]
     },
     "execution_count": 59,
     "metadata": {},
     "output_type": "execute_result"
    }
   ],
   "source": [
    "onda2['idade']"
   ]
  },
  {
   "cell_type": "markdown",
   "metadata": {},
   "source": [
    "Colunas para o merge\n",
    "\n",
    "- iddom e iddom2\n",
    "- ar8 e ar8\n"
   ]
  },
  {
   "cell_type": "code",
   "execution_count": 65,
   "metadata": {},
   "outputs": [
    {
     "data": {
      "text/plain": [
       "(0       12may2015\n",
       " 1       12may2015\n",
       " 2       13may2015\n",
       " 3       14may2015\n",
       " 4       15may2015\n",
       "           ...    \n",
       " 9407    09aug2016\n",
       " 9408    10aug2016\n",
       " 9409    13aug2016\n",
       " 9410    15aug2016\n",
       " 9411    15aug2016\n",
       " Name: ar4, Length: 9412, dtype: object,\n",
       " 0       52\n",
       " 1       72\n",
       " 2       58\n",
       " 3       73\n",
       " 4       68\n",
       "         ..\n",
       " 9407    52\n",
       " 9408    75\n",
       " 9409    81\n",
       " 9410    51\n",
       " 9411    79\n",
       " Name: ar10, Length: 9412, dtype: int64)"
      ]
     },
     "execution_count": 65,
     "metadata": {},
     "output_type": "execute_result"
    }
   ],
   "source": [
    "onda1['ar4'], onda1['ar10']"
   ]
  },
  {
   "cell_type": "code",
   "execution_count": 51,
   "metadata": {},
   "outputs": [],
   "source": [
    "merged_ondas = onda1.merge(onda2, left_on='iddom', right_on='iddom2', how='inner')"
   ]
  },
  {
   "cell_type": "code",
   "execution_count": 54,
   "metadata": {},
   "outputs": [
    {
     "data": {
      "text/plain": [
       "((11306, 2058), (9412, 1082), (9949, 976))"
      ]
     },
     "execution_count": 54,
     "metadata": {},
     "output_type": "execute_result"
    }
   ],
   "source": [
    "merged_ondas.shape, onda1.shape, onda2.shape"
   ]
  },
  {
   "cell_type": "code",
   "execution_count": 69,
   "metadata": {},
   "outputs": [],
   "source": [
    "merged_ondas['sexo_id'] = merged_ondas['sexo_x'] + merged_ondas['sexo2'] "
   ]
  },
  {
   "cell_type": "code",
   "execution_count": 70,
   "metadata": {},
   "outputs": [
    {
     "data": {
      "text/plain": [
       "1.0    4021\n",
       "0.0    2753\n",
       "2.0    1428\n",
       "Name: sexo_id, dtype: int64"
      ]
     },
     "execution_count": 70,
     "metadata": {},
     "output_type": "execute_result"
    }
   ],
   "source": [
    "merged_ondas['sexo_id'].value_counts()"
   ]
  }
 ],
 "metadata": {
  "kernelspec": {
   "display_name": "Python 3",
   "language": "python",
   "name": "python3"
  },
  "language_info": {
   "codemirror_mode": {
    "name": "ipython",
    "version": 3
   },
   "file_extension": ".py",
   "mimetype": "text/x-python",
   "name": "python",
   "nbconvert_exporter": "python",
   "pygments_lexer": "ipython3",
   "version": "3.10.3"
  },
  "orig_nbformat": 4
 },
 "nbformat": 4,
 "nbformat_minor": 2
}
